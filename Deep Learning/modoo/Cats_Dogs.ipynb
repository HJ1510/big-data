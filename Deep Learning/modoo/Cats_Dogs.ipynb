{
 "cells": [
  {
   "cell_type": "code",
   "execution_count": 1,
   "id": "c3e17841",
   "metadata": {},
   "outputs": [],
   "source": [
    "import os, shutil\n",
    "import os\n",
    "os.environ[\"KMP_DUPLICATE_LIB_OK\"]=\"TRUE\""
   ]
  },
  {
   "cell_type": "code",
   "execution_count": 2,
   "id": "e28d0f1e",
   "metadata": {},
   "outputs": [],
   "source": [
    "original_dataset_dir = './train/'\n",
    "\n",
    "base_dir = './data/cats_and_dogs'\n",
    "if not os.path.exists(base_dir):\n",
    "    os.mkdir(base_dir)"
   ]
  },
  {
   "cell_type": "code",
   "execution_count": 3,
   "id": "bf296637",
   "metadata": {},
   "outputs": [],
   "source": [
    "train_dir = os.path.join(base_dir, 'train')\n",
    "os.mkdir(train_dir)\n",
    "test_dir = os.path.join(base_dir, 'test')\n",
    "os.mkdir(test_dir)"
   ]
  },
  {
   "cell_type": "code",
   "execution_count": 4,
   "id": "d164b4a1",
   "metadata": {},
   "outputs": [],
   "source": [
    "train_cats_dir = os.path.join(train_dir, 'cats')\n",
    "os.mkdir(train_cats_dir)\n",
    "train_dogs_dir = os.path.join(train_dir, 'dogs')\n",
    "os.mkdir(train_dogs_dir)"
   ]
  },
  {
   "cell_type": "code",
   "execution_count": 5,
   "id": "882a0c6d",
   "metadata": {},
   "outputs": [],
   "source": [
    "test_cats_dir = os.path.join(test_dir, 'cats')\n",
    "os.mkdir(test_cats_dir)\n",
    "test_dogs_dir = os.path.join(test_dir, 'dogs')\n",
    "os.mkdir(test_dogs_dir)"
   ]
  },
  {
   "cell_type": "code",
   "execution_count": 6,
   "id": "106399f5",
   "metadata": {},
   "outputs": [],
   "source": [
    "fnames = ['cat.{}.jpg'.format(i) for i in range(10000)]\n",
    "for fname in fnames:\n",
    "    src = os.path.join(original_dataset_dir, fname) #source\n",
    "    dst = os.path.join(train_cats_dir, fname) #destination\n",
    "    shutil.copyfile(src, dst) #src에 있는 파일을 dst에 복사"
   ]
  },
  {
   "cell_type": "code",
   "execution_count": 7,
   "id": "e708e234",
   "metadata": {},
   "outputs": [],
   "source": [
    "fnames = ['cat.{}.jpg'.format(i) for i in range(10000, 12500)]\n",
    "for fname in fnames:\n",
    "    src = os.path.join(original_dataset_dir, fname) #source\n",
    "    dst = os.path.join(test_cats_dir, fname) #destination\n",
    "    shutil.copyfile(src, dst) #src에 있는 파일을 dst에 복사"
   ]
  },
  {
   "cell_type": "code",
   "execution_count": 8,
   "id": "7b77f573",
   "metadata": {},
   "outputs": [],
   "source": [
    "fnames = ['dog.{}.jpg'.format(i) for i in range(10000)]\n",
    "for fname in fnames:\n",
    "    src = os.path.join(original_dataset_dir, fname) #source\n",
    "    dst = os.path.join(train_dogs_dir, fname) #destination\n",
    "    shutil.copyfile(src, dst) #src에 있는 파일을 dst에 복사"
   ]
  },
  {
   "cell_type": "code",
   "execution_count": 9,
   "id": "bc8cc606",
   "metadata": {},
   "outputs": [],
   "source": [
    "fnames = ['dog.{}.jpg'.format(i) for i in range(10000, 12500)]\n",
    "for fname in fnames:\n",
    "    src = os.path.join(original_dataset_dir, fname) #source\n",
    "    dst = os.path.join(test_dogs_dir, fname) #destination\n",
    "    shutil.copyfile(src, dst) #src에 있는 파일을 dst에 복사"
   ]
  },
  {
   "cell_type": "code",
   "execution_count": 10,
   "id": "494029cb",
   "metadata": {
    "scrolled": true
   },
   "outputs": [
    {
     "name": "stdout",
     "output_type": "stream",
     "text": [
      "훈련용 고양이 이미지 전체 개수: 10000\n",
      "훈련용 강아지 이미지 전체 개수: 10000\n",
      "테스트용 고양이 이미지 전체 개수: 2500\n",
      "테스트용 강아지 이미지 전체 개수: 2500\n"
     ]
    }
   ],
   "source": [
    "print('훈련용 고양이 이미지 전체 개수:', len(os.listdir(train_cats_dir)))\n",
    "print('훈련용 강아지 이미지 전체 개수:', len(os.listdir(train_dogs_dir)))\n",
    "print('테스트용 고양이 이미지 전체 개수:', len(os.listdir(test_cats_dir)))\n",
    "print('테스트용 강아지 이미지 전체 개수:', len(os.listdir(test_dogs_dir)))"
   ]
  },
  {
   "cell_type": "code",
   "execution_count": 11,
   "id": "3182901a",
   "metadata": {},
   "outputs": [],
   "source": [
    "from tensorflow.keras import models, layers"
   ]
  },
  {
   "cell_type": "code",
   "execution_count": 12,
   "id": "3919dd92",
   "metadata": {},
   "outputs": [],
   "source": [
    "model = models.Sequential()\n",
    "model.add(layers.Conv2D(32, (3,3), input_shape=(150, 150, 3), activation='relu'))\n",
    "#input_shape=() 데이터를 보면 모양이 다양함 일단은 여기서 150*150으로 하고 하단에서 맞출것\n",
    "model.add(layers.MaxPooling2D((2,2)))\n",
    "model.add(layers.Conv2D(64, (3,3), activation='relu'))\n",
    "model.add(layers.MaxPooling2D((2,2)))\n",
    "model.add(layers.Conv2D(128, (3,3), activation='relu'))\n",
    "model.add(layers.MaxPooling2D((2,2)))\n",
    "model.add(layers.Conv2D(128, (3,3), activation='relu'))\n",
    "model.add(layers.MaxPooling2D((2,2)))\n",
    "model.add(layers.Flatten())\n",
    "model.add(layers.Dropout(0.5))\n",
    "model.add(layers.Dense(512, activation='relu'))\n",
    "model.add(layers.Dense(1, activation='sigmoid'))"
   ]
  },
  {
   "cell_type": "code",
   "execution_count": 13,
   "id": "359a1346",
   "metadata": {},
   "outputs": [
    {
     "name": "stdout",
     "output_type": "stream",
     "text": [
      "Model: \"sequential\"\n",
      "_________________________________________________________________\n",
      " Layer (type)                Output Shape              Param #   \n",
      "=================================================================\n",
      " conv2d (Conv2D)             (None, 148, 148, 32)      896       \n",
      "                                                                 \n",
      " max_pooling2d (MaxPooling2D  (None, 74, 74, 32)       0         \n",
      " )                                                               \n",
      "                                                                 \n",
      " conv2d_1 (Conv2D)           (None, 72, 72, 64)        18496     \n",
      "                                                                 \n",
      " max_pooling2d_1 (MaxPooling  (None, 36, 36, 64)       0         \n",
      " 2D)                                                             \n",
      "                                                                 \n",
      " conv2d_2 (Conv2D)           (None, 34, 34, 128)       73856     \n",
      "                                                                 \n",
      " max_pooling2d_2 (MaxPooling  (None, 17, 17, 128)      0         \n",
      " 2D)                                                             \n",
      "                                                                 \n",
      " conv2d_3 (Conv2D)           (None, 15, 15, 128)       147584    \n",
      "                                                                 \n",
      " max_pooling2d_3 (MaxPooling  (None, 7, 7, 128)        0         \n",
      " 2D)                                                             \n",
      "                                                                 \n",
      " flatten (Flatten)           (None, 6272)              0         \n",
      "                                                                 \n",
      " dropout (Dropout)           (None, 6272)              0         \n",
      "                                                                 \n",
      " dense (Dense)               (None, 512)               3211776   \n",
      "                                                                 \n",
      " dense_1 (Dense)             (None, 1)                 513       \n",
      "                                                                 \n",
      "=================================================================\n",
      "Total params: 3,453,121\n",
      "Trainable params: 3,453,121\n",
      "Non-trainable params: 0\n",
      "_________________________________________________________________\n"
     ]
    }
   ],
   "source": [
    "model.summary()"
   ]
  },
  {
   "cell_type": "markdown",
   "id": "54409e69",
   "metadata": {},
   "source": [
    "model.add(layers.Conv2D(32, (3,3), input_shape=(150, 150, 3), activation='relu'))   \n",
    "1x(3x3)x32x3 +32 = **896**  \n",
    "output shape 148x148   \n",
    "output은 채널이 1개로 출력됨\n",
    "\n",
    "\n",
    "model.add(layers.MaxPooling2D((2,2)))   \n",
    "output shape 74x74   \n",
    "\n",
    "\n",
    "model.add(layers.Conv2D(64, (3,3), activation='relu'))   \n",
    "32x(3x3)x64 +64 = **18,496**   \n",
    "output shape 72x72   \n",
    "\n",
    "\n",
    "model.add(layers.MaxPooling2D((2,2)))   \n",
    "output shape 36x36   \n",
    "\n",
    "\n",
    "model.add(layers.Conv2D(128, (3,3), activation='relu'))   \n",
    "64x(3x3)x128 +128 = **73,856**   \n",
    "output shape 34x34   \n",
    "\n",
    "\n",
    "model.add(layers.MaxPooling2D((2,2)))   \n",
    "output shape 17x17   \n",
    "\n",
    "\n",
    "model.add(layers.Conv2D(128, (3,3), activation='relu'))   \n",
    "128x(3x3)x128 +128 =**147,584**   \n",
    "output shape 15x15   \n",
    "\n",
    "\n",
    "model.add(layers.MaxPooling2D((2,2)))   \n",
    "output shape 7x7   \n",
    "\n",
    "\n",
    "model.add(layers.Flatten())   \n",
    "output (7x7)x128 =6,272   \n",
    "\n",
    "\n",
    "model.add(layers.Dropout(0.5))   \n",
    "파라미터 영향x   \n",
    "\n",
    "\n",
    "model.add(layers.Dense(512, activation='relu'))   \n",
    "6272x512 +512 =**3,211,776**   \n",
    "\n",
    "\n",
    "model.add(layers.Dense(1, activation='sigmoid'))   \n",
    "512x1 +1 =**513**   \n"
   ]
  },
  {
   "cell_type": "code",
   "execution_count": 14,
   "id": "e66b094e",
   "metadata": {},
   "outputs": [],
   "source": [
    "model.compile(loss='binary_crossentropy', optimizer='adam', metrics=['accuracy'])"
   ]
  },
  {
   "cell_type": "code",
   "execution_count": 15,
   "id": "3948c8c0",
   "metadata": {},
   "outputs": [
    {
     "name": "stdout",
     "output_type": "stream",
     "text": [
      "Found 20000 images belonging to 2 classes.\n",
      "Found 5000 images belonging to 2 classes.\n"
     ]
    }
   ],
   "source": [
    "from tensorflow.keras.preprocessing.image import ImageDataGenerator\n",
    "\n",
    "train_datagen = ImageDataGenerator(rescale=1./255) #입력 feature값 0~1 사이로 1.:실수(정수x)\n",
    "test_datagen = ImageDataGenerator(rescale=1./255) #입력 feature값 0~1 사이로\n",
    "\n",
    "train_generator = train_datagen.flow_from_directory(\n",
    "    train_dir, target_size=(150, 150), batch_size=20, class_mode='binary' \n",
    ")\n",
    "\n",
    "validation_generator = test_datagen.flow_from_directory(\n",
    "    test_dir, #학습용 데이터 위치\n",
    "    target_size=(150, 150), \n",
    "    batch_size=20, #20장씩 무작위 추출\n",
    "    class_mode='binary' #class가 2개이므로\n",
    ")\n"
   ]
  },
  {
   "cell_type": "code",
   "execution_count": 16,
   "id": "c74c66ab",
   "metadata": {
    "scrolled": false
   },
   "outputs": [
    {
     "name": "stdout",
     "output_type": "stream",
     "text": [
      "Epoch 1/5\n",
      "1000/1000 [==============================] - 248s 247ms/step - loss: 0.6711 - accuracy: 0.5695 - val_loss: 0.6270 - val_accuracy: 0.6552\n",
      "Epoch 2/5\n",
      "1000/1000 [==============================] - 210s 210ms/step - loss: 0.5527 - accuracy: 0.7152 - val_loss: 0.4642 - val_accuracy: 0.7778\n",
      "Epoch 3/5\n",
      "1000/1000 [==============================] - 206s 206ms/step - loss: 0.4527 - accuracy: 0.7895 - val_loss: 0.4118 - val_accuracy: 0.8062\n",
      "Epoch 4/5\n",
      "1000/1000 [==============================] - 203s 203ms/step - loss: 0.3847 - accuracy: 0.8273 - val_loss: 0.3425 - val_accuracy: 0.8474\n",
      "Epoch 5/5\n",
      "1000/1000 [==============================] - 215s 215ms/step - loss: 0.3305 - accuracy: 0.8555 - val_loss: 0.3438 - val_accuracy: 0.8468\n"
     ]
    }
   ],
   "source": [
    "history = model.fit(train_generator, epochs=30, validation_data=validation_generator)\n",
    "# 아래 값은 임의로 epochs=5로 지정하고 해본것임"
   ]
  },
  {
   "cell_type": "code",
   "execution_count": 17,
   "id": "72829f27",
   "metadata": {},
   "outputs": [
    {
     "data": {
      "text/plain": [
       "<keras.callbacks.History at 0x185f137a850>"
      ]
     },
     "execution_count": 17,
     "metadata": {},
     "output_type": "execute_result"
    }
   ],
   "source": [
    "history"
   ]
  },
  {
   "cell_type": "code",
   "execution_count": 18,
   "id": "b5228359",
   "metadata": {},
   "outputs": [],
   "source": [
    "import matplotlib.pyplot as plt"
   ]
  },
  {
   "cell_type": "code",
   "execution_count": 19,
   "id": "acf10284",
   "metadata": {},
   "outputs": [
    {
     "data": {
      "image/png": "[encoded data removed]",
      "text/plain": [
       "<Figure size 640x480 with 1 Axes>"
      ]
     },
     "metadata": {},
     "output_type": "display_data"
    },
    {
     "data": {
      "image/png": "[encoded data removed]",
      "text/plain": [
       "<Figure size 640x480 with 1 Axes>"
      ]
     },
     "metadata": {},
     "output_type": "display_data"
    }
   ],
   "source": [
    "acc = history.history['accuracy']\n",
    "val_acc = history.history['val_accuracy']\n",
    "loss = history.history['loss']\n",
    "val_loss = history.history['val_loss']\n",
    "\n",
    "epochs = range(len(acc))\n",
    "\n",
    "plt.plot(epochs, acc, 'ro', label='Training acc')\n",
    "plt.plot(epochs, val_acc, 'b', label='Validation acc')\n",
    "plt.title('Training and validation accuracy')\n",
    "plt.legend()\n",
    "\n",
    "plt.figure()\n",
    "\n",
    "plt.plot(epochs, loss, 'ro', label='Training loss')\n",
    "plt.plot(epochs, val_loss, 'b', label='Validation loss')\n",
    "plt.title('Training and validation loss')\n",
    "plt.legend()\n",
    "\n",
    "plt.show()"
   ]
  },
  {
   "cell_type": "markdown",
   "id": "f17887f9",
   "metadata": {},
   "source": [
    "참고 도서 케라스 창시자에게 배우는 딥러닝 개정 2판 8장 컴퓨터 비전을 위한 딥러닝(https://thebook.io/080315/) "
   ]
  },
  {
   "cell_type": "code",
   "execution_count": null,
   "id": "cd410645",
   "metadata": {},
   "outputs": [],
   "source": []
  },
  {
   "cell_type": "code",
   "execution_count": null,
   "id": "ccc57d10",
   "metadata": {},
   "outputs": [],
   "source": []
  },
  {
   "cell_type": "code",
   "execution_count": null,
   "id": "0a37ae25",
   "metadata": {},
   "outputs": [],
   "source": []
  },
  {
   "cell_type": "code",
   "execution_count": null,
   "id": "ccb6dfeb",
   "metadata": {},
   "outputs": [],
   "source": []
  },
  {
   "cell_type": "code",
   "execution_count": null,
   "id": "93a52914",
   "metadata": {},
   "outputs": [],
   "source": []
  },
  {
   "cell_type": "code",
   "execution_count": null,
   "id": "f47a0acf",
   "metadata": {},
   "outputs": [],
   "source": []
  },
  {
   "cell_type": "code",
   "execution_count": null,
   "id": "f38d3001",
   "metadata": {},
   "outputs": [],
   "source": []
  },
  {
   "cell_type": "code",
   "execution_count": null,
   "id": "441ddb0a",
   "metadata": {},
   "outputs": [],
   "source": []
  }
 ],
 "metadata": {
  "kernelspec": {
   "display_name": "Python 3 (ipykernel)",
   "language": "python",
   "name": "python3"
  },
  "language_info": {
   "codemirror_mode": {
    "name": "ipython",
    "version": 3
   },
   "file_extension": ".py",
   "mimetype": "text/x-python",
   "name": "python",
   "nbconvert_exporter": "python",
   "pygments_lexer": "ipython3",
   "version": "3.8.15"
  }
 },
 "nbformat": 4,
 "nbformat_minor": 5
}

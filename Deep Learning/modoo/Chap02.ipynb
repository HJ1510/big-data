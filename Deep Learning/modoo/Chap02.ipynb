{
 "cells": [
  {
   "cell_type": "markdown",
   "id": "82488ba7",
   "metadata": {},
   "source": [
    "https://thebook.io/080324/part01/ch02/03-04/"
   ]
  },
  {
   "cell_type": "code",
   "execution_count": 1,
   "id": "fadef02d",
   "metadata": {},
   "outputs": [],
   "source": [
    "from tensorflow.keras import models, layers\n",
    "import numpy as np"
   ]
  },
  {
   "cell_type": "code",
   "execution_count": 2,
   "id": "864e9561",
   "metadata": {},
   "outputs": [],
   "source": [
    "data_set = np.loadtxt('data/ThoraricSurgery3.csv', delimiter = ',')\n",
    "X = data_set[:, :16] #[:,0:16]은 모든 행의 1번째 열부터 16번째 열까지 가져오라는 의미 \n",
    "y = data_set[:, 16] #17번째 줄에 위치한 클래스를 따로 모아 데이터셋 y로 지정"
   ]
  },
  {
   "cell_type": "code",
   "execution_count": 3,
   "id": "39bc9c69",
   "metadata": {},
   "outputs": [],
   "source": [
    "model = models.Sequential()\n",
    "model.add(layers.Dense(30, input_dim=16, activation='relu')) \n",
    "# 출력 30, input_dim 입력의 갯수, 활성화 함수 relu\n",
    "model.add(layers.Dense(1, activation='sigmoid'))\n",
    "# 앞단의 출력 30 = input이기때문에 input_dim 따로 지정 안함"
   ]
  },
  {
   "cell_type": "markdown",
   "id": "666b5400",
   "metadata": {},
   "source": [
    "16x30 = 480 + 30 = 510  \n",
    "30x1 = 30 + 1 = 31  \n",
    "∴541\n",
    "input output 개수가 정해지면 그에 따라 w와 b의 shape은 정해지게된다"
   ]
  },
  {
   "cell_type": "code",
   "execution_count": 4,
   "id": "2488abc7",
   "metadata": {
    "scrolled": true
   },
   "outputs": [
    {
     "name": "stdout",
     "output_type": "stream",
     "text": [
      "Model: \"sequential\"\n",
      "_________________________________________________________________\n",
      " Layer (type)                Output Shape              Param #   \n",
      "=================================================================\n",
      " dense (Dense)               (None, 30)                510       \n",
      "                                                                 \n",
      " dense_1 (Dense)             (None, 1)                 31        \n",
      "                                                                 \n",
      "=================================================================\n",
      "Total params: 541\n",
      "Trainable params: 541\n",
      "Non-trainable params: 0\n",
      "_________________________________________________________________\n"
     ]
    }
   ],
   "source": [
    "model.summary()"
   ]
  },
  {
   "cell_type": "code",
   "execution_count": 5,
   "id": "8ced2326",
   "metadata": {},
   "outputs": [],
   "source": [
    "model.compile(loss='binary_crossentropy', optimizer='adam', metrics=['accuracy']) \n",
    "#binary_crossentropy 케라스제공 이진함수 metrics평가지표?"
   ]
  },
  {
   "cell_type": "code",
   "execution_count": 6,
   "id": "5b2ade90",
   "metadata": {},
   "outputs": [
    {
     "name": "stdout",
     "output_type": "stream",
     "text": [
      "Epoch 1/5\n",
      "30/30 [==============================] - 1s 1ms/step - loss: 1.6153 - accuracy: 0.7979\n",
      "Epoch 2/5\n",
      "30/30 [==============================] - 0s 1ms/step - loss: 1.2768 - accuracy: 0.8170\n",
      "Epoch 3/5\n",
      "30/30 [==============================] - 0s 1ms/step - loss: 1.0783 - accuracy: 0.8149\n",
      "Epoch 4/5\n",
      "30/30 [==============================] - 0s 1ms/step - loss: 0.8483 - accuracy: 0.8255\n",
      "Epoch 5/5\n",
      "30/30 [==============================] - 0s 1ms/step - loss: 0.6518 - accuracy: 0.8255\n"
     ]
    }
   ],
   "source": [
    "history = model.fit(X, y, epochs=5, batch_size=16)"
   ]
  },
  {
   "cell_type": "markdown",
   "id": "75d778b5",
   "metadata": {},
   "source": [
    "30번 파라미터 갱신"
   ]
  },
  {
   "cell_type": "code",
   "execution_count": null,
   "id": "e0c58e69",
   "metadata": {},
   "outputs": [],
   "source": []
  }
 ],
 "metadata": {
  "kernelspec": {
   "display_name": "Python 3 (ipykernel)",
   "language": "python",
   "name": "python3"
  },
  "language_info": {
   "codemirror_mode": {
    "name": "ipython",
    "version": 3
   },
   "file_extension": ".py",
   "mimetype": "text/x-python",
   "name": "python",
   "nbconvert_exporter": "python",
   "pygments_lexer": "ipython3",
   "version": "3.8.15"
  }
 },
 "nbformat": 4,
 "nbformat_minor": 5
}

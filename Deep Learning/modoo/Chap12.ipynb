{
 "cells": [
  {
   "cell_type": "markdown",
   "id": "cf7263d0",
   "metadata": {},
   "source": [
    "https://thebook.io/080324/part04/ch12/"
   ]
  },
  {
   "cell_type": "code",
   "execution_count": 1,
   "id": "416bf2ad",
   "metadata": {},
   "outputs": [],
   "source": [
    "import pandas as pd"
   ]
  },
  {
   "cell_type": "code",
   "execution_count": 2,
   "id": "66663e45",
   "metadata": {},
   "outputs": [
    {
     "data": {
      "text/html": [
       "<div>\n",
       "<style scoped>\n",
       "    .dataframe tbody tr th:only-of-type {\n",
       "        vertical-align: middle;\n",
       "    }\n",
       "\n",
       "    .dataframe tbody tr th {\n",
       "        vertical-align: top;\n",
       "    }\n",
       "\n",
       "    .dataframe thead th {\n",
       "        text-align: right;\n",
       "    }\n",
       "</style>\n",
       "<table border=\"1\" class=\"dataframe\">\n",
       "  <thead>\n",
       "    <tr style=\"text-align: right;\">\n",
       "      <th></th>\n",
       "      <th>sepal_length</th>\n",
       "      <th>sepal_width</th>\n",
       "      <th>petal_length</th>\n",
       "      <th>petal_width</th>\n",
       "      <th>species</th>\n",
       "    </tr>\n",
       "  </thead>\n",
       "  <tbody>\n",
       "    <tr>\n",
       "      <th>0</th>\n",
       "      <td>5.1</td>\n",
       "      <td>3.5</td>\n",
       "      <td>1.4</td>\n",
       "      <td>0.2</td>\n",
       "      <td>Iris-setosa</td>\n",
       "    </tr>\n",
       "    <tr>\n",
       "      <th>1</th>\n",
       "      <td>4.9</td>\n",
       "      <td>3.0</td>\n",
       "      <td>1.4</td>\n",
       "      <td>0.2</td>\n",
       "      <td>Iris-setosa</td>\n",
       "    </tr>\n",
       "    <tr>\n",
       "      <th>2</th>\n",
       "      <td>4.7</td>\n",
       "      <td>3.2</td>\n",
       "      <td>1.3</td>\n",
       "      <td>0.2</td>\n",
       "      <td>Iris-setosa</td>\n",
       "    </tr>\n",
       "    <tr>\n",
       "      <th>3</th>\n",
       "      <td>4.6</td>\n",
       "      <td>3.1</td>\n",
       "      <td>1.5</td>\n",
       "      <td>0.2</td>\n",
       "      <td>Iris-setosa</td>\n",
       "    </tr>\n",
       "    <tr>\n",
       "      <th>4</th>\n",
       "      <td>5.0</td>\n",
       "      <td>3.6</td>\n",
       "      <td>1.4</td>\n",
       "      <td>0.2</td>\n",
       "      <td>Iris-setosa</td>\n",
       "    </tr>\n",
       "  </tbody>\n",
       "</table>\n",
       "</div>"
      ],
      "text/plain": [
       "   sepal_length  sepal_width  petal_length  petal_width      species\n",
       "0           5.1          3.5           1.4          0.2  Iris-setosa\n",
       "1           4.9          3.0           1.4          0.2  Iris-setosa\n",
       "2           4.7          3.2           1.3          0.2  Iris-setosa\n",
       "3           4.6          3.1           1.5          0.2  Iris-setosa\n",
       "4           5.0          3.6           1.4          0.2  Iris-setosa"
      ]
     },
     "execution_count": 2,
     "metadata": {},
     "output_type": "execute_result"
    }
   ],
   "source": [
    "df = pd.read_csv('data/iris3.csv')\n",
    "df.head()"
   ]
  },
  {
   "cell_type": "code",
   "execution_count": 3,
   "id": "8de38c16",
   "metadata": {},
   "outputs": [],
   "source": [
    "X = df.iloc[:, :4]\n",
    "y = df.iloc[:, 4]"
   ]
  },
  {
   "cell_type": "code",
   "execution_count": 4,
   "id": "c1484b75",
   "metadata": {},
   "outputs": [
    {
     "name": "stdout",
     "output_type": "stream",
     "text": [
      "   sepal_length  sepal_width  petal_length  petal_width\n",
      "0           5.1          3.5           1.4          0.2\n",
      "1           4.9          3.0           1.4          0.2\n",
      "2           4.7          3.2           1.3          0.2\n",
      "3           4.6          3.1           1.5          0.2\n",
      "4           5.0          3.6           1.4          0.2\n"
     ]
    }
   ],
   "source": [
    "print(X[:5])"
   ]
  },
  {
   "cell_type": "code",
   "execution_count": 5,
   "id": "f80e2694",
   "metadata": {},
   "outputs": [
    {
     "name": "stdout",
     "output_type": "stream",
     "text": [
      "0    Iris-setosa\n",
      "1    Iris-setosa\n",
      "2    Iris-setosa\n",
      "3    Iris-setosa\n",
      "4    Iris-setosa\n",
      "Name: species, dtype: object\n"
     ]
    }
   ],
   "source": [
    "print(y[:5])"
   ]
  },
  {
   "cell_type": "code",
   "execution_count": 6,
   "id": "ef63d9f3",
   "metadata": {},
   "outputs": [
    {
     "name": "stdout",
     "output_type": "stream",
     "text": [
      "140    Iris-virginica\n",
      "141    Iris-virginica\n",
      "142    Iris-virginica\n",
      "143    Iris-virginica\n",
      "144    Iris-virginica\n",
      "145    Iris-virginica\n",
      "146    Iris-virginica\n",
      "147    Iris-virginica\n",
      "148    Iris-virginica\n",
      "149    Iris-virginica\n",
      "Name: species, dtype: object\n"
     ]
    }
   ],
   "source": [
    "print(y[-10:])"
   ]
  },
  {
   "cell_type": "code",
   "execution_count": 7,
   "id": "1660d78d",
   "metadata": {},
   "outputs": [
    {
     "name": "stdout",
     "output_type": "stream",
     "text": [
      "<class 'pandas.core.frame.DataFrame'>\n",
      "RangeIndex: 150 entries, 0 to 149\n",
      "Data columns (total 5 columns):\n",
      " #   Column        Non-Null Count  Dtype  \n",
      "---  ------        --------------  -----  \n",
      " 0   sepal_length  150 non-null    float64\n",
      " 1   sepal_width   150 non-null    float64\n",
      " 2   petal_length  150 non-null    float64\n",
      " 3   petal_width   150 non-null    float64\n",
      " 4   species       150 non-null    object \n",
      "dtypes: float64(4), object(1)\n",
      "memory usage: 6.0+ KB\n"
     ]
    }
   ],
   "source": [
    "df.info()"
   ]
  },
  {
   "cell_type": "code",
   "execution_count": 8,
   "id": "6f52eada",
   "metadata": {},
   "outputs": [
    {
     "name": "stdout",
     "output_type": "stream",
     "text": [
      "   Iris-setosa  Iris-versicolor  Iris-virginica\n",
      "0            1                0               0\n",
      "1            1                0               0\n",
      "2            1                0               0\n",
      "3            1                0               0\n",
      "4            1                0               0\n",
      "5            1                0               0\n",
      "6            1                0               0\n",
      "7            1                0               0\n",
      "8            1                0               0\n",
      "9            1                0               0\n"
     ]
    }
   ],
   "source": [
    "y = pd.get_dummies(y)\n",
    "print(y[:10])"
   ]
  },
  {
   "cell_type": "markdown",
   "id": "f29604bc",
   "metadata": {},
   "source": [
    "3차원의 원핫인코딩으로 전환"
   ]
  },
  {
   "cell_type": "code",
   "execution_count": 9,
   "id": "d2957629",
   "metadata": {},
   "outputs": [
    {
     "name": "stdout",
     "output_type": "stream",
     "text": [
      "     Iris-setosa  Iris-versicolor  Iris-virginica\n",
      "140            0                0               1\n",
      "141            0                0               1\n",
      "142            0                0               1\n",
      "143            0                0               1\n",
      "144            0                0               1\n",
      "145            0                0               1\n",
      "146            0                0               1\n",
      "147            0                0               1\n",
      "148            0                0               1\n",
      "149            0                0               1\n"
     ]
    }
   ],
   "source": [
    "print(y[-10:])"
   ]
  },
  {
   "cell_type": "code",
   "execution_count": 10,
   "id": "660e0ab7",
   "metadata": {},
   "outputs": [],
   "source": [
    "from tensorflow.keras import models, layers"
   ]
  },
  {
   "cell_type": "code",
   "execution_count": 12,
   "id": "c4671935",
   "metadata": {},
   "outputs": [],
   "source": [
    "model = models.Sequential()\n",
    "model.add(layers.Dense(12, input_dim=4, activation='relu'))\n",
    "model.add(layers.Dense(8, activation='relu'))\n",
    "model.add(layers.Dense(3, activation='softmax'))"
   ]
  },
  {
   "cell_type": "markdown",
   "id": "b4e9c823",
   "metadata": {},
   "source": [
    "4x12 = 48+12 = 60  \n",
    "12x8 = 96+8 = 104    \n",
    "8x3 = 24+3 = 27  \n",
    "∴191"
   ]
  },
  {
   "cell_type": "code",
   "execution_count": 15,
   "id": "ce1e3b08",
   "metadata": {},
   "outputs": [
    {
     "name": "stdout",
     "output_type": "stream",
     "text": [
      "Model: \"sequential\"\n",
      "_________________________________________________________________\n",
      " Layer (type)                Output Shape              Param #   \n",
      "=================================================================\n",
      " dense (Dense)               (None, 12)                60        \n",
      "                                                                 \n",
      " dense_1 (Dense)             (None, 8)                 104       \n",
      "                                                                 \n",
      " dense_2 (Dense)             (None, 3)                 27        \n",
      "                                                                 \n",
      "=================================================================\n",
      "Total params: 191\n",
      "Trainable params: 191\n",
      "Non-trainable params: 0\n",
      "_________________________________________________________________\n"
     ]
    }
   ],
   "source": [
    "model.summary()"
   ]
  },
  {
   "cell_type": "code",
   "execution_count": 16,
   "id": "609e668c",
   "metadata": {},
   "outputs": [],
   "source": [
    "model.compile(loss='categorical_crossentropy', optimizer='adam', metrics=['accuracy']) \n",
    "#categorical_crossentropy 다중분류를 위한 손실함수(keras 제공)"
   ]
  },
  {
   "cell_type": "code",
   "execution_count": 18,
   "id": "dd5b03a7",
   "metadata": {},
   "outputs": [
    {
     "name": "stdout",
     "output_type": "stream",
     "text": [
      "Epoch 1/30\n",
      "30/30 [==============================] - 0s 1ms/step - loss: 0.1686 - accuracy: 0.9733\n",
      "Epoch 2/30\n",
      "30/30 [==============================] - 0s 1ms/step - loss: 0.1723 - accuracy: 0.9667\n",
      "Epoch 3/30\n",
      "30/30 [==============================] - 0s 1ms/step - loss: 0.1688 - accuracy: 0.9467\n",
      "Epoch 4/30\n",
      "30/30 [==============================] - 0s 1ms/step - loss: 0.1506 - accuracy: 0.9733\n",
      "Epoch 5/30\n",
      "30/30 [==============================] - 0s 1ms/step - loss: 0.1540 - accuracy: 0.9400\n",
      "Epoch 6/30\n",
      "30/30 [==============================] - 0s 1ms/step - loss: 0.1478 - accuracy: 0.9733\n",
      "Epoch 7/30\n",
      "30/30 [==============================] - 0s 1ms/step - loss: 0.1382 - accuracy: 0.9667\n",
      "Epoch 8/30\n",
      "30/30 [==============================] - 0s 1ms/step - loss: 0.1340 - accuracy: 0.9733\n",
      "Epoch 9/30\n",
      "30/30 [==============================] - 0s 1ms/step - loss: 0.1310 - accuracy: 0.9533\n",
      "Epoch 10/30\n",
      "30/30 [==============================] - 0s 1ms/step - loss: 0.1350 - accuracy: 0.9667\n",
      "Epoch 11/30\n",
      "30/30 [==============================] - 0s 1ms/step - loss: 0.1268 - accuracy: 0.9667\n",
      "Epoch 12/30\n",
      "30/30 [==============================] - 0s 1ms/step - loss: 0.1226 - accuracy: 0.9667\n",
      "Epoch 13/30\n",
      "30/30 [==============================] - 0s 1ms/step - loss: 0.1265 - accuracy: 0.9733\n",
      "Epoch 14/30\n",
      "30/30 [==============================] - 0s 1ms/step - loss: 0.1276 - accuracy: 0.9733\n",
      "Epoch 15/30\n",
      "30/30 [==============================] - 0s 1ms/step - loss: 0.1117 - accuracy: 0.9600\n",
      "Epoch 16/30\n",
      "30/30 [==============================] - 0s 1ms/step - loss: 0.1097 - accuracy: 0.9667\n",
      "Epoch 17/30\n",
      "30/30 [==============================] - 0s 1ms/step - loss: 0.1104 - accuracy: 0.9667\n",
      "Epoch 18/30\n",
      "30/30 [==============================] - 0s 1ms/step - loss: 0.1115 - accuracy: 0.9533\n",
      "Epoch 19/30\n",
      "30/30 [==============================] - 0s 1ms/step - loss: 0.0978 - accuracy: 0.9733\n",
      "Epoch 20/30\n",
      "30/30 [==============================] - 0s 1ms/step - loss: 0.1056 - accuracy: 0.9667\n",
      "Epoch 21/30\n",
      "30/30 [==============================] - 0s 1ms/step - loss: 0.1029 - accuracy: 0.9733\n",
      "Epoch 22/30\n",
      "30/30 [==============================] - 0s 1ms/step - loss: 0.0974 - accuracy: 0.9600\n",
      "Epoch 23/30\n",
      "30/30 [==============================] - 0s 1ms/step - loss: 0.1001 - accuracy: 0.9667\n",
      "Epoch 24/30\n",
      "30/30 [==============================] - 0s 1ms/step - loss: 0.0940 - accuracy: 0.9667\n",
      "Epoch 25/30\n",
      "30/30 [==============================] - 0s 1ms/step - loss: 0.0927 - accuracy: 0.9733\n",
      "Epoch 26/30\n",
      "30/30 [==============================] - 0s 1ms/step - loss: 0.0971 - accuracy: 0.9733\n",
      "Epoch 27/30\n",
      "30/30 [==============================] - 0s 1ms/step - loss: 0.0956 - accuracy: 0.9667\n",
      "Epoch 28/30\n",
      "30/30 [==============================] - 0s 1ms/step - loss: 0.0907 - accuracy: 0.9733\n",
      "Epoch 29/30\n",
      "30/30 [==============================] - 0s 1ms/step - loss: 0.0927 - accuracy: 0.9667\n",
      "Epoch 30/30\n",
      "30/30 [==============================] - 0s 1ms/step - loss: 0.0935 - accuracy: 0.9600\n"
     ]
    }
   ],
   "source": [
    "history = model.fit(X, y, epochs=30, batch_size=5)"
   ]
  },
  {
   "cell_type": "markdown",
   "id": "533f1b05",
   "metadata": {},
   "source": [
    "한 에포크마다 파라미터 30번 갱신"
   ]
  },
  {
   "cell_type": "code",
   "execution_count": null,
   "id": "06b5abfd",
   "metadata": {},
   "outputs": [],
   "source": []
  }
 ],
 "metadata": {
  "kernelspec": {
   "display_name": "Python 3 (ipykernel)",
   "language": "python",
   "name": "python3"
  },
  "language_info": {
   "codemirror_mode": {
    "name": "ipython",
    "version": 3
   },
   "file_extension": ".py",
   "mimetype": "text/x-python",
   "name": "python",
   "nbconvert_exporter": "python",
   "pygments_lexer": "ipython3",
   "version": "3.8.15"
  }
 },
 "nbformat": 4,
 "nbformat_minor": 5
}

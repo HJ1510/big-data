{
 "cells": [
  {
   "cell_type": "markdown",
   "id": "121832c4",
   "metadata": {},
   "source": [
    "k겹 교차 검증"
   ]
  },
  {
   "cell_type": "code",
   "execution_count": 1,
   "id": "a90299d5",
   "metadata": {},
   "outputs": [],
   "source": [
    "import pandas as pd\n",
    "from tensorflow.keras import models, layers"
   ]
  },
  {
   "cell_type": "code",
   "execution_count": 2,
   "id": "b7a983c2",
   "metadata": {},
   "outputs": [],
   "source": [
    "from sklearn.model_selection import KFold"
   ]
  },
  {
   "cell_type": "code",
   "execution_count": 3,
   "id": "d9e41900",
   "metadata": {},
   "outputs": [],
   "source": [
    "df = pd.read_csv('data/sonar3.csv', header=None)\n",
    "X = df.iloc[:, :60]\n",
    "y = df.iloc[:, 60]"
   ]
  },
  {
   "cell_type": "code",
   "execution_count": 4,
   "id": "f41935aa",
   "metadata": {},
   "outputs": [],
   "source": [
    "k = 5\n",
    "kfold = KFold(n_splits=k, shuffle=True)\n",
    "\n",
    "acc_score=[] #5번의 정확도를 넣을 배열\n",
    "\n",
    "def model_fn():\n",
    "    model = models.Sequential()\n",
    "    model.add(layers.Dense(24, input_dim=60, activation='relu'))\n",
    "    model.add(layers.Dense(10, activation='relu'))\n",
    "    model.add(layers.Dense(1, activation='sigmoid'))\n",
    "    return model"
   ]
  },
  {
   "cell_type": "code",
   "execution_count": 5,
   "id": "0af3b099",
   "metadata": {},
   "outputs": [
    {
     "name": "stdout",
     "output_type": "stream",
     "text": [
      "2/2 [==============================] - 0s 3ms/step - loss: 0.2898 - accuracy: 0.9286\n",
      "2/2 [==============================] - 0s 2ms/step - loss: 1.0765 - accuracy: 0.7857\n",
      "2/2 [==============================] - 0s 2ms/step - loss: 1.1521 - accuracy: 0.6667\n",
      "2/2 [==============================] - 0s 3ms/step - loss: 0.4536 - accuracy: 0.8049\n",
      "WARNING:tensorflow:5 out of the last 9 calls to <function Model.make_test_function.<locals>.test_function at 0x00000221CF0FA4C0> triggered tf.function retracing. Tracing is expensive and the excessive number of tracings could be due to (1) creating @tf.function repeatedly in a loop, (2) passing tensors with different shapes, (3) passing Python objects instead of tensors. For (1), please define your @tf.function outside of the loop. For (2), @tf.function has reduce_retracing=True option that can avoid unnecessary retracing. For (3), please refer to https://www.tensorflow.org/guide/function#controlling_retracing and https://www.tensorflow.org/api_docs/python/tf/function for  more details.\n",
      "2/2 [==============================] - 0s 3ms/step - loss: 0.4098 - accuracy: 0.8537\n"
     ]
    }
   ],
   "source": [
    "for train_index, test_index in kfold.split(X):\n",
    "    X_train, X_test = X.iloc[train_index, :], X.iloc[test_index, :] #row test_index\n",
    "    y_train, y_test = y.iloc[train_index], y.iloc[test_index]\n",
    "    \n",
    "    model=model_fn()\n",
    "    model.compile(loss='binary_crossentropy', optimizer='adam', metrics=['accuracy'])\n",
    "    history = model.fit(X_train, y_train, epochs=200, batch_size=10, verbose=0) #verbose=0 훈련과정 출력안함\n",
    "    acc_score.append(model.evaluate(X_test, y_test)[1])"
   ]
  },
  {
   "cell_type": "code",
   "execution_count": 6,
   "id": "b654f95c",
   "metadata": {},
   "outputs": [
    {
     "name": "stdout",
     "output_type": "stream",
     "text": [
      "Accuracy [0.9285714030265808, 0.7857142686843872, 0.6666666865348816, 0.8048780560493469, 0.8536585569381714]\n",
      "Accuracy Average 0.8078977942466736\n"
     ]
    }
   ],
   "source": [
    "avg_score = sum(acc_score) / k\n",
    "print('Accuracy', acc_score)\n",
    "print('Accuracy Average', avg_score)"
   ]
  },
  {
   "cell_type": "code",
   "execution_count": null,
   "id": "7ae3754f",
   "metadata": {},
   "outputs": [],
   "source": []
  }
 ],
 "metadata": {
  "kernelspec": {
   "display_name": "Python 3 (ipykernel)",
   "language": "python",
   "name": "python3"
  },
  "language_info": {
   "codemirror_mode": {
    "name": "ipython",
    "version": 3
   },
   "file_extension": ".py",
   "mimetype": "text/x-python",
   "name": "python",
   "nbconvert_exporter": "python",
   "pygments_lexer": "ipython3",
   "version": "3.8.15"
  }
 },
 "nbformat": 4,
 "nbformat_minor": 5
}

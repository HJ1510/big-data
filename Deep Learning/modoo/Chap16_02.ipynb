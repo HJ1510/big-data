{
 "cells": [
  {
   "cell_type": "markdown",
   "id": "55bb156b",
   "metadata": {},
   "source": [
    "https://thebook.io/080324/part05/ch16/03/"
   ]
  },
  {
   "cell_type": "markdown",
   "id": "c5e5ba4b",
   "metadata": {},
   "source": [
    "3~5. 컨볼루션 신경망 (CNN Convolutional Neural Network)"
   ]
  },
  {
   "cell_type": "markdown",
   "id": "64903603",
   "metadata": {},
   "source": [
    "cf. 이미지 분야에서\n",
    "\n",
    "- 영역처리(Convolution)    \n",
    "ai-kernal, mask images-filter...   \n",
    "커널을 통해 값 계산한 값을 계산 범위 가운데에 넣음 -> 결과 값의 사이즈는 줄어든다   \n",
    "(상하좌우 픽셀이 빠지기때문 잘리는 픽셀의 크기는 커널크기에 따라서 다름) 커널 규모는 보통 홀수로   \n",
    "\n",
    "\n",
    "\n",
    "마스크의 값에 따라 여러효과 가능   \n",
    "1. Blurring   \n",
    "급격하게 변하는 부분을 점진적으로 바꿔줌 (부드럽)   \n",
    "2. Sharpening   \n",
    "점진적으로 변하는 부분을 급격하게 바꿔줌 (또렷)    \n",
    "3. Edge   \n",
    "edge(테두리)검출 가능   \n",
    "Canny edge detection   \n",
    "4. Filtering   \n",
    "..."
   ]
  },
  {
   "cell_type": "code",
   "execution_count": 1,
   "id": "cb3402c7",
   "metadata": {},
   "outputs": [],
   "source": [
    "from tensorflow.keras import models, layers\n",
    "from tensorflow.keras.callbacks import EarlyStopping, ModelCheckpoint\n",
    "import numpy as np\n",
    "\n",
    "from tensorflow.keras.datasets import mnist\n",
    "from tensorflow.keras.utils import to_categorical\n",
    "import matplotlib.pyplot as plt\n",
    "import os\n",
    "os.environ[\"KMP_DUPLICATE_LIB_OK\"] = '1'\n"
   ]
  },
  {
   "cell_type": "code",
   "execution_count": 2,
   "id": "56a7a1e6",
   "metadata": {},
   "outputs": [],
   "source": [
    "(X_train, y_train), (X_test, y_test) = mnist.load_data()\n",
    "X_train = X_train.reshape(X_train.shape[0], 28, 28, 1).astype(float) / 255 \n",
    "# X_train.shape[0], 28, 28, (1)=>채널수 컬러그래픽의 경우 3\n",
    "X_test = X_test.reshape(X_test.shape[0], 28, 28, 1).astype(float) / 255\n",
    "y_train = to_categorical(y_train)\n",
    "y_test = to_categorical(y_test)"
   ]
  },
  {
   "cell_type": "code",
   "execution_count": 4,
   "id": "099f1fe1",
   "metadata": {
    "scrolled": true
   },
   "outputs": [
    {
     "name": "stdout",
     "output_type": "stream",
     "text": [
      "Model: \"sequential_1\"\n",
      "_________________________________________________________________\n",
      " Layer (type)                Output Shape              Param #   \n",
      "=================================================================\n",
      " conv2d_1 (Conv2D)           (None, 26, 26, 32)        320       \n",
      "                                                                 \n",
      " conv2d_2 (Conv2D)           (None, 24, 24, 64)        18496     \n",
      "                                                                 \n",
      " max_pooling2d (MaxPooling2D  (None, 12, 12, 64)       0         \n",
      " )                                                               \n",
      "                                                                 \n",
      " dropout (Dropout)           (None, 12, 12, 64)        0         \n",
      "                                                                 \n",
      " flatten (Flatten)           (None, 9216)              0         \n",
      "                                                                 \n",
      " dense (Dense)               (None, 128)               1179776   \n",
      "                                                                 \n",
      " dropout_1 (Dropout)         (None, 128)               0         \n",
      "                                                                 \n",
      " dense_1 (Dense)             (None, 10)                1290      \n",
      "                                                                 \n",
      "=================================================================\n",
      "Total params: 1,199,882\n",
      "Trainable params: 1,199,882\n",
      "Non-trainable params: 0\n",
      "_________________________________________________________________\n"
     ]
    }
   ],
   "source": [
    "model = models.Sequential()\n",
    "model.add(layers.Conv2D(32, kernel_size=(3, 3), input_shape=(28, 28, 1), activation='relu'))\n",
    "#Conv2D(32) 1장 기준 32장의 2d 이미지 출력\n",
    "model.add(layers.Conv2D(64, kernel_size=(3, 3), activation='relu'))\n",
    "#Conv2D(64) 1장 기준 64장의 2d 이미지 출력\n",
    "model.add(layers.MaxPooling2D(pool_size=(2, 2)))\n",
    "model.add(layers.Dropout(0.25))\n",
    "model.add(layers.Flatten())\n",
    "model.add(layers.Dense(128, activation='relu'))\n",
    "model.add(layers.Dropout(0.25))\n",
    "model.add(layers.Dense(10, activation='softmax'))\n",
    "model.summary()"
   ]
  },
  {
   "cell_type": "markdown",
   "id": "6756a0bf",
   "metadata": {},
   "source": [
    "1. model.add(layers.Conv2D(32, kernel_size=(3, 3), input_shape=(28, 28, 1), activation='relu'))   \n",
    "1x(3x3)x32 + 32 = **320**   \n",
    "\n",
    "\n",
    "2. model.add(layers.Conv2D(64, kernel_size=(3, 3), activation='relu'))   \n",
    "32x(3x3)x64 + 64 = **18,496**   \n",
    "\n",
    "\n",
    "3. model.add(layers.MaxPooling2D(pool_size=(2, 2)))   \n",
    "output shape 12x12x1   \n",
    "\n",
    "\n",
    "4. model.add(layers.Dropout(0.25))   \n",
    "파라미터 영향x   \n",
    "\n",
    "\n",
    "5. model.add(layers.Flatten())   \n",
    "output (12x12x1) x 64 = 9,216   \n",
    "\n",
    "\n",
    "6. model.add(layers.Dense(128, activation='relu'))   \n",
    "9216 x 128 = 1,179,648 + 128 = **1,179,776**   \n",
    "\n",
    "\n",
    "7. model.add(layers.Dropout(0.25))   \n",
    "파라미터 영향x   \n",
    "\n",
    "\n",
    "8. model.add(layers.Dense(10, activation='softmax'))   \n",
    "128x10 + 10 = **1,290**\n",
    "\n",
    "\n",
    "[시트 정리](Chap16_cnn_param.xlsx)\n",
    "\n",
    "![16.png](16.png)"
   ]
  },
  {
   "cell_type": "markdown",
   "id": "097e8068",
   "metadata": {},
   "source": [
    "##### model.add(layers.Conv2D(32, kernel_size=(3, 3), input_shape=(28, 28, 1), activation='relu'))\n",
    "1 | 첫 번째 인자: 커널을 몇 개 적용할지 정합니다. 여기서는 32개의 커널을 적용했습니다.\n",
    "\n",
    "2 | kernel_size: 커널의 크기를 정합니다. kernel_size=(행, 열) 형식으로 정하며, 여기서는 3×3 크기의 커널을 사용하게끔 정했습니다.\n",
    "\n",
    "3 | input_shape: Dense 층과 마찬가지로 맨 처음 층에는 입력되는 값을 알려 주어야 합니다. input_shape=(행, 열, 색상 또는 흑백) 형식으로 정합니다. 만약 입력 이미지가 색상이면 3, 흑백이면 1을 지정합니다. 여기서는 28×28 크기의 흑백 이미지를 사용하도록 정했습니다.\n",
    "\n",
    "4 | activation: 사용할 활성화 함수를 정의합니다.\n",
    "\n",
    "##### model.add(layers.MaxPooling2D(pool_size=(2, 2)))\n",
    "정해진 구역 안에서 최댓값을 뽑아내는 맥스 풀링(max pooling) shape는 줄이지만 특징은 가져감   \n",
    "(2,2)는 가로 2, 세로 2 크기의 풀링 창을 통해 맥스 풀링을 진행하라는 의미\n",
    "\n",
    "##### model.add(layers.Dropout(0.25))\n",
    "드롭아웃은 은닉층에 배치된 노드 중 일부를 임의로 꺼 주는 것=>과대적합 방지   \n",
    "25%의 노드를 끄는 코드\n",
    "\n",
    "##### model.add(layers.Flatten())\n",
    "2차원 배열을 1차원으로 Dense 이용하기 위해서"
   ]
  },
  {
   "cell_type": "code",
   "execution_count": null,
   "id": "980b3725",
   "metadata": {},
   "outputs": [],
   "source": []
  },
  {
   "cell_type": "code",
   "execution_count": null,
   "id": "f5175be8",
   "metadata": {},
   "outputs": [],
   "source": []
  },
  {
   "cell_type": "code",
   "execution_count": null,
   "id": "c12efc47",
   "metadata": {},
   "outputs": [],
   "source": []
  }
 ],
 "metadata": {
  "kernelspec": {
   "display_name": "Python 3 (ipykernel)",
   "language": "python",
   "name": "python3"
  },
  "language_info": {
   "codemirror_mode": {
    "name": "ipython",
    "version": 3
   },
   "file_extension": ".py",
   "mimetype": "text/x-python",
   "name": "python",
   "nbconvert_exporter": "python",
   "pygments_lexer": "ipython3",
   "version": "3.8.15"
  }
 },
 "nbformat": 4,
 "nbformat_minor": 5
}

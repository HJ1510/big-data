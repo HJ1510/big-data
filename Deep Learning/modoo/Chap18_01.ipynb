{
 "cells": [
  {
   "cell_type": "markdown",
   "id": "b4a7148c",
   "metadata": {},
   "source": [
    "https://thebook.io/080324/part05/ch18/"
   ]
  },
  {
   "cell_type": "markdown",
   "id": "0b355449",
   "metadata": {},
   "source": [
    "### 18장 시퀀스 배열로 다루는 순환 신경망(RNN)    \n",
    "순환 신경망은 여러 개의 데이터가 순서대로 입력되었을 때 앞서 입력받은 데이터를 잠시 기억해 놓는 방법"
   ]
  },
  {
   "cell_type": "markdown",
   "id": "b452e635",
   "metadata": {},
   "source": [
    "?LSTM(Long Short-Term Memory)   \n",
    "길게 기억할 것과 짧게 기억할 것을 구분하여 처리  \n",
    "참고 https://dgkim5360.tistory.com/entry/understanding-long-short-term-memory-lstm-kr"
   ]
  },
  {
   "cell_type": "markdown",
   "id": "1e2f80ed",
   "metadata": {},
   "source": [
    "1. LSTM을 이용한 로이터 뉴스 카테고리 분류하기  "
   ]
  },
  {
   "cell_type": "code",
   "execution_count": 1,
   "id": "5944fff1",
   "metadata": {},
   "outputs": [],
   "source": [
    "from tensorflow.keras import models, layers \n",
    "from tensorflow.keras.utils import to_categorical\n",
    "from tensorflow.keras.preprocessing import sequence\n",
    "from tensorflow.keras.datasets import reuters       # 로이터 뉴스 데이터셋 불러오기\n",
    "from tensorflow.keras.callbacks import EarlyStopping\n",
    "\n",
    "import numpy as np\n",
    "import matplotlib.pyplot as plt\n",
    "\n",
    "import os\n",
    "os.environ[\"KMP_DUPLICATE_LIB_OK\"]=\"TRUE\""
   ]
  },
  {
   "cell_type": "code",
   "execution_count": 2,
   "id": "c9d8c19e",
   "metadata": {},
   "outputs": [],
   "source": [
    "(X_train, y_train), (X_test, y_test) = reuters.load_data(num_words=1000, test_split=0.2)\n",
    "# num_words=1000 빈도수 상위 1000번째까지의 단어를 빈도수대로 정렬"
   ]
  },
  {
   "cell_type": "code",
   "execution_count": 3,
   "id": "03fbb82a",
   "metadata": {},
   "outputs": [
    {
     "name": "stdout",
     "output_type": "stream",
     "text": [
      "카테고리: 46\n",
      "학습용 뉴스 기사: 8982\n",
      "테스트용 뉴스 기사: 2246\n"
     ]
    }
   ],
   "source": [
    "print('카테고리:', np.max(y_train) + 1)\n",
    "print('학습용 뉴스 기사:', len(X_train))\n",
    "print('테스트용 뉴스 기사:', len(X_test))"
   ]
  },
  {
   "cell_type": "code",
   "execution_count": 4,
   "id": "ae3a5b6e",
   "metadata": {},
   "outputs": [
    {
     "name": "stdout",
     "output_type": "stream",
     "text": [
      "[1, 2, 2, 8, 43, 10, 447, 5, 25, 207, 270, 5, 2, 111, 16, 369, 186, 90, 67, 7, 89, 5, 19, 102, 6, 19, 124, 15, 90, 67, 84, 22, 482, 26, 7, 48, 4, 49, 8, 864, 39, 209, 154, 6, 151, 6, 83, 11, 15, 22, 155, 11, 15, 7, 48, 9, 2, 2, 504, 6, 258, 6, 272, 11, 15, 22, 134, 44, 11, 15, 16, 8, 197, 2, 90, 67, 52, 29, 209, 30, 32, 132, 6, 109, 15, 17, 12]\n"
     ]
    }
   ],
   "source": [
    "print(X_train[0])"
   ]
  },
  {
   "cell_type": "code",
   "execution_count": 5,
   "id": "6bf499ae",
   "metadata": {},
   "outputs": [],
   "source": [
    "# 기사 길이 패딩처리 (100개)\n",
    "X_train = sequence.pad_sequences(X_train, maxlen=100)\n",
    "X_test = sequence.pad_sequences(X_test, maxlen=100)"
   ]
  },
  {
   "cell_type": "code",
   "execution_count": 6,
   "id": "cac71373",
   "metadata": {},
   "outputs": [
    {
     "name": "stdout",
     "output_type": "stream",
     "text": [
      "[3 4 3 4 4]\n"
     ]
    }
   ],
   "source": [
    "print(y_train[:5])"
   ]
  },
  {
   "cell_type": "code",
   "execution_count": 7,
   "id": "5c3d3aa6",
   "metadata": {},
   "outputs": [],
   "source": [
    "# 원핫인코딩 변환\n",
    "y_train = to_categorical(y_train)\n",
    "y_test = to_categorical(y_test)"
   ]
  },
  {
   "cell_type": "code",
   "execution_count": 8,
   "id": "c0868e7e",
   "metadata": {},
   "outputs": [
    {
     "name": "stdout",
     "output_type": "stream",
     "text": [
      "[[0. 0. 0. 1. 0. 0. 0. 0. 0. 0. 0. 0. 0. 0. 0. 0. 0. 0. 0. 0. 0. 0. 0. 0.\n",
      "  0. 0. 0. 0. 0. 0. 0. 0. 0. 0. 0. 0. 0. 0. 0. 0. 0. 0. 0. 0. 0. 0.]\n",
      " [0. 0. 0. 0. 1. 0. 0. 0. 0. 0. 0. 0. 0. 0. 0. 0. 0. 0. 0. 0. 0. 0. 0. 0.\n",
      "  0. 0. 0. 0. 0. 0. 0. 0. 0. 0. 0. 0. 0. 0. 0. 0. 0. 0. 0. 0. 0. 0.]\n",
      " [0. 0. 0. 1. 0. 0. 0. 0. 0. 0. 0. 0. 0. 0. 0. 0. 0. 0. 0. 0. 0. 0. 0. 0.\n",
      "  0. 0. 0. 0. 0. 0. 0. 0. 0. 0. 0. 0. 0. 0. 0. 0. 0. 0. 0. 0. 0. 0.]\n",
      " [0. 0. 0. 0. 1. 0. 0. 0. 0. 0. 0. 0. 0. 0. 0. 0. 0. 0. 0. 0. 0. 0. 0. 0.\n",
      "  0. 0. 0. 0. 0. 0. 0. 0. 0. 0. 0. 0. 0. 0. 0. 0. 0. 0. 0. 0. 0. 0.]\n",
      " [0. 0. 0. 0. 1. 0. 0. 0. 0. 0. 0. 0. 0. 0. 0. 0. 0. 0. 0. 0. 0. 0. 0. 0.\n",
      "  0. 0. 0. 0. 0. 0. 0. 0. 0. 0. 0. 0. 0. 0. 0. 0. 0. 0. 0. 0. 0. 0.]]\n"
     ]
    }
   ],
   "source": [
    "print(y_train[:5])"
   ]
  },
  {
   "cell_type": "code",
   "execution_count": 9,
   "id": "17f042ab",
   "metadata": {},
   "outputs": [],
   "source": [
    "model = models.Sequential()\n",
    "model.add(layers.Embedding(1000, 100))\n",
    "# Embedding(1000, 100) 단어 인덱스(1부터 999까지 999개) +1 출력을 100차원으로\n",
    "model.add(layers.LSTM(100, activation='tanh'))\n",
    "model.add(layers.Dense(46, activation='softmax'))"
   ]
  },
  {
   "cell_type": "code",
   "execution_count": 10,
   "id": "aee9e337",
   "metadata": {},
   "outputs": [
    {
     "name": "stdout",
     "output_type": "stream",
     "text": [
      "Model: \"sequential\"\n",
      "_________________________________________________________________\n",
      " Layer (type)                Output Shape              Param #   \n",
      "=================================================================\n",
      " embedding (Embedding)       (None, None, 100)         100000    \n",
      "                                                                 \n",
      " lstm (LSTM)                 (None, 100)               80400     \n",
      "                                                                 \n",
      " dense (Dense)               (None, 46)                4646      \n",
      "                                                                 \n",
      "=================================================================\n",
      "Total params: 185,046\n",
      "Trainable params: 185,046\n",
      "Non-trainable params: 0\n",
      "_________________________________________________________________\n"
     ]
    }
   ],
   "source": [
    "model.summary()"
   ]
  },
  {
   "cell_type": "markdown",
   "id": "a6a2b690",
   "metadata": {},
   "source": [
    "W.shape = input x output  \n",
    "B.shape = 1 x output"
   ]
  },
  {
   "cell_type": "markdown",
   "id": "9a2821df",
   "metadata": {},
   "source": [
    "model.add(layers.Embedding(1000, 100))    \n",
    "1000x100 = **100,000**   \n",
    "model.add(layers.LSTM(100, activation='tanh'))    \n",
    "input = 100 + 100 (이전 cell의 output 100과 지금 LSTM의 input 100이 concat됨)   \n",
    "output = 100   \n",
    "(100+100)x100 +100 = 20,100 *4(4개의 신경망) = **80,400**  \n",
    "model.add(layers.Dense(46, activation='softmax'))  \n",
    "100x46 +46 = **4646**"
   ]
  },
  {
   "cell_type": "markdown",
   "id": "2c25605a",
   "metadata": {},
   "source": [
    "![18.png](18.png)"
   ]
  },
  {
   "cell_type": "code",
   "execution_count": 11,
   "id": "5b5a9568",
   "metadata": {},
   "outputs": [],
   "source": [
    "model.compile(loss='categorical_crossentropy', optimizer='adam', metrics=['accuracy'])\n",
    "early_stopping = EarlyStopping(monitor='val_loss', patience=5)"
   ]
  },
  {
   "cell_type": "code",
   "execution_count": 12,
   "id": "768ea2e6",
   "metadata": {},
   "outputs": [
    {
     "name": "stdout",
     "output_type": "stream",
     "text": [
      "Epoch 1/20\n",
      "450/450 [==============================] - 18s 34ms/step - loss: 2.2513 - accuracy: 0.4276 - val_loss: 1.8540 - val_accuracy: 0.5396\n",
      "Epoch 2/20\n",
      "450/450 [==============================] - 14s 32ms/step - loss: 1.9053 - accuracy: 0.5145 - val_loss: 1.7783 - val_accuracy: 0.5392\n",
      "Epoch 3/20\n",
      "450/450 [==============================] - 15s 32ms/step - loss: 1.6939 - accuracy: 0.5640 - val_loss: 1.6668 - val_accuracy: 0.5703\n",
      "Epoch 4/20\n",
      "450/450 [==============================] - 15s 33ms/step - loss: 1.5869 - accuracy: 0.5966 - val_loss: 1.5859 - val_accuracy: 0.6091\n",
      "Epoch 5/20\n",
      "450/450 [==============================] - 16s 36ms/step - loss: 1.4852 - accuracy: 0.6229 - val_loss: 1.5196 - val_accuracy: 0.6296\n",
      "Epoch 6/20\n",
      "450/450 [==============================] - 14s 32ms/step - loss: 1.3461 - accuracy: 0.6611 - val_loss: 1.3896 - val_accuracy: 0.6496\n",
      "Epoch 7/20\n",
      "450/450 [==============================] - 15s 32ms/step - loss: 1.2169 - accuracy: 0.6895 - val_loss: 1.3294 - val_accuracy: 0.6652\n",
      "Epoch 8/20\n",
      "450/450 [==============================] - 14s 32ms/step - loss: 1.1172 - accuracy: 0.7125 - val_loss: 1.2458 - val_accuracy: 0.6874\n",
      "Epoch 9/20\n",
      "450/450 [==============================] - 15s 33ms/step - loss: 1.0240 - accuracy: 0.7383 - val_loss: 1.1994 - val_accuracy: 0.7070\n",
      "Epoch 10/20\n",
      "450/450 [==============================] - 15s 33ms/step - loss: 0.9433 - accuracy: 0.7642 - val_loss: 1.1561 - val_accuracy: 0.7088\n",
      "Epoch 11/20\n",
      "450/450 [==============================] - 15s 32ms/step - loss: 0.8634 - accuracy: 0.7853 - val_loss: 1.1646 - val_accuracy: 0.7173\n",
      "Epoch 12/20\n",
      "450/450 [==============================] - 14s 32ms/step - loss: 0.7993 - accuracy: 0.7968 - val_loss: 1.1554 - val_accuracy: 0.7155\n",
      "Epoch 13/20\n",
      "450/450 [==============================] - 15s 32ms/step - loss: 0.7421 - accuracy: 0.8102 - val_loss: 1.1362 - val_accuracy: 0.7240\n",
      "Epoch 14/20\n",
      "450/450 [==============================] - 15s 32ms/step - loss: 0.6867 - accuracy: 0.8218 - val_loss: 1.1425 - val_accuracy: 0.7213\n",
      "Epoch 15/20\n",
      "450/450 [==============================] - 15s 34ms/step - loss: 0.6272 - accuracy: 0.8415 - val_loss: 1.1703 - val_accuracy: 0.7311\n",
      "Epoch 16/20\n",
      "450/450 [==============================] - 16s 36ms/step - loss: 0.5757 - accuracy: 0.8570 - val_loss: 1.1967 - val_accuracy: 0.7213\n",
      "Epoch 17/20\n",
      "450/450 [==============================] - 16s 35ms/step - loss: 0.5340 - accuracy: 0.8654 - val_loss: 1.2154 - val_accuracy: 0.7262\n",
      "Epoch 18/20\n",
      "450/450 [==============================] - 15s 34ms/step - loss: 0.4933 - accuracy: 0.8746 - val_loss: 1.2745 - val_accuracy: 0.7199\n"
     ]
    }
   ],
   "source": [
    "history = model.fit(X_train, y_train, batch_size=20, epochs=20,\n",
    "                    validation_data=(X_test, y_test), callbacks=[early_stopping])"
   ]
  },
  {
   "cell_type": "code",
   "execution_count": 14,
   "id": "27afc64a",
   "metadata": {},
   "outputs": [
    {
     "name": "stdout",
     "output_type": "stream",
     "text": [
      "71/71 [==============================] - 1s 11ms/step - loss: 1.2745 - accuracy: 0.7199\n",
      "Test Accuracy: 0.7199\n"
     ]
    }
   ],
   "source": [
    "print('Test Accuracy: %.4f' % (model.evaluate(X_test, y_test)[1]))"
   ]
  },
  {
   "cell_type": "code",
   "execution_count": 15,
   "id": "28d1afa2",
   "metadata": {},
   "outputs": [
    {
     "data": {
      "image/png": "[encoded data removed]",
      "text/plain": [
       "<Figure size 640x480 with 1 Axes>"
      ]
     },
     "metadata": {},
     "output_type": "display_data"
    }
   ],
   "source": [
    "y_vloss = history.history['val_loss']\n",
    "y_loss = history.history['loss']\n",
    "\n",
    "# 그래프로 표현해 보겠습니다.\n",
    "x_len = np.arange(len(y_loss))\n",
    "plt.plot(x_len, y_vloss, marker='.', c=\"red\", label='Testset_loss')\n",
    "plt.plot(x_len, y_loss, marker='.', c=\"blue\", label='Trainset_loss')\n",
    "\n",
    "# 그래프에 그리드를 주고 레이블을 표시하겠습니다. \n",
    "plt.legend(loc='upper right')\n",
    "plt.grid()\n",
    "plt.xlabel('epoch')\n",
    "plt.ylabel('loss')\n",
    "plt.show()"
   ]
  },
  {
   "cell_type": "code",
   "execution_count": null,
   "id": "e19f201f",
   "metadata": {},
   "outputs": [],
   "source": []
  }
 ],
 "metadata": {
  "kernelspec": {
   "display_name": "Python 3 (ipykernel)",
   "language": "python",
   "name": "python3"
  },
  "language_info": {
   "codemirror_mode": {
    "name": "ipython",
    "version": 3
   },
   "file_extension": ".py",
   "mimetype": "text/x-python",
   "name": "python",
   "nbconvert_exporter": "python",
   "pygments_lexer": "ipython3",
   "version": "3.8.15"
  }
 },
 "nbformat": 4,
 "nbformat_minor": 5
}

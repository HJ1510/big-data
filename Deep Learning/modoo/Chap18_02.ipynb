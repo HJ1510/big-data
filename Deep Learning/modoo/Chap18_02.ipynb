{
 "cells": [
  {
   "cell_type": "markdown",
   "id": "1149b5d3",
   "metadata": {},
   "source": [
    "https://thebook.io/080324/part05/ch18/02/"
   ]
  },
  {
   "cell_type": "code",
   "execution_count": 1,
   "id": "a70c637c",
   "metadata": {},
   "outputs": [],
   "source": [
    "from tensorflow.keras import models, layers\n",
    "from tensorflow.keras.preprocessing import sequence\n",
    "from tensorflow.keras.datasets import imdb\n",
    "from tensorflow.keras.callbacks import EarlyStopping\n",
    "\n",
    "import numpy as np\n",
    "import matplotlib.pyplot as plt\n",
    "\n",
    "import os\n",
    "os.environ[\"KMP_DUPLICATE_LIB_OK\"]=\"TRUE\""
   ]
  },
  {
   "cell_type": "code",
   "execution_count": 2,
   "id": "19a48d81",
   "metadata": {},
   "outputs": [],
   "source": [
    "(X_train, y_train), (X_test, y_test) = imdb.load_data(num_words=5000)"
   ]
  },
  {
   "cell_type": "code",
   "execution_count": 3,
   "id": "7a6d715f",
   "metadata": {},
   "outputs": [],
   "source": [
    "X_train = sequence.pad_sequences(X_train, maxlen=500)\n",
    "X_test = sequence.pad_sequences(X_test, maxlen=500)"
   ]
  },
  {
   "cell_type": "code",
   "execution_count": 9,
   "id": "218a82fe",
   "metadata": {},
   "outputs": [
    {
     "name": "stdout",
     "output_type": "stream",
     "text": [
      "Model: \"sequential_1\"\n",
      "_________________________________________________________________\n",
      " Layer (type)                Output Shape              Param #   \n",
      "=================================================================\n",
      " embedding_1 (Embedding)     (None, None, 100)         500000    \n",
      "                                                                 \n",
      " dropout_1 (Dropout)         (None, None, 100)         0         \n",
      "                                                                 \n",
      " conv1d_1 (Conv1D)           (None, None, 64)          32064     \n",
      "                                                                 \n",
      " max_pooling1d_1 (MaxPooling  (None, None, 64)         0         \n",
      " 1D)                                                             \n",
      "                                                                 \n",
      " lstm_1 (LSTM)               (None, 55)                26400     \n",
      "                                                                 \n",
      " dense_1 (Dense)             (None, 1)                 56        \n",
      "                                                                 \n",
      " activation_1 (Activation)   (None, 1)                 0         \n",
      "                                                                 \n",
      "=================================================================\n",
      "Total params: 558,520\n",
      "Trainable params: 558,520\n",
      "Non-trainable params: 0\n",
      "_________________________________________________________________\n"
     ]
    }
   ],
   "source": [
    "model = models.Sequential()\n",
    "model.add(layers.Embedding(5000, 100))\n",
    "model.add(layers.Dropout(0.5))\n",
    "model.add(layers.Conv1D(64, 5, activation='relu'))\n",
    "model.add(layers.MaxPooling1D(pool_size=4)) #MaxPooling1D(pool_size=4) 1x4 이용하여 맥스풀링\n",
    "model.add(layers.LSTM(55))\n",
    "model.add(layers.Dense(1))\n",
    "model.add(layers.Activation('sigmoid'))\n",
    "model.summary()"
   ]
  },
  {
   "cell_type": "code",
   "execution_count": 5,
   "id": "fb72f726",
   "metadata": {},
   "outputs": [
    {
     "name": "stdout",
     "output_type": "stream",
     "text": [
      "25000\n",
      "25000\n"
     ]
    }
   ],
   "source": [
    "print(len(X_train))\n",
    "print(len(X_test))"
   ]
  },
  {
   "cell_type": "code",
   "execution_count": 6,
   "id": "194f2e46",
   "metadata": {},
   "outputs": [
    {
     "name": "stdout",
     "output_type": "stream",
     "text": [
      "Epoch 1/100\n",
      "469/469 [==============================] - 46s 93ms/step - loss: 0.4096 - accuracy: 0.7974 - val_loss: 0.3041 - val_accuracy: 0.8787\n",
      "Epoch 2/100\n",
      "469/469 [==============================] - 45s 95ms/step - loss: 0.2333 - accuracy: 0.9095 - val_loss: 0.2744 - val_accuracy: 0.8854\n",
      "Epoch 3/100\n",
      "469/469 [==============================] - 40s 86ms/step - loss: 0.1831 - accuracy: 0.9336 - val_loss: 0.2650 - val_accuracy: 0.8923\n",
      "Epoch 4/100\n",
      "469/469 [==============================] - 40s 86ms/step - loss: 0.1503 - accuracy: 0.9459 - val_loss: 0.3089 - val_accuracy: 0.8810\n",
      "Epoch 5/100\n",
      "469/469 [==============================] - 41s 87ms/step - loss: 0.1254 - accuracy: 0.9557 - val_loss: 0.3421 - val_accuracy: 0.8862\n",
      "Epoch 6/100\n",
      "469/469 [==============================] - 43s 91ms/step - loss: 0.0960 - accuracy: 0.9666 - val_loss: 0.3437 - val_accuracy: 0.8845\n"
     ]
    }
   ],
   "source": [
    "model.compile(loss='binary_crossentropy', optimizer='adam', metrics=['accuracy'])\n",
    "early_stopping = EarlyStopping(monitor='val_loss', patience=3)\n",
    "history = model.fit(X_train, y_train, batch_size=40, epochs=100,\n",
    "                    validation_split=0.25, callbacks=[early_stopping])"
   ]
  },
  {
   "cell_type": "code",
   "execution_count": 7,
   "id": "51835d0c",
   "metadata": {},
   "outputs": [
    {
     "name": "stdout",
     "output_type": "stream",
     "text": [
      "782/782 [==============================] - 12s 15ms/step - loss: 0.3590 - accuracy: 0.8765\n",
      "Test Accuracy: 0.8765\n"
     ]
    }
   ],
   "source": [
    "print('Test Accuracy: %.4f' % (model.evaluate(X_test, y_test)[1]))"
   ]
  },
  {
   "cell_type": "code",
   "execution_count": 8,
   "id": "ff6e09ae",
   "metadata": {},
   "outputs": [
    {
     "data": {
      "image/png": "[encoded data removed]",
      "text/plain": [
       "<Figure size 640x480 with 1 Axes>"
      ]
     },
     "metadata": {},
     "output_type": "display_data"
    }
   ],
   "source": [
    "y_vloss = history.history['val_loss']\n",
    "y_loss = history.history['loss']\n",
    "\n",
    "# 그래프로 표현해 보겠습니다.\n",
    "x_len = np.arange(len(y_loss))\n",
    "plt.plot(x_len, y_vloss, marker='.', c=\"red\", label='Testset_loss')\n",
    "plt.plot(x_len, y_loss, marker='.', c=\"blue\", label='Trainset_loss')\n",
    "\n",
    "# 그래프에 그리드를 주고 레이블을 표시하겠습니다. \n",
    "plt.legend(loc='upper right')\n",
    "plt.grid()\n",
    "plt.xlabel('epoch')\n",
    "plt.ylabel('loss')\n",
    "plt.show()"
   ]
  }
 ],
 "metadata": {
  "kernelspec": {
   "display_name": "Python 3 (ipykernel)",
   "language": "python",
   "name": "python3"
  },
  "language_info": {
   "codemirror_mode": {
    "name": "ipython",
    "version": 3
   },
   "file_extension": ".py",
   "mimetype": "text/x-python",
   "name": "python",
   "nbconvert_exporter": "python",
   "pygments_lexer": "ipython3",
   "version": "3.8.15"
  }
 },
 "nbformat": 4,
 "nbformat_minor": 5
}

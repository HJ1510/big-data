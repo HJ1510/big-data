{
 "cells": [
  {
   "cell_type": "markdown",
   "id": "bf158c9e",
   "metadata": {},
   "source": [
    "https://thebook.io/080324/part05/ch19/04/"
   ]
  },
  {
   "cell_type": "markdown",
   "id": "3ac7bfba",
   "metadata": {},
   "source": [
    "4. 이미지의 특징을 추출하는 오토인코더  \n",
    "최근엔 오토인코더는 점점 안쓰는 추세.."
   ]
  },
  {
   "cell_type": "code",
   "execution_count": 1,
   "id": "910f559e",
   "metadata": {},
   "outputs": [],
   "source": [
    "from tensorflow.keras.datasets import mnist\n",
    "from tensorflow.keras import models, layers\n",
    "\n",
    "import numpy as np\n",
    "import matplotlib.pyplot as plt\n",
    "\n",
    "import os\n",
    "os.environ[\"KMP_DUPLICATE_LIB_OK\"]=\"TRUE\""
   ]
  },
  {
   "cell_type": "code",
   "execution_count": 3,
   "id": "a5932152",
   "metadata": {},
   "outputs": [],
   "source": [
    "(X_train, _), (X_test, _) = mnist.load_data()\n",
    "X_train = X_train.reshape(X_train.shape[0], 28, 28, 1).astype(float) / 255\n",
    "X_test = X_test.reshape(X_test.shape[0], 28, 28, 1).astype(float) / 255"
   ]
  },
  {
   "cell_type": "code",
   "execution_count": 5,
   "id": "192dc0b6",
   "metadata": {},
   "outputs": [
    {
     "name": "stdout",
     "output_type": "stream",
     "text": [
      "Model: \"sequential_1\"\n",
      "_________________________________________________________________\n",
      " Layer (type)                Output Shape              Param #   \n",
      "=================================================================\n",
      " conv2d (Conv2D)             (None, 28, 28, 16)        160       \n",
      "                                                                 \n",
      " max_pooling2d (MaxPooling2D  (None, 14, 14, 16)       0         \n",
      " )                                                               \n",
      "                                                                 \n",
      " conv2d_1 (Conv2D)           (None, 14, 14, 8)         1160      \n",
      "                                                                 \n",
      " max_pooling2d_1 (MaxPooling  (None, 7, 7, 8)          0         \n",
      " 2D)                                                             \n",
      "                                                                 \n",
      " conv2d_2 (Conv2D)           (None, 4, 4, 8)           584       \n",
      "                                                                 \n",
      " conv2d_3 (Conv2D)           (None, 4, 4, 8)           584       \n",
      "                                                                 \n",
      " up_sampling2d (UpSampling2D  (None, 8, 8, 8)          0         \n",
      " )                                                               \n",
      "                                                                 \n",
      " conv2d_4 (Conv2D)           (None, 8, 8, 8)           584       \n",
      "                                                                 \n",
      " up_sampling2d_1 (UpSampling  (None, 16, 16, 8)        0         \n",
      " 2D)                                                             \n",
      "                                                                 \n",
      " conv2d_5 (Conv2D)           (None, 14, 14, 16)        1168      \n",
      "                                                                 \n",
      " up_sampling2d_2 (UpSampling  (None, 28, 28, 16)       0         \n",
      " 2D)                                                             \n",
      "                                                                 \n",
      " conv2d_6 (Conv2D)           (None, 28, 28, 1)         145       \n",
      "                                                                 \n",
      "=================================================================\n",
      "Total params: 4,385\n",
      "Trainable params: 4,385\n",
      "Non-trainable params: 0\n",
      "_________________________________________________________________\n"
     ]
    }
   ],
   "source": [
    "autoencoder = models.Sequential()\n",
    "autoencoder.add(layers.Conv2D(16, kernel_size=3, padding='same', input_shape=(28,28,1),\n",
    "                              activation='relu'))\n",
    "autoencoder.add(layers.MaxPooling2D(pool_size=2, padding='same'))\n",
    "autoencoder.add(layers.Conv2D(8, kernel_size=3, padding='same', activation='relu'))\n",
    "autoencoder.add(layers.MaxPooling2D(pool_size=2, padding='same'))\n",
    "autoencoder.add(layers.Conv2D(8, kernel_size=3, padding='same', activation='relu', \n",
    "                              strides=2))\n",
    "\n",
    "\n",
    "autoencoder.add(layers.Conv2D(8, kernel_size=3, padding='same', activation='relu'))\n",
    "autoencoder.add(layers.UpSampling2D())\n",
    "autoencoder.add(layers.Conv2D(8, kernel_size=3, padding='same', activation='relu'))\n",
    "autoencoder.add(layers.UpSampling2D())\n",
    "autoencoder.add(layers.Conv2D(16, kernel_size=3, activation='relu'))\n",
    "autoencoder.add(layers.UpSampling2D())\n",
    "autoencoder.add(layers.Conv2D(1, kernel_size=3, padding='same', activation='sigmoid'))\n",
    "autoencoder.summary()"
   ]
  },
  {
   "cell_type": "markdown",
   "id": "ec980b46",
   "metadata": {},
   "source": [
    "shape의 변화가 관건"
   ]
  },
  {
   "cell_type": "code",
   "execution_count": 8,
   "id": "386c83ab",
   "metadata": {},
   "outputs": [
    {
     "name": "stdout",
     "output_type": "stream",
     "text": [
      "Epoch 1/50\n",
      "469/469 [==============================] - 84s 177ms/step - loss: 0.2213 - val_loss: 0.1336\n",
      "Epoch 2/50\n",
      "469/469 [==============================] - 83s 178ms/step - loss: 0.1252 - val_loss: 0.1184\n",
      "Epoch 3/50\n",
      "469/469 [==============================] - 83s 176ms/step - loss: 0.1154 - val_loss: 0.1113\n",
      "Epoch 4/50\n",
      "469/469 [==============================] - 84s 179ms/step - loss: 0.1103 - val_loss: 0.1069\n",
      "Epoch 5/50\n",
      "469/469 [==============================] - 83s 176ms/step - loss: 0.1067 - val_loss: 0.1039\n",
      "Epoch 6/50\n",
      "469/469 [==============================] - 83s 176ms/step - loss: 0.1040 - val_loss: 0.1015\n",
      "Epoch 7/50\n",
      "469/469 [==============================] - 86s 183ms/step - loss: 0.1019 - val_loss: 0.0995\n",
      "Epoch 8/50\n",
      "469/469 [==============================] - 86s 184ms/step - loss: 0.1001 - val_loss: 0.0980\n",
      "Epoch 9/50\n",
      "469/469 [==============================] - 86s 183ms/step - loss: 0.0987 - val_loss: 0.0967\n",
      "Epoch 10/50\n",
      "469/469 [==============================] - 84s 180ms/step - loss: 0.0974 - val_loss: 0.0955\n",
      "Epoch 11/50\n",
      "469/469 [==============================] - 85s 180ms/step - loss: 0.0962 - val_loss: 0.0946\n",
      "Epoch 12/50\n",
      "469/469 [==============================] - 87s 185ms/step - loss: 0.0950 - val_loss: 0.0936\n",
      "Epoch 13/50\n",
      "469/469 [==============================] - 85s 181ms/step - loss: 0.0941 - val_loss: 0.0927\n",
      "Epoch 14/50\n",
      "469/469 [==============================] - 83s 177ms/step - loss: 0.0933 - val_loss: 0.0919\n",
      "Epoch 15/50\n",
      "469/469 [==============================] - 84s 180ms/step - loss: 0.0925 - val_loss: 0.0909\n",
      "Epoch 16/50\n",
      "469/469 [==============================] - 90s 192ms/step - loss: 0.0919 - val_loss: 0.0903\n",
      "Epoch 17/50\n",
      "469/469 [==============================] - 88s 187ms/step - loss: 0.0914 - val_loss: 0.0898\n",
      "Epoch 18/50\n",
      "469/469 [==============================] - 83s 177ms/step - loss: 0.0909 - val_loss: 0.0902\n",
      "Epoch 19/50\n",
      "469/469 [==============================] - 84s 179ms/step - loss: 0.0904 - val_loss: 0.0892\n",
      "Epoch 20/50\n",
      "469/469 [==============================] - 83s 177ms/step - loss: 0.0900 - val_loss: 0.0887\n",
      "Epoch 21/50\n",
      "469/469 [==============================] - 84s 178ms/step - loss: 0.0896 - val_loss: 0.0883\n",
      "Epoch 22/50\n",
      "469/469 [==============================] - 83s 177ms/step - loss: 0.0892 - val_loss: 0.0882\n",
      "Epoch 23/50\n",
      "469/469 [==============================] - 83s 177ms/step - loss: 0.0888 - val_loss: 0.0877\n",
      "Epoch 24/50\n",
      "469/469 [==============================] - 82s 176ms/step - loss: 0.0885 - val_loss: 0.0872\n",
      "Epoch 25/50\n",
      "469/469 [==============================] - 83s 177ms/step - loss: 0.0882 - val_loss: 0.0870\n",
      "Epoch 26/50\n",
      "469/469 [==============================] - 84s 179ms/step - loss: 0.0878 - val_loss: 0.0866\n",
      "Epoch 27/50\n",
      "469/469 [==============================] - 83s 178ms/step - loss: 0.0876 - val_loss: 0.0864\n",
      "Epoch 28/50\n",
      "469/469 [==============================] - 83s 177ms/step - loss: 0.0873 - val_loss: 0.0861\n",
      "Epoch 29/50\n",
      "469/469 [==============================] - 84s 178ms/step - loss: 0.0871 - val_loss: 0.0865\n",
      "Epoch 30/50\n",
      "469/469 [==============================] - 83s 177ms/step - loss: 0.0868 - val_loss: 0.0857\n",
      "Epoch 31/50\n",
      "469/469 [==============================] - 83s 177ms/step - loss: 0.0866 - val_loss: 0.0856\n",
      "Epoch 32/50\n",
      "469/469 [==============================] - 83s 177ms/step - loss: 0.0864 - val_loss: 0.0852\n",
      "Epoch 33/50\n",
      "469/469 [==============================] - 83s 178ms/step - loss: 0.0861 - val_loss: 0.0850\n",
      "Epoch 34/50\n",
      "469/469 [==============================] - 83s 177ms/step - loss: 0.0860 - val_loss: 0.0851\n",
      "Epoch 35/50\n",
      "469/469 [==============================] - 83s 177ms/step - loss: 0.0858 - val_loss: 0.0846\n",
      "Epoch 36/50\n",
      "469/469 [==============================] - 84s 180ms/step - loss: 0.0856 - val_loss: 0.0845\n",
      "Epoch 37/50\n",
      "469/469 [==============================] - 89s 190ms/step - loss: 0.0854 - val_loss: 0.0844\n",
      "Epoch 38/50\n",
      "469/469 [==============================] - 84s 180ms/step - loss: 0.0853 - val_loss: 0.0843\n",
      "Epoch 39/50\n",
      "469/469 [==============================] - 85s 181ms/step - loss: 0.0851 - val_loss: 0.0839\n",
      "Epoch 40/50\n",
      "469/469 [==============================] - 84s 178ms/step - loss: 0.0849 - val_loss: 0.0839\n",
      "Epoch 41/50\n",
      "469/469 [==============================] - 84s 179ms/step - loss: 0.0848 - val_loss: 0.0838\n",
      "Epoch 42/50\n",
      "469/469 [==============================] - 83s 177ms/step - loss: 0.0847 - val_loss: 0.0835\n",
      "Epoch 43/50\n",
      "469/469 [==============================] - 83s 177ms/step - loss: 0.0845 - val_loss: 0.0834\n",
      "Epoch 44/50\n",
      "469/469 [==============================] - 84s 178ms/step - loss: 0.0844 - val_loss: 0.0832\n",
      "Epoch 45/50\n",
      "469/469 [==============================] - 83s 178ms/step - loss: 0.0843 - val_loss: 0.0831\n",
      "Epoch 46/50\n",
      "469/469 [==============================] - 83s 178ms/step - loss: 0.0842 - val_loss: 0.0830\n",
      "Epoch 47/50\n",
      "469/469 [==============================] - 84s 178ms/step - loss: 0.0840 - val_loss: 0.0829\n",
      "Epoch 48/50\n",
      "469/469 [==============================] - 83s 178ms/step - loss: 0.0839 - val_loss: 0.0831\n",
      "Epoch 49/50\n",
      "469/469 [==============================] - 83s 177ms/step - loss: 0.0837 - val_loss: 0.0826\n",
      "Epoch 50/50\n",
      "469/469 [==============================] - 83s 176ms/step - loss: 0.0837 - val_loss: 0.0827\n"
     ]
    },
    {
     "data": {
      "text/plain": [
       "<keras.callbacks.History at 0x2a85976be20>"
      ]
     },
     "execution_count": 8,
     "metadata": {},
     "output_type": "execute_result"
    }
   ],
   "source": [
    "autoencoder.compile(loss='binary_crossentropy', optimizer='adam')\n",
    "autoencoder.fit(X_train, X_train, epochs=50, batch_size=128, \n",
    "                validation_data=(X_test, X_test))\n",
    "# X_train, X_train = input, target"
   ]
  },
  {
   "cell_type": "code",
   "execution_count": 9,
   "id": "f66521ac",
   "metadata": {},
   "outputs": [
    {
     "name": "stdout",
     "output_type": "stream",
     "text": [
      "313/313 [==============================] - 1s 3ms/step\n"
     ]
    },
    {
     "data": {
      "image/png": "[encoded data removed]",
      "text/plain": [
       "<Figure size 700x200 with 10 Axes>"
      ]
     },
     "metadata": {},
     "output_type": "display_data"
    }
   ],
   "source": [
    "random_test = np.random.randint(X_test.shape[0], size=5)  # 테스트할 이미지를 랜덤하게 불러옵니다.\n",
    "ae_imgs = autoencoder.predict(X_test)                     # 앞서 만든 오토인코더 모델에 집어 넣습니다.\n",
    "\n",
    "plt.figure(figsize=(7, 2))                         # 출력될 이미지의 크기를 정합니다.\n",
    "\n",
    "# 랜덤으로 뽑아 원본 vs 오토인코딩 이미지 비교\n",
    "for i, image_idx in enumerate(random_test):       # 랜덤하게 뽑은 이미지를 차례로 나열합니다.\n",
    "   ax = plt.subplot(2, 7, i + 1) \n",
    "   plt.imshow(X_test[image_idx].reshape(28, 28))   # 테스트할 이미지를 먼저 그대로 보여줍니다.\n",
    "   ax.axis('off')\n",
    "   ax = plt.subplot(2, 7, 7 + i +1)\n",
    "   plt.imshow(ae_imgs[image_idx].reshape(28, 28)) # 오토인코딩 결과를 다음열에 출력합니다.\n",
    "   ax.axis('off')\n",
    "plt.show()"
   ]
  },
  {
   "cell_type": "code",
   "execution_count": null,
   "id": "89ddfb54",
   "metadata": {},
   "outputs": [],
   "source": []
  },
  {
   "cell_type": "code",
   "execution_count": null,
   "id": "c9449045",
   "metadata": {},
   "outputs": [],
   "source": []
  },
  {
   "cell_type": "code",
   "execution_count": null,
   "id": "81a66f6b",
   "metadata": {},
   "outputs": [],
   "source": []
  }
 ],
 "metadata": {
  "kernelspec": {
   "display_name": "Python 3 (ipykernel)",
   "language": "python",
   "name": "python3"
  },
  "language_info": {
   "codemirror_mode": {
    "name": "ipython",
    "version": 3
   },
   "file_extension": ".py",
   "mimetype": "text/x-python",
   "name": "python",
   "nbconvert_exporter": "python",
   "pygments_lexer": "ipython3",
   "version": "3.8.15"
  }
 },
 "nbformat": 4,
 "nbformat_minor": 5
}

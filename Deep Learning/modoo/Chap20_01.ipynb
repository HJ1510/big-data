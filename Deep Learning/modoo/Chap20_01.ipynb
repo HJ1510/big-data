{
 "cells": [
  {
   "cell_type": "markdown",
   "id": "661742d2",
   "metadata": {},
   "source": [
    "https://thebook.io/080324/part05/ch20/"
   ]
  },
  {
   "cell_type": "markdown",
   "id": "5f4bca74",
   "metadata": {},
   "source": [
    "### 20장 전이 학습을 통해 딥러닝의 성능 극대화하기\n",
    "1. 소규모 데이터셋으로 만드는 강력한 학습 모델"
   ]
  },
  {
   "cell_type": "code",
   "execution_count": 1,
   "id": "ad8739ec",
   "metadata": {},
   "outputs": [],
   "source": [
    "from tensorflow.keras import models, layers, optimizers\n",
    "from tensorflow.keras.preprocessing.image import ImageDataGenerator\n",
    "from tensorflow.keras.callbacks import EarlyStopping\n",
    "\n",
    "import numpy as np\n",
    "import matplotlib.pyplot as plt\n",
    "\n",
    "import os\n",
    "os.environ[\"KMP_DUPLICATE_LIB_OK\"]=\"TRUE\""
   ]
  },
  {
   "cell_type": "code",
   "execution_count": 2,
   "id": "af724aac",
   "metadata": {},
   "outputs": [],
   "source": [
    "BATCH_SIZE = 5"
   ]
  },
  {
   "cell_type": "code",
   "execution_count": 3,
   "id": "211535cf",
   "metadata": {},
   "outputs": [
    {
     "name": "stdout",
     "output_type": "stream",
     "text": [
      "Found 160 images belonging to 2 classes.\n",
      "Found 120 images belonging to 2 classes.\n"
     ]
    }
   ],
   "source": [
    "train_datagen = ImageDataGenerator(rescale=1./255,          # 주어진 이미지의 크기를 설정합니다.\n",
    "                                  horizontal_flip=True,     # 수평 대칭(좌우반전) 이미지를 50% 확률로 만들어 추가합니다.\n",
    "                                  width_shift_range=0.1,    # 전체 크기의 15% 범위에서 좌우로 이동합니다.\n",
    "                                  height_shift_range=0.1,   # 마찬가지로 위, 아래로 이동합니다.\n",
    "                                  #rotation_range=5,        # 정해진 각도만큼 회전시킵니다.\n",
    "                                  #shear_range=0.7,         # 좌표 하나를 고정시키고 나머지를 이동시킵니다.\n",
    "                                  #zoom_range=1.2,          # 확대 또는 축소시킵니다.\n",
    "                                  #vertical_flip=True,      # 수직 대칭(상하반전) 이미지를 만듭니다.\n",
    "                                  #fill_mode='nearest'      # 빈 공간을 채우는 방법입니다. nearest 옵션은 가장 비슷한 색으로 채우게 됩니다.\n",
    "                                  )      \n",
    "\n",
    "train_generator = train_datagen.flow_from_directory(\n",
    "       './data/train',   # 학습셋이 있는 폴더의 위치입니다.\n",
    "       target_size=(150, 150),\n",
    "       batch_size=BATCH_SIZE,\n",
    "       class_mode='binary') #이진분류\n",
    "\n",
    "test_datagen = ImageDataGenerator(rescale=1./255)  \n",
    "\n",
    "test_generator = test_datagen.flow_from_directory(\n",
    "       './data/test',   # 테스트셋이 있는 폴더의 위치입니다.\n",
    "       target_size=(150, 150),\n",
    "       batch_size=BATCH_SIZE,\n",
    "       class_mode='binary')"
   ]
  },
  {
   "cell_type": "code",
   "execution_count": 4,
   "id": "5a9fd9a6",
   "metadata": {},
   "outputs": [
    {
     "name": "stdout",
     "output_type": "stream",
     "text": [
      "Model: \"sequential\"\n",
      "_________________________________________________________________\n",
      " Layer (type)                Output Shape              Param #   \n",
      "=================================================================\n",
      " conv2d (Conv2D)             (None, 148, 148, 32)      896       \n",
      "                                                                 \n",
      " activation (Activation)     (None, 148, 148, 32)      0         \n",
      "                                                                 \n",
      " max_pooling2d (MaxPooling2D  (None, 74, 74, 32)       0         \n",
      " )                                                               \n",
      "                                                                 \n",
      " conv2d_1 (Conv2D)           (None, 72, 72, 32)        9248      \n",
      "                                                                 \n",
      " activation_1 (Activation)   (None, 72, 72, 32)        0         \n",
      "                                                                 \n",
      " max_pooling2d_1 (MaxPooling  (None, 36, 36, 32)       0         \n",
      " 2D)                                                             \n",
      "                                                                 \n",
      " conv2d_2 (Conv2D)           (None, 34, 34, 64)        18496     \n",
      "                                                                 \n",
      " activation_2 (Activation)   (None, 34, 34, 64)        0         \n",
      "                                                                 \n",
      " max_pooling2d_2 (MaxPooling  (None, 17, 17, 64)       0         \n",
      " 2D)                                                             \n",
      "                                                                 \n",
      " flatten (Flatten)           (None, 18496)             0         \n",
      "                                                                 \n",
      " dense (Dense)               (None, 64)                1183808   \n",
      "                                                                 \n",
      " activation_3 (Activation)   (None, 64)                0         \n",
      "                                                                 \n",
      " dropout (Dropout)           (None, 64)                0         \n",
      "                                                                 \n",
      " dense_1 (Dense)             (None, 1)                 65        \n",
      "                                                                 \n",
      " activation_4 (Activation)   (None, 1)                 0         \n",
      "                                                                 \n",
      "=================================================================\n",
      "Total params: 1,212,513\n",
      "Trainable params: 1,212,513\n",
      "Non-trainable params: 0\n",
      "_________________________________________________________________\n"
     ]
    }
   ],
   "source": [
    "model = models.Sequential()\n",
    "model.add(layers.Conv2D(32, (3, 3), input_shape=(150, 150, 3)))\n",
    "model.add(layers.Activation('relu'))\n",
    "model.add(layers.MaxPooling2D(pool_size=(2, 2)))\n",
    "\n",
    "model.add(layers.Conv2D(32, (3, 3)))\n",
    "model.add(layers.Activation('relu'))\n",
    "model.add(layers.MaxPooling2D(pool_size=(2, 2)))\n",
    "\n",
    "model.add(layers.Conv2D(64, (3, 3)))\n",
    "model.add(layers.Activation('relu'))\n",
    "model.add(layers.MaxPooling2D(pool_size=(2, 2)))\n",
    "\n",
    "model.add(layers.Flatten())\n",
    "model.add(layers.Dense(64))\n",
    "model.add(layers.Activation('relu'))\n",
    "model.add(layers.Dropout(0.5))\n",
    "model.add(layers.Dense(1))\n",
    "model.add(layers.Activation('sigmoid'))\n",
    "model.summary()"
   ]
  },
  {
   "cell_type": "code",
   "execution_count": 5,
   "id": "69361ddb",
   "metadata": {},
   "outputs": [],
   "source": [
    "model.compile(loss='binary_crossentropy', \n",
    "              optimizer=optimizers.Adam(learning_rate=0.0002), # Adam learning_rate 기본값은 0.001\n",
    "              metrics=['accuracy']\n",
    "             )"
   ]
  },
  {
   "cell_type": "code",
   "execution_count": 6,
   "id": "bbb544bb",
   "metadata": {},
   "outputs": [],
   "source": [
    "early_stopping = EarlyStopping(monitor='val_loss', patience=5)"
   ]
  },
  {
   "cell_type": "code",
   "execution_count": 7,
   "id": "b4ade2e3",
   "metadata": {},
   "outputs": [
    {
     "name": "stdout",
     "output_type": "stream",
     "text": [
      "Epoch 1/100\n",
      "32/32 [==============================] - 3s 68ms/step - loss: 0.7071 - accuracy: 0.5000 - val_loss: 0.6878 - val_accuracy: 0.6500\n",
      "Epoch 2/100\n",
      "32/32 [==============================] - 2s 63ms/step - loss: 0.6950 - accuracy: 0.4437 - val_loss: 0.6856 - val_accuracy: 0.5000\n",
      "Epoch 3/100\n",
      "32/32 [==============================] - 2s 58ms/step - loss: 0.6900 - accuracy: 0.5437 - val_loss: 0.6782 - val_accuracy: 0.6333\n",
      "Epoch 4/100\n",
      "32/32 [==============================] - 2s 57ms/step - loss: 0.6824 - accuracy: 0.5750 - val_loss: 0.6728 - val_accuracy: 0.5167\n",
      "Epoch 5/100\n",
      "32/32 [==============================] - 2s 57ms/step - loss: 0.6695 - accuracy: 0.6000 - val_loss: 0.6449 - val_accuracy: 0.7417\n",
      "Epoch 6/100\n",
      "32/32 [==============================] - 2s 57ms/step - loss: 0.6530 - accuracy: 0.6625 - val_loss: 0.6489 - val_accuracy: 0.5333\n",
      "Epoch 7/100\n",
      "32/32 [==============================] - 2s 64ms/step - loss: 0.5998 - accuracy: 0.7063 - val_loss: 0.5435 - val_accuracy: 0.7750\n",
      "Epoch 8/100\n",
      "32/32 [==============================] - 2s 61ms/step - loss: 0.5359 - accuracy: 0.7375 - val_loss: 0.5108 - val_accuracy: 0.7250\n",
      "Epoch 9/100\n",
      "32/32 [==============================] - 2s 68ms/step - loss: 0.5048 - accuracy: 0.7937 - val_loss: 0.4449 - val_accuracy: 0.8250\n",
      "Epoch 10/100\n",
      "32/32 [==============================] - 2s 58ms/step - loss: 0.4540 - accuracy: 0.8125 - val_loss: 0.3467 - val_accuracy: 0.8917\n",
      "Epoch 11/100\n",
      "32/32 [==============================] - 2s 58ms/step - loss: 0.3580 - accuracy: 0.8813 - val_loss: 0.2793 - val_accuracy: 0.9167\n",
      "Epoch 12/100\n",
      "32/32 [==============================] - 2s 59ms/step - loss: 0.3059 - accuracy: 0.9125 - val_loss: 0.2287 - val_accuracy: 0.9583\n",
      "Epoch 13/100\n",
      "32/32 [==============================] - 2s 56ms/step - loss: 0.3048 - accuracy: 0.9062 - val_loss: 0.1761 - val_accuracy: 0.9667\n",
      "Epoch 14/100\n",
      "32/32 [==============================] - 2s 57ms/step - loss: 0.1968 - accuracy: 0.9438 - val_loss: 0.1504 - val_accuracy: 0.9500\n",
      "Epoch 15/100\n",
      "32/32 [==============================] - 2s 57ms/step - loss: 0.2053 - accuracy: 0.9312 - val_loss: 0.1301 - val_accuracy: 0.9750\n",
      "Epoch 16/100\n",
      "32/32 [==============================] - 2s 58ms/step - loss: 0.1915 - accuracy: 0.9312 - val_loss: 0.1129 - val_accuracy: 0.9833\n",
      "Epoch 17/100\n",
      "32/32 [==============================] - 2s 57ms/step - loss: 0.1662 - accuracy: 0.9375 - val_loss: 0.1120 - val_accuracy: 0.9667\n",
      "Epoch 18/100\n",
      "32/32 [==============================] - 2s 57ms/step - loss: 0.1518 - accuracy: 0.9500 - val_loss: 0.1069 - val_accuracy: 0.9417\n",
      "Epoch 19/100\n",
      "32/32 [==============================] - 2s 58ms/step - loss: 0.1178 - accuracy: 0.9625 - val_loss: 0.0938 - val_accuracy: 0.9583\n",
      "Epoch 20/100\n",
      "32/32 [==============================] - 2s 57ms/step - loss: 0.1176 - accuracy: 0.9438 - val_loss: 0.0879 - val_accuracy: 0.9833\n",
      "Epoch 21/100\n",
      "32/32 [==============================] - 2s 58ms/step - loss: 0.1151 - accuracy: 0.9625 - val_loss: 0.0777 - val_accuracy: 0.9833\n",
      "Epoch 22/100\n",
      "32/32 [==============================] - 2s 58ms/step - loss: 0.0842 - accuracy: 0.9750 - val_loss: 0.0687 - val_accuracy: 0.9833\n",
      "Epoch 23/100\n",
      "32/32 [==============================] - 2s 57ms/step - loss: 0.1495 - accuracy: 0.9250 - val_loss: 0.0851 - val_accuracy: 0.9750\n",
      "Epoch 24/100\n",
      "32/32 [==============================] - 2s 57ms/step - loss: 0.1004 - accuracy: 0.9750 - val_loss: 0.0712 - val_accuracy: 0.9833\n",
      "Epoch 25/100\n",
      "32/32 [==============================] - 2s 57ms/step - loss: 0.0865 - accuracy: 0.9688 - val_loss: 0.0859 - val_accuracy: 0.9500\n",
      "Epoch 26/100\n",
      "32/32 [==============================] - 2s 58ms/step - loss: 0.1322 - accuracy: 0.9563 - val_loss: 0.1509 - val_accuracy: 0.9333\n",
      "Epoch 27/100\n",
      "32/32 [==============================] - 2s 58ms/step - loss: 0.0880 - accuracy: 0.9688 - val_loss: 0.0903 - val_accuracy: 0.9667\n"
     ]
    }
   ],
   "source": [
    "history = model.fit(train_generator, epochs=100, validation_data=test_generator, \n",
    "                    callbacks=[early_stopping])"
   ]
  },
  {
   "cell_type": "code",
   "execution_count": 8,
   "id": "8da142ba",
   "metadata": {},
   "outputs": [
    {
     "data": {
      "image/png": "[encoded data removed]",
      "text/plain": [
       "<Figure size 640x480 with 1 Axes>"
      ]
     },
     "metadata": {},
     "output_type": "display_data"
    }
   ],
   "source": [
    "y_vloss = history.history['val_loss']\n",
    "y_loss = history.history['loss']\n",
    "\n",
    "# 그래프로 표현해 봅니다.\n",
    "x_len = np.arange(len(y_loss))\n",
    "plt.plot(x_len, y_vloss, marker='.', c=\"red\", label='Testset_loss')\n",
    "plt.plot(x_len, y_loss, marker='.', c=\"blue\", label='Trainset_loss')\n",
    "\n",
    "# 그래프에 그리드를 주고 레이블을 표시하겠습니다.\n",
    "plt.legend(loc='upper right')\n",
    "plt.grid()\n",
    "plt.xlabel('epoch')\n",
    "plt.ylabel('loss')\n",
    "plt.show()"
   ]
  },
  {
   "cell_type": "code",
   "execution_count": null,
   "id": "877252ca",
   "metadata": {},
   "outputs": [],
   "source": []
  }
 ],
 "metadata": {
  "kernelspec": {
   "display_name": "Python 3 (ipykernel)",
   "language": "python",
   "name": "python3"
  },
  "language_info": {
   "codemirror_mode": {
    "name": "ipython",
    "version": 3
   },
   "file_extension": ".py",
   "mimetype": "text/x-python",
   "name": "python",
   "nbconvert_exporter": "python",
   "pygments_lexer": "ipython3",
   "version": "3.8.15"
  }
 },
 "nbformat": 4,
 "nbformat_minor": 5
}

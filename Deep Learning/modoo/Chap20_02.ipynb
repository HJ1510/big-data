{
 "cells": [
  {
   "cell_type": "markdown",
   "id": "9ba06993",
   "metadata": {},
   "source": [
    "2. 전이 학습으로 모델 성능 극대화하기"
   ]
  },
  {
   "cell_type": "code",
   "execution_count": 1,
   "id": "58ea9ba8",
   "metadata": {},
   "outputs": [],
   "source": [
    "from tensorflow.keras import models, layers, optimizers\n",
    "from tensorflow.keras.preprocessing.image import ImageDataGenerator\n",
    "from tensorflow.keras.callbacks import EarlyStopping\n",
    "from tensorflow.keras.applications import VGG16\n",
    "\n",
    "import numpy as np\n",
    "import matplotlib.pyplot as plt\n",
    "\n",
    "import os\n",
    "os.environ[\"KMP_DUPLICATE_LIB_OK\"]=\"TRUE\""
   ]
  },
  {
   "cell_type": "code",
   "execution_count": 2,
   "id": "1544d9ab",
   "metadata": {},
   "outputs": [],
   "source": [
    "BATCH_SIZE = 5"
   ]
  },
  {
   "cell_type": "code",
   "execution_count": 3,
   "id": "1a124e64",
   "metadata": {
    "scrolled": true
   },
   "outputs": [
    {
     "name": "stdout",
     "output_type": "stream",
     "text": [
      "Found 160 images belonging to 2 classes.\n",
      "Found 120 images belonging to 2 classes.\n"
     ]
    }
   ],
   "source": [
    "train_datagen = ImageDataGenerator(rescale=1./255,          # 주어진 이미지의 크기를 설정합니다.\n",
    "                                  horizontal_flip=True,     # 수평 대칭(좌우반전) 이미지를 50% 확률로 만들어 추가합니다.\n",
    "                                  width_shift_range=0.1,    # 전체 크기의 15% 범위에서 좌우로 이동합니다.\n",
    "                                  height_shift_range=0.1,   # 마찬가지로 위, 아래로 이동합니다.\n",
    "                                  #rotation_range=5,        # 정해진 각도만큼 회전시킵니다.\n",
    "                                  #shear_range=0.7,         # 좌표 하나를 고정시키고 나머지를 이동시킵니다.\n",
    "                                  #zoom_range=1.2,          # 확대 또는 축소시킵니다.\n",
    "                                  #vertical_flip=True,      # 수직 대칭(상하반전) 이미지를 만듭니다.\n",
    "                                  #fill_mode='nearest'      # 빈 공간을 채우는 방법입니다. nearest 옵션은 가장 비슷한 색으로 채우게 됩니다.\n",
    "                                  )      \n",
    "\n",
    "train_generator = train_datagen.flow_from_directory(\n",
    "       './data/train',   # 학습셋이 있는 폴더의 위치입니다.\n",
    "       target_size=(150, 150),\n",
    "       batch_size=BATCH_SIZE,\n",
    "       class_mode='binary') #이진분류\n",
    "\n",
    "test_datagen = ImageDataGenerator(rescale=1./255)  \n",
    "\n",
    "test_generator = test_datagen.flow_from_directory(\n",
    "       './data/test',   # 테스트셋이 있는 폴더의 위치입니다.\n",
    "       target_size=(150, 150),\n",
    "       batch_size=BATCH_SIZE,\n",
    "       class_mode='binary')"
   ]
  },
  {
   "cell_type": "code",
   "execution_count": 4,
   "id": "2d4bdd80",
   "metadata": {},
   "outputs": [
    {
     "name": "stdout",
     "output_type": "stream",
     "text": [
      "Downloading data from https://storage.googleapis.com/tensorflow/keras-applications/vgg16/vgg16_weights_tf_dim_ordering_tf_kernels_notop.h5\n",
      "58889256/58889256 [==============================] - 1s 0us/step\n",
      "Model: \"vgg16\"\n",
      "_________________________________________________________________\n",
      " Layer (type)                Output Shape              Param #   \n",
      "=================================================================\n",
      " input_1 (InputLayer)        [(None, 150, 150, 3)]     0         \n",
      "                                                                 \n",
      " block1_conv1 (Conv2D)       (None, 150, 150, 64)      1792      \n",
      "                                                                 \n",
      " block1_conv2 (Conv2D)       (None, 150, 150, 64)      36928     \n",
      "                                                                 \n",
      " block1_pool (MaxPooling2D)  (None, 75, 75, 64)        0         \n",
      "                                                                 \n",
      " block2_conv1 (Conv2D)       (None, 75, 75, 128)       73856     \n",
      "                                                                 \n",
      " block2_conv2 (Conv2D)       (None, 75, 75, 128)       147584    \n",
      "                                                                 \n",
      " block2_pool (MaxPooling2D)  (None, 37, 37, 128)       0         \n",
      "                                                                 \n",
      " block3_conv1 (Conv2D)       (None, 37, 37, 256)       295168    \n",
      "                                                                 \n",
      " block3_conv2 (Conv2D)       (None, 37, 37, 256)       590080    \n",
      "                                                                 \n",
      " block3_conv3 (Conv2D)       (None, 37, 37, 256)       590080    \n",
      "                                                                 \n",
      " block3_pool (MaxPooling2D)  (None, 18, 18, 256)       0         \n",
      "                                                                 \n",
      " block4_conv1 (Conv2D)       (None, 18, 18, 512)       1180160   \n",
      "                                                                 \n",
      " block4_conv2 (Conv2D)       (None, 18, 18, 512)       2359808   \n",
      "                                                                 \n",
      " block4_conv3 (Conv2D)       (None, 18, 18, 512)       2359808   \n",
      "                                                                 \n",
      " block4_pool (MaxPooling2D)  (None, 9, 9, 512)         0         \n",
      "                                                                 \n",
      " block5_conv1 (Conv2D)       (None, 9, 9, 512)         2359808   \n",
      "                                                                 \n",
      " block5_conv2 (Conv2D)       (None, 9, 9, 512)         2359808   \n",
      "                                                                 \n",
      " block5_conv3 (Conv2D)       (None, 9, 9, 512)         2359808   \n",
      "                                                                 \n",
      " block5_pool (MaxPooling2D)  (None, 4, 4, 512)         0         \n",
      "                                                                 \n",
      "=================================================================\n",
      "Total params: 14,714,688\n",
      "Trainable params: 0\n",
      "Non-trainable params: 14,714,688\n",
      "_________________________________________________________________\n"
     ]
    }
   ],
   "source": [
    "transfer_model = VGG16(weights='imagenet', \n",
    "                       include_top=False,    #top은 false인 상태로 가져옴\n",
    "                       input_shape=(150, 150,3))\n",
    "transfer_model.trainable = False\n",
    "transfer_model.summary()"
   ]
  },
  {
   "cell_type": "code",
   "execution_count": 5,
   "id": "b90af485",
   "metadata": {},
   "outputs": [
    {
     "name": "stdout",
     "output_type": "stream",
     "text": [
      "Model: \"sequential\"\n",
      "_________________________________________________________________\n",
      " Layer (type)                Output Shape              Param #   \n",
      "=================================================================\n",
      " vgg16 (Functional)          (None, 4, 4, 512)         14714688  \n",
      "                                                                 \n",
      " flatten (Flatten)           (None, 8192)              0         \n",
      "                                                                 \n",
      " dense (Dense)               (None, 64)                524352    \n",
      "                                                                 \n",
      " activation (Activation)     (None, 64)                0         \n",
      "                                                                 \n",
      " dropout (Dropout)           (None, 64)                0         \n",
      "                                                                 \n",
      " dense_1 (Dense)             (None, 1)                 65        \n",
      "                                                                 \n",
      " activation_1 (Activation)   (None, 1)                 0         \n",
      "                                                                 \n",
      "=================================================================\n",
      "Total params: 15,239,105\n",
      "Trainable params: 524,417\n",
      "Non-trainable params: 14,714,688\n",
      "_________________________________________________________________\n"
     ]
    }
   ],
   "source": [
    "finetune_model = models.Sequential()\n",
    "finetune_model.add(transfer_model)\n",
    "finetune_model.add(layers.Flatten())\n",
    "finetune_model.add(layers.Dense(64))\n",
    "finetune_model.add(layers.Activation('relu'))\n",
    "finetune_model.add(layers.Dropout(0.5))\n",
    "finetune_model.add(layers.Dense(1))\n",
    "finetune_model.add(layers.Activation('sigmoid'))\n",
    "finetune_model.summary()"
   ]
  },
  {
   "cell_type": "code",
   "execution_count": 6,
   "id": "3b053fbf",
   "metadata": {},
   "outputs": [],
   "source": [
    "finetune_model.compile(loss='binary_crossentropy', optimizer=optimizers.Adam(learning_rate=0.0002),\n",
    "                       metrics=['accuracy'])\n",
    "early_stopping = EarlyStopping(monitor='val_loss', patience=5)"
   ]
  },
  {
   "cell_type": "code",
   "execution_count": 7,
   "id": "bc5d1392",
   "metadata": {},
   "outputs": [
    {
     "name": "stdout",
     "output_type": "stream",
     "text": [
      "Epoch 1/20\n",
      "32/32 [==============================] - 16s 473ms/step - loss: 0.6520 - accuracy: 0.6187 - val_loss: 0.5645 - val_accuracy: 0.6333\n",
      "Epoch 2/20\n",
      "32/32 [==============================] - 15s 460ms/step - loss: 0.5162 - accuracy: 0.7563 - val_loss: 0.4442 - val_accuracy: 0.8000\n",
      "Epoch 3/20\n",
      "32/32 [==============================] - 15s 474ms/step - loss: 0.4426 - accuracy: 0.8000 - val_loss: 0.3444 - val_accuracy: 0.9083\n",
      "Epoch 4/20\n",
      "32/32 [==============================] - 14s 450ms/step - loss: 0.3589 - accuracy: 0.8625 - val_loss: 0.3285 - val_accuracy: 0.8917\n",
      "Epoch 5/20\n",
      "32/32 [==============================] - 14s 455ms/step - loss: 0.3201 - accuracy: 0.9062 - val_loss: 0.2623 - val_accuracy: 0.9333\n",
      "Epoch 6/20\n",
      "32/32 [==============================] - 14s 456ms/step - loss: 0.2562 - accuracy: 0.9312 - val_loss: 0.2362 - val_accuracy: 0.9500\n",
      "Epoch 7/20\n",
      "32/32 [==============================] - 14s 454ms/step - loss: 0.2370 - accuracy: 0.9062 - val_loss: 0.2205 - val_accuracy: 0.9500\n",
      "Epoch 8/20\n",
      "32/32 [==============================] - 14s 453ms/step - loss: 0.2256 - accuracy: 0.9187 - val_loss: 0.2003 - val_accuracy: 0.9500\n",
      "Epoch 9/20\n",
      "32/32 [==============================] - 15s 465ms/step - loss: 0.2044 - accuracy: 0.9375 - val_loss: 0.1784 - val_accuracy: 0.9667\n",
      "Epoch 10/20\n",
      "32/32 [==============================] - 15s 466ms/step - loss: 0.2418 - accuracy: 0.9250 - val_loss: 0.1791 - val_accuracy: 0.9500\n",
      "Epoch 11/20\n",
      "32/32 [==============================] - 14s 456ms/step - loss: 0.1712 - accuracy: 0.9625 - val_loss: 0.1575 - val_accuracy: 0.9667\n",
      "Epoch 12/20\n",
      "32/32 [==============================] - 14s 452ms/step - loss: 0.1547 - accuracy: 0.9500 - val_loss: 0.1582 - val_accuracy: 0.9583\n",
      "Epoch 13/20\n",
      "32/32 [==============================] - 14s 453ms/step - loss: 0.1552 - accuracy: 0.9625 - val_loss: 0.1780 - val_accuracy: 0.9167\n",
      "Epoch 14/20\n",
      "32/32 [==============================] - 15s 478ms/step - loss: 0.1735 - accuracy: 0.9375 - val_loss: 0.1628 - val_accuracy: 0.9333\n",
      "Epoch 15/20\n",
      "32/32 [==============================] - 15s 487ms/step - loss: 0.1725 - accuracy: 0.9563 - val_loss: 0.2126 - val_accuracy: 0.9083\n",
      "Epoch 16/20\n",
      "32/32 [==============================] - 15s 477ms/step - loss: 0.1700 - accuracy: 0.9375 - val_loss: 0.1367 - val_accuracy: 0.9667\n",
      "Epoch 17/20\n",
      "32/32 [==============================] - 14s 457ms/step - loss: 0.1412 - accuracy: 0.9625 - val_loss: 0.1445 - val_accuracy: 0.9417\n",
      "Epoch 18/20\n",
      "32/32 [==============================] - 14s 455ms/step - loss: 0.1298 - accuracy: 0.9563 - val_loss: 0.1395 - val_accuracy: 0.9500\n",
      "Epoch 19/20\n",
      "32/32 [==============================] - 16s 494ms/step - loss: 0.1136 - accuracy: 0.9812 - val_loss: 0.1157 - val_accuracy: 0.9750\n",
      "Epoch 20/20\n",
      "32/32 [==============================] - 17s 529ms/step - loss: 0.1717 - accuracy: 0.9312 - val_loss: 0.1520 - val_accuracy: 0.9333\n"
     ]
    }
   ],
   "source": [
    "history = finetune_model.fit(train_generator, epochs=20, validation_data=test_generator, \n",
    "                             callbacks=[early_stopping])"
   ]
  },
  {
   "cell_type": "code",
   "execution_count": 9,
   "id": "5727bac7",
   "metadata": {},
   "outputs": [
    {
     "data": {
      "image/png": "[encoded data removed]",
      "text/plain": [
       "<Figure size 640x480 with 1 Axes>"
      ]
     },
     "metadata": {},
     "output_type": "display_data"
    }
   ],
   "source": [
    "y_vloss = history.history['val_loss']\n",
    "y_loss = history.history['loss']\n",
    "\n",
    "# 그래프로 표현해 봅니다.\n",
    "x_len = np.arange(len(y_loss))\n",
    "plt.plot(x_len, y_vloss, marker='.', c=\"red\", label='Testset_loss')\n",
    "plt.plot(x_len, y_loss, marker='+', c=\"blue\", label='Trainset_loss')\n",
    "\n",
    "# 그래프에 그리드를 주고 레이블을 표시하겠습니다.\n",
    "plt.legend(loc='upper right')\n",
    "plt.grid()\n",
    "plt.xlabel('epoch')\n",
    "plt.ylabel('loss')\n",
    "plt.show()"
   ]
  },
  {
   "cell_type": "code",
   "execution_count": null,
   "id": "8746802b",
   "metadata": {},
   "outputs": [],
   "source": []
  }
 ],
 "metadata": {
  "kernelspec": {
   "display_name": "Python 3 (ipykernel)",
   "language": "python",
   "name": "python3"
  },
  "language_info": {
   "codemirror_mode": {
    "name": "ipython",
    "version": 3
   },
   "file_extension": ".py",
   "mimetype": "text/x-python",
   "name": "python",
   "nbconvert_exporter": "python",
   "pygments_lexer": "ipython3",
   "version": "3.8.15"
  }
 },
 "nbformat": 4,
 "nbformat_minor": 5
}

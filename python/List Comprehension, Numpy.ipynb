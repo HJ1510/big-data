{
 "cells": [
  {
   "cell_type": "markdown",
   "id": "9914233c",
   "metadata": {},
   "source": [
    "### List Comprehension"
   ]
  },
  {
   "cell_type": "code",
   "execution_count": 2,
   "id": "c89628c8",
   "metadata": {},
   "outputs": [
    {
     "name": "stdout",
     "output_type": "stream",
     "text": [
      "[0, 1, 2, 3, 4, 5, 6, 7, 8, 9]\n",
      "\n"
     ]
    }
   ],
   "source": [
    "result = []\n",
    "\n",
    "for i in range(10):\n",
    "    result.append(i)\n",
    "\n",
    "print(result)\n",
    "print()"
   ]
  },
  {
   "cell_type": "code",
   "execution_count": 5,
   "id": "41934734",
   "metadata": {},
   "outputs": [
    {
     "name": "stdout",
     "output_type": "stream",
     "text": [
      "[0, 1, 2, 3, 4, 5, 6, 7, 8, 9]\n"
     ]
    }
   ],
   "source": [
    "result2 = [i for i in range(10)]\n",
    "print(result2)"
   ]
  },
  {
   "cell_type": "code",
   "execution_count": 6,
   "id": "813295da",
   "metadata": {},
   "outputs": [
    {
     "name": "stdout",
     "output_type": "stream",
     "text": [
      "[0, 2, 4, 6, 8]\n",
      "\n"
     ]
    }
   ],
   "source": [
    "result = []\n",
    "\n",
    "for i in range(10):\n",
    "    if i % 2 == 0:\n",
    "        result.append(i)\n",
    "\n",
    "print(result)\n",
    "print()"
   ]
  },
  {
   "cell_type": "markdown",
   "id": "4048f33a",
   "metadata": {},
   "source": [
    "- if문 삽입"
   ]
  },
  {
   "cell_type": "code",
   "execution_count": 7,
   "id": "417c5fb8",
   "metadata": {},
   "outputs": [
    {
     "name": "stdout",
     "output_type": "stream",
     "text": [
      "[0, 2, 4, 6, 8]\n"
     ]
    }
   ],
   "source": [
    "result2 = [i for i in range(10) if i % 2 == 0]\n",
    "print(result2)"
   ]
  },
  {
   "cell_type": "code",
   "execution_count": 8,
   "id": "f7c9b962",
   "metadata": {},
   "outputs": [
    {
     "name": "stdout",
     "output_type": "stream",
     "text": [
      "[0, 99, 2, 99, 4, 99, 6, 99, 8, 99]\n",
      "\n"
     ]
    }
   ],
   "source": [
    "result = []\n",
    "\n",
    "for i in range(10):\n",
    "    if i % 2 == 0:\n",
    "        result.append(i)\n",
    "    else:\n",
    "        result.append(99)\n",
    "print(result)\n",
    "print()"
   ]
  },
  {
   "cell_type": "markdown",
   "id": "1a7f2d12",
   "metadata": {},
   "source": [
    "- if문에 else 있을 경우"
   ]
  },
  {
   "cell_type": "code",
   "execution_count": 12,
   "id": "451988f9",
   "metadata": {},
   "outputs": [
    {
     "name": "stdout",
     "output_type": "stream",
     "text": [
      "[0, 99, 2, 99, 4, 99, 6, 99, 8, 99]\n"
     ]
    }
   ],
   "source": [
    "result2 = [i if i % 2 == 0 else 99 for i in range(10)]\n",
    "print(result2)"
   ]
  },
  {
   "cell_type": "markdown",
   "id": "55d80f09",
   "metadata": {},
   "source": [
    "- 중첩 for문"
   ]
  },
  {
   "cell_type": "code",
   "execution_count": 14,
   "id": "2e066354",
   "metadata": {},
   "outputs": [
    {
     "name": "stdout",
     "output_type": "stream",
     "text": [
      "['AA', 'AB', 'AC', 'BA', 'BB', 'BC', 'CA', 'CB', 'CC']\n"
     ]
    }
   ],
   "source": [
    "result = []\n",
    "case1 = ['A', 'B', 'C']\n",
    "case2 = ['A', 'B', 'C']\n",
    "for i in case1:\n",
    "    for j in case2:\n",
    "        result.append(i + j)\n",
    "        \n",
    "print(result)"
   ]
  },
  {
   "cell_type": "code",
   "execution_count": 16,
   "id": "67417d34",
   "metadata": {},
   "outputs": [
    {
     "name": "stdout",
     "output_type": "stream",
     "text": [
      "['AA', 'AB', 'AC', 'BA', 'BB', 'BC', 'CA', 'CB', 'CC']\n"
     ]
    }
   ],
   "source": [
    "result2 = [i + j for i in case1 for j in case2]\n",
    "print(result2)"
   ]
  },
  {
   "cell_type": "code",
   "execution_count": 18,
   "id": "8f01b9d2",
   "metadata": {},
   "outputs": [
    {
     "name": "stdout",
     "output_type": "stream",
     "text": [
      "['AB', 'AC', 'BA', 'BC', 'CA', 'CB']\n"
     ]
    }
   ],
   "source": [
    "result2 = [i + j for i in case1 for j in case2 if i != j]\n",
    "print(result2)"
   ]
  },
  {
   "cell_type": "markdown",
   "id": "4f45d1e8",
   "metadata": {},
   "source": [
    "### Numpy"
   ]
  },
  {
   "cell_type": "code",
   "execution_count": 19,
   "id": "88853fbd",
   "metadata": {},
   "outputs": [],
   "source": [
    "import numpy as np"
   ]
  },
  {
   "cell_type": "code",
   "execution_count": 20,
   "id": "50cf2475",
   "metadata": {},
   "outputs": [
    {
     "name": "stdout",
     "output_type": "stream",
     "text": [
      "[0 1 2 3 4 5]\n"
     ]
    }
   ],
   "source": [
    "a1 = np.array([0, 1, 2, 3, 4, 5])\n",
    "print(a1)"
   ]
  },
  {
   "cell_type": "raw",
   "id": "4558dc00",
   "metadata": {},
   "source": [
    ", 가 없다"
   ]
  },
  {
   "cell_type": "code",
   "execution_count": 21,
   "id": "cbd172e2",
   "metadata": {},
   "outputs": [
    {
     "name": "stdout",
     "output_type": "stream",
     "text": [
      "<class 'numpy.ndarray'>\n"
     ]
    }
   ],
   "source": [
    "print(type(a1))"
   ]
  },
  {
   "cell_type": "code",
   "execution_count": 23,
   "id": "35f4e3d7",
   "metadata": {},
   "outputs": [
    {
     "name": "stdout",
     "output_type": "stream",
     "text": [
      "int32\n"
     ]
    }
   ],
   "source": [
    "print(a1.dtype)"
   ]
  },
  {
   "cell_type": "code",
   "execution_count": 24,
   "id": "0ff52171",
   "metadata": {},
   "outputs": [
    {
     "name": "stdout",
     "output_type": "stream",
     "text": [
      "[[1, 2, 3], [4, 5, 6], [7, 8, 9]]\n"
     ]
    }
   ],
   "source": [
    "list1 = [[1,2,3], [4,5,6], [7,8,9]]\n",
    "print(list1)"
   ]
  },
  {
   "cell_type": "code",
   "execution_count": 25,
   "id": "04ddc890",
   "metadata": {},
   "outputs": [
    {
     "name": "stdout",
     "output_type": "stream",
     "text": [
      "[[1 2 3]\n",
      " [4 5 6]\n",
      " [7 8 9]]\n"
     ]
    }
   ],
   "source": [
    "list2 = np.array(list1)\n",
    "print(list2)"
   ]
  },
  {
   "cell_type": "markdown",
   "id": "dcb94ec7",
   "metadata": {},
   "source": [
    "행렬의 형태"
   ]
  },
  {
   "cell_type": "markdown",
   "id": "02576a93",
   "metadata": {},
   "source": [
    "- range 구현 ( arange )"
   ]
  },
  {
   "cell_type": "code",
   "execution_count": 26,
   "id": "8c0a095d",
   "metadata": {},
   "outputs": [
    {
     "name": "stdout",
     "output_type": "stream",
     "text": [
      "[0 2 4 6 8]\n"
     ]
    }
   ],
   "source": [
    "a = np.arange(0, 10, 2)\n",
    "print(a)"
   ]
  },
  {
   "cell_type": "code",
   "execution_count": 27,
   "id": "886c4f44",
   "metadata": {},
   "outputs": [
    {
     "name": "stdout",
     "output_type": "stream",
     "text": [
      "[0 1 2 3 4 5 6 7 8 9]\n"
     ]
    }
   ],
   "source": [
    "a = np.arange(10)\n",
    "print(a)"
   ]
  },
  {
   "cell_type": "code",
   "execution_count": 28,
   "id": "884c0349",
   "metadata": {},
   "outputs": [
    {
     "name": "stdout",
     "output_type": "stream",
     "text": [
      "[1 2 3 4 5 6 7 8 9]\n"
     ]
    }
   ],
   "source": [
    "a = np.arange(1, 10)\n",
    "print(a)"
   ]
  },
  {
   "cell_type": "code",
   "execution_count": 29,
   "id": "7b1d53f8",
   "metadata": {},
   "outputs": [
    {
     "name": "stdout",
     "output_type": "stream",
     "text": [
      "[[ 0  1  2]\n",
      " [ 3  4  5]\n",
      " [ 6  7  8]\n",
      " [ 9 10 11]]\n"
     ]
    }
   ],
   "source": [
    "a = np.arange(12).reshape(4, 3)\n",
    "print(a)"
   ]
  },
  {
   "cell_type": "code",
   "execution_count": 30,
   "id": "6f9ac9c3",
   "metadata": {},
   "outputs": [
    {
     "name": "stdout",
     "output_type": "stream",
     "text": [
      "[[ 0  1  2]\n",
      " [ 3  4  5]\n",
      " [ 6  7  8]\n",
      " [ 9 10 11]]\n"
     ]
    }
   ],
   "source": [
    "a = np.arange(12).reshape(4, -1)\n",
    "print(a)"
   ]
  },
  {
   "cell_type": "code",
   "execution_count": 31,
   "id": "298e1acb",
   "metadata": {},
   "outputs": [
    {
     "name": "stdout",
     "output_type": "stream",
     "text": [
      "[[ 0  1  2]\n",
      " [ 3  4  5]\n",
      " [ 6  7  8]\n",
      " [ 9 10 11]]\n"
     ]
    }
   ],
   "source": [
    "a = np.arange(12).reshape(-1, 3)\n",
    "print(a)"
   ]
  },
  {
   "cell_type": "markdown",
   "id": "9d64f3f4",
   "metadata": {},
   "source": [
    "-1 을 쓰면 입력된 숫자에 맞춰 자동으로 구현됨 ( = auto)"
   ]
  },
  {
   "cell_type": "code",
   "execution_count": 33,
   "id": "b62a8c9e",
   "metadata": {},
   "outputs": [
    {
     "ename": "ValueError",
     "evalue": "cannot reshape array of size 11 into shape (3)",
     "output_type": "error",
     "traceback": [
      "\u001b[1;31m---------------------------------------------------------------------------\u001b[0m",
      "\u001b[1;31mValueError\u001b[0m                                Traceback (most recent call last)",
      "Cell \u001b[1;32mIn[33], line 1\u001b[0m\n\u001b[1;32m----> 1\u001b[0m a \u001b[38;5;241m=\u001b[39m \u001b[43mnp\u001b[49m\u001b[38;5;241;43m.\u001b[39;49m\u001b[43marange\u001b[49m\u001b[43m(\u001b[49m\u001b[38;5;241;43m11\u001b[39;49m\u001b[43m)\u001b[49m\u001b[38;5;241;43m.\u001b[39;49m\u001b[43mreshape\u001b[49m\u001b[43m(\u001b[49m\u001b[38;5;241;43m-\u001b[39;49m\u001b[38;5;241;43m1\u001b[39;49m\u001b[43m,\u001b[49m\u001b[43m \u001b[49m\u001b[38;5;241;43m3\u001b[39;49m\u001b[43m)\u001b[49m\n\u001b[0;32m      2\u001b[0m \u001b[38;5;28mprint\u001b[39m(a)\n",
      "\u001b[1;31mValueError\u001b[0m: cannot reshape array of size 11 into shape (3)"
     ]
    }
   ],
   "source": [
    "a = np.arange(11).reshape(-1, 3)\n",
    "print(a)"
   ]
  },
  {
   "cell_type": "markdown",
   "id": "2815a7bc",
   "metadata": {},
   "source": [
    "크기가 안맞으면 에러"
   ]
  },
  {
   "cell_type": "markdown",
   "id": "68e0203b",
   "metadata": {},
   "source": [
    "- linspace"
   ]
  },
  {
   "cell_type": "code",
   "execution_count": 34,
   "id": "13d8cdfa",
   "metadata": {},
   "outputs": [
    {
     "name": "stdout",
     "output_type": "stream",
     "text": [
      "[ 1.  2.  3.  4.  5.  6.  7.  8.  9. 10.]\n"
     ]
    }
   ],
   "source": [
    "a = np.linspace(1, 10, 10)\n",
    "print(a)"
   ]
  },
  {
   "cell_type": "code",
   "execution_count": 35,
   "id": "aa06e1a9",
   "metadata": {},
   "outputs": [
    {
     "name": "stdout",
     "output_type": "stream",
     "text": [
      "[ 1.          2.28571429  3.57142857  4.85714286  6.14285714  7.42857143\n",
      "  8.71428571 10.        ]\n"
     ]
    }
   ],
   "source": [
    "a = np.linspace(1, 10, 8)\n",
    "print(a)"
   ]
  },
  {
   "cell_type": "markdown",
   "id": "defc8a66",
   "metadata": {},
   "source": [
    "linspace(1, 10, n)\n",
    "n개로 나누는 균일한 묶음"
   ]
  },
  {
   "cell_type": "code",
   "execution_count": 36,
   "id": "9726b0cc",
   "metadata": {},
   "outputs": [
    {
     "name": "stdout",
     "output_type": "stream",
     "text": [
      "[0.         0.16534698 0.33069396 0.49604095 0.66138793 0.82673491\n",
      " 0.99208189 1.15742887 1.32277585 1.48812284 1.65346982 1.8188168\n",
      " 1.98416378 2.14951076 2.31485774 2.48020473 2.64555171 2.81089869\n",
      " 2.97624567 3.14159265]\n"
     ]
    }
   ],
   "source": [
    "a = np.linspace(0, np.pi, 20)\n",
    "print(a)"
   ]
  },
  {
   "cell_type": "code",
   "execution_count": 38,
   "id": "0338784f",
   "metadata": {},
   "outputs": [
    {
     "name": "stdout",
     "output_type": "stream",
     "text": [
      "[0 0 0 0 0 0 0 0 0 0]\n",
      "[[0 0 0 0]\n",
      " [0 0 0 0]\n",
      " [0 0 0 0]]\n",
      "[1. 1. 1. 1. 1.]\n",
      "[[1. 1. 1. 1. 1.]\n",
      " [1. 1. 1. 1. 1.]\n",
      " [1. 1. 1. 1. 1.]]\n",
      "[[1. 0. 0.]\n",
      " [0. 1. 0.]\n",
      " [0. 0. 1.]]\n"
     ]
    }
   ],
   "source": [
    "a1 = np.zeros(10, int)\n",
    "print(a1)\n",
    "a2 = np.zeros((3, 4), int)\n",
    "print(a2)\n",
    "a3 = np.ones(5)\n",
    "print(a3)\n",
    "a4 = np.ones((3, 5))\n",
    "print(a4)\n",
    "a5 = np.eye(3)\n",
    "print(a5)"
   ]
  },
  {
   "cell_type": "markdown",
   "id": "acca3510",
   "metadata": {},
   "source": [
    "a1 0으로 채워진 numpy배열 int옵션 없으면 소수점까지 나옴  \n",
    "a2 3*4  \n",
    "a3 1로 채워진 배열  \n",
    "a4 3*5  \n",
    "a5 단위행렬  "
   ]
  },
  {
   "cell_type": "code",
   "execution_count": 3,
   "id": "b4937c77",
   "metadata": {},
   "outputs": [
    {
     "name": "stdout",
     "output_type": "stream",
     "text": [
      "[10, 20, 30, 40, 1, 2, 3, 4]\n"
     ]
    }
   ],
   "source": [
    "list1 = [10, 20, 30, 40]\n",
    "list2 = [1, 2, 3, 4]\n",
    "print(list1+list2)"
   ]
  },
  {
   "cell_type": "markdown",
   "id": "bce55218",
   "metadata": {},
   "source": [
    "- numpy 배열 연산 =  element-wise operation"
   ]
  },
  {
   "cell_type": "code",
   "execution_count": 4,
   "id": "5f6fd4c7",
   "metadata": {},
   "outputs": [
    {
     "name": "stdout",
     "output_type": "stream",
     "text": [
      "[11 22 33 44]\n"
     ]
    }
   ],
   "source": [
    "import numpy as np\n",
    "a1 = np.array(list1)\n",
    "a2 = np.array(list2)\n",
    "print(a1 + a2)"
   ]
  },
  {
   "cell_type": "code",
   "execution_count": 5,
   "id": "654418e2",
   "metadata": {},
   "outputs": [
    {
     "name": "stdout",
     "output_type": "stream",
     "text": [
      "[ True  True  True  True]\n"
     ]
    }
   ],
   "source": [
    "print(a1>a2)"
   ]
  },
  {
   "cell_type": "code",
   "execution_count": 6,
   "id": "9f7f4f02",
   "metadata": {},
   "outputs": [
    {
     "name": "stdout",
     "output_type": "stream",
     "text": [
      "15\n",
      "3.0\n",
      "1.4142135623730951\n",
      "2.0\n",
      "1\n",
      "5\n",
      "[ 1  3  6 10 15]\n",
      "[  1   2   6  24 120]\n"
     ]
    }
   ],
   "source": [
    "a1 = np.arange(1, 6)\n",
    "\n",
    "print(a1.sum())\n",
    "print(a1.mean())\n",
    "print(a1.std())\n",
    "print(a1.var())\n",
    "print(a1.min())\n",
    "print(a1.max())\n",
    "print(a1.cumsum())\n",
    "print(a1.cumprod())"
   ]
  },
  {
   "cell_type": "markdown",
   "id": "c9d157e5",
   "metadata": {},
   "source": [
    "cumsum 누적 덧셈  \n",
    "cumprod 누적 곱셈"
   ]
  },
  {
   "cell_type": "code",
   "execution_count": 7,
   "id": "5c655e17",
   "metadata": {},
   "outputs": [
    {
     "name": "stdout",
     "output_type": "stream",
     "text": [
      "[[0 1]\n",
      " [2 3]]\n",
      "[[3 2]\n",
      " [0 1]]\n",
      "--------------------\n",
      "[[0 1]\n",
      " [6 7]]\n",
      "[[0 1]\n",
      " [6 7]]\n",
      "--------------------\n",
      "[[0 2]\n",
      " [1 3]]\n",
      "[[0 2]\n",
      " [1 3]]\n",
      "[[0 2]\n",
      " [1 3]]\n",
      "--------------------\n",
      "[[-1.5  0.5]\n",
      " [ 1.   0. ]]\n",
      "-2.0\n"
     ]
    }
   ],
   "source": [
    "a = np.array([0, 1, 2, 3]).reshape(2, 2)\n",
    "print(a)\n",
    "\n",
    "b = np.array([3, 2, 0, 1]).reshape(2, 2)\n",
    "print(b)\n",
    "print('-'*20)\n",
    "print(a.dot(b)) # 행렬곲\n",
    "print(np.dot(a, b)) # 행렬곲\n",
    "print('-'*20)\n",
    "print(np.transpose(a)) # 전치행렬\n",
    "print(a.transpose()) # 전치행렬\n",
    "print(a.T) # 전치행렬\n",
    "print('-'*20)\n",
    "print(np.linalg.inv(a)) # 역행렬\n",
    "print(np.linalg.det(a)) # 행렬식"
   ]
  },
  {
   "cell_type": "code",
   "execution_count": 18,
   "id": "13659086",
   "metadata": {},
   "outputs": [
    {
     "name": "stdout",
     "output_type": "stream",
     "text": [
      "[10 30 40]\n",
      "[[10 20 30]\n",
      " [40 50 60]\n",
      " [70 80 90]]\n",
      "30\n",
      "[[10 20 30]\n",
      " [40 50 60]\n",
      " [70 80 97]]\n",
      "[40 50 60]\n",
      "--------------------\n",
      "[[10 20 30]\n",
      " [45 55 65]\n",
      " [70 80 97]]\n",
      "[[10 20 30]\n",
      " [45 55 65]\n",
      " [75 85 95]]\n",
      "--------------------\n",
      "[10 85 20]\n"
     ]
    }
   ],
   "source": [
    "a = np.array([0, 10, 20, 30, 40, 50])\n",
    "\n",
    "print(a[[1, 3, 4]])\n",
    "\n",
    "b = np.arange(10, 100, 10).reshape(3, 3)\n",
    "print(b)\n",
    "print(b[0, 2])\n",
    "b[2, 2] = 97\n",
    "print(b)\n",
    "print(b[1])\n",
    "print('-'*20)\n",
    "b[1] = np.array([45, 55, 65])\n",
    "print(b)\n",
    "b[2] = [75, 85, 95]\n",
    "print(b)\n",
    "print('-'*20)\n",
    "print(b[[0, 2], [0, 1]])"
   ]
  },
  {
   "cell_type": "markdown",
   "id": "af71ff1c",
   "metadata": {},
   "source": [
    "print(b[[0, 2], [0, 1]]) => (0, 0), (2, 1) "
   ]
  },
  {
   "cell_type": "markdown",
   "id": "f538570a",
   "metadata": {},
   "source": [
    "- numpy 배열 조건문"
   ]
  },
  {
   "cell_type": "code",
   "execution_count": 11,
   "id": "6c5dd680",
   "metadata": {},
   "outputs": [
    {
     "name": "stdout",
     "output_type": "stream",
     "text": [
      "[4 5 6]\n",
      "[2 4 6]\n"
     ]
    }
   ],
   "source": [
    "a = np.array([1, 2, 3, 4, 5, 6])\n",
    "print(a[a > 3])\n",
    "print(a[(a % 2) == 0])"
   ]
  },
  {
   "cell_type": "code",
   "execution_count": 17,
   "id": "e51f5a23",
   "metadata": {},
   "outputs": [
    {
     "name": "stdout",
     "output_type": "stream",
     "text": [
      "[10 20 30]\n",
      "[ 0 10 20]\n",
      "[20 30 40 50]\n",
      "[ 0 10 25 35 45 50]\n"
     ]
    }
   ],
   "source": [
    "a = np.array([0, 10, 20, 30, 40, 50])\n",
    "print(a[1:4])\n",
    "print(a[:3])\n",
    "print(a[2:])\n",
    "a[2:5] = np.array([25, 35, 45])\n",
    "print(a)"
   ]
  },
  {
   "cell_type": "code",
   "execution_count": 19,
   "id": "c2dad511",
   "metadata": {},
   "outputs": [
    {
     "name": "stdout",
     "output_type": "stream",
     "text": [
      "[[10 20 30]\n",
      " [40 50 60]\n",
      " [70 80 90]]\n",
      "[[50 60]\n",
      " [80 90]]\n",
      "[[20 30]\n",
      " [50 60]\n",
      " [80 90]]\n",
      "[40 50]\n",
      "[[10 25 35]\n",
      " [40 55 65]\n",
      " [70 80 90]]\n"
     ]
    }
   ],
   "source": [
    "a = np.arange(10, 100, 10).reshape(3, 3)\n",
    "print(a)\n",
    "print(a[1:3, 1:3])\n",
    "print(a[:3, 1:])\n",
    "print(a[1][0:2])\n",
    "a[0:2, 1:3] = np.array([[25, 35], [55, 65]])\n",
    "print(a)"
   ]
  },
  {
   "cell_type": "markdown",
   "id": "32cf8d6f",
   "metadata": {},
   "source": [
    "a[row:culumn]"
   ]
  }
 ],
 "metadata": {
  "kernelspec": {
   "display_name": "Python 3 (ipykernel)",
   "language": "python",
   "name": "python3"
  },
  "language_info": {
   "codemirror_mode": {
    "name": "ipython",
    "version": 3
   },
   "file_extension": ".py",
   "mimetype": "text/x-python",
   "name": "python",
   "nbconvert_exporter": "python",
   "pygments_lexer": "ipython3",
   "version": "3.8.15"
  }
 },
 "nbformat": 4,
 "nbformat_minor": 5
}

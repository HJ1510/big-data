{
 "cells": [
  {
   "cell_type": "code",
   "execution_count": 1,
   "id": "7da624bf",
   "metadata": {},
   "outputs": [],
   "source": [
    "import pandas as pd"
   ]
  },
  {
   "cell_type": "code",
   "execution_count": 2,
   "id": "98431585",
   "metadata": {},
   "outputs": [
    {
     "name": "stdout",
     "output_type": "stream",
     "text": [
      "0    10\n",
      "1    20\n",
      "2    30\n",
      "3    40\n",
      "4    50\n",
      "dtype: int64\n"
     ]
    }
   ],
   "source": [
    "s1 = pd.Series([10, 20, 30, 40, 50])\n",
    "print(s1)"
   ]
  },
  {
   "cell_type": "markdown",
   "id": "c366dce1",
   "metadata": {},
   "source": [
    "index values"
   ]
  },
  {
   "cell_type": "code",
   "execution_count": 3,
   "id": "c12adc2e",
   "metadata": {},
   "outputs": [
    {
     "name": "stdout",
     "output_type": "stream",
     "text": [
      "RangeIndex(start=0, stop=5, step=1)\n"
     ]
    }
   ],
   "source": [
    "print(s1.index)"
   ]
  },
  {
   "cell_type": "code",
   "execution_count": 4,
   "id": "1c4b7d39",
   "metadata": {},
   "outputs": [
    {
     "name": "stdout",
     "output_type": "stream",
     "text": [
      "[10 20 30 40 50]\n"
     ]
    }
   ],
   "source": [
    "print(s1.values)"
   ]
  },
  {
   "cell_type": "code",
   "execution_count": 5,
   "id": "74c1e9e1",
   "metadata": {},
   "outputs": [
    {
     "name": "stdout",
     "output_type": "stream",
     "text": [
      "<class 'numpy.ndarray'>\n"
     ]
    }
   ],
   "source": [
    "print(type(s1.values))"
   ]
  },
  {
   "cell_type": "code",
   "execution_count": 6,
   "id": "72d94f10",
   "metadata": {},
   "outputs": [
    {
     "name": "stdout",
     "output_type": "stream",
     "text": [
      "0    a\n",
      "1    b\n",
      "2    c\n",
      "3    1\n",
      "4    2\n",
      "5    3\n",
      "dtype: object\n"
     ]
    }
   ],
   "source": [
    "s2 = pd.Series(['a', 'b', 'c', 1, 2, 3])\n",
    "print(s2)"
   ]
  },
  {
   "cell_type": "markdown",
   "id": "3a5f8bff",
   "metadata": {},
   "source": [
    "타입 섞어서 쓰는 경우는 거의 없음!"
   ]
  },
  {
   "cell_type": "code",
   "execution_count": 8,
   "id": "59e5becc",
   "metadata": {},
   "outputs": [
    {
     "name": "stdout",
     "output_type": "stream",
     "text": [
      "0    NaN\n",
      "1    1.0\n",
      "2    2.0\n",
      "dtype: float64\n"
     ]
    }
   ],
   "source": [
    "import numpy as np\n",
    "s3 = pd.Series([np.nan, 1, 2])\n",
    "print(s3)"
   ]
  },
  {
   "cell_type": "markdown",
   "id": "58e9daba",
   "metadata": {},
   "source": [
    "NaN = null"
   ]
  },
  {
   "cell_type": "markdown",
   "id": "7ea27598",
   "metadata": {},
   "source": [
    "- index 지정"
   ]
  },
  {
   "cell_type": "code",
   "execution_count": 9,
   "id": "34d5f39e",
   "metadata": {},
   "outputs": [
    {
     "name": "stdout",
     "output_type": "stream",
     "text": [
      "2020-03-20    200.0\n",
      "2020-03-21    187.0\n",
      "2020-03-22      NaN\n",
      "2020-03-23    210.0\n",
      "dtype: float64\n"
     ]
    }
   ],
   "source": [
    "index_date = ['2020-03-20', '2020-03-21', '2020-03-22', '2020-03-23']\n",
    "s4 = pd.Series([200, 187, np.nan, 210], index=index_date)\n",
    "print(s4)"
   ]
  },
  {
   "cell_type": "code",
   "execution_count": 11,
   "id": "6107f9d9",
   "metadata": {},
   "outputs": [
    {
     "name": "stdout",
     "output_type": "stream",
     "text": [
      "국어    100\n",
      "영어     95\n",
      "수학    100\n",
      "dtype: int64\n"
     ]
    }
   ],
   "source": [
    "s5 = pd.Series({'국어':100, '영어':95, '수학':100})\n",
    "print(s5)"
   ]
  },
  {
   "cell_type": "markdown",
   "id": "47fd150f",
   "metadata": {},
   "source": [
    "key 값이 index, value값이 values가 됨"
   ]
  },
  {
   "cell_type": "code",
   "execution_count": 12,
   "id": "9e31c789",
   "metadata": {},
   "outputs": [
    {
     "name": "stdout",
     "output_type": "stream",
     "text": [
      "DatetimeIndex(['2020-01-20', '2020-01-21', '2020-01-22', '2020-01-23',\n",
      "               '2020-01-24', '2020-01-25', '2020-01-26', '2020-01-27'],\n",
      "              dtype='datetime64[ns]', freq='D')\n"
     ]
    }
   ],
   "source": [
    "p = pd.date_range(start='2020-01-20', end='2020-01-27')\n",
    "print(p)"
   ]
  },
  {
   "cell_type": "code",
   "execution_count": 13,
   "id": "6ef472d0",
   "metadata": {},
   "outputs": [
    {
     "name": "stdout",
     "output_type": "stream",
     "text": [
      "DatetimeIndex(['2020-01-20', '2020-01-21', '2020-01-22', '2020-01-23',\n",
      "               '2020-01-24', '2020-01-25', '2020-01-26', '2020-01-27'],\n",
      "              dtype='datetime64[ns]', freq='D')\n"
     ]
    }
   ],
   "source": [
    "p = pd.date_range(start='2020/01/20', end='2020.01.27')\n",
    "print(p)"
   ]
  },
  {
   "cell_type": "markdown",
   "id": "c3eda45b",
   "metadata": {},
   "source": [
    "/ .도 입력은 가능하나 결과 값은 항상 - 포맷으로 출력됨"
   ]
  },
  {
   "cell_type": "code",
   "execution_count": 14,
   "id": "35a666d2",
   "metadata": {},
   "outputs": [
    {
     "name": "stdout",
     "output_type": "stream",
     "text": [
      "DatetimeIndex(['2020-05-01', '2020-05-02', '2020-05-03', '2020-05-04',\n",
      "               '2020-05-05', '2020-05-06', '2020-05-07'],\n",
      "              dtype='datetime64[ns]', freq='D')\n"
     ]
    }
   ],
   "source": [
    "p = pd.date_range(start='2020-05-01', periods=7)\n",
    "print(p)"
   ]
  },
  {
   "cell_type": "code",
   "execution_count": 15,
   "id": "1f318f41",
   "metadata": {},
   "outputs": [
    {
     "name": "stdout",
     "output_type": "stream",
     "text": [
      "DatetimeIndex(['2020-01-01', '2020-01-03', '2020-01-05', '2020-01-07'], dtype='datetime64[ns]', freq='2D')\n"
     ]
    }
   ],
   "source": [
    "p = pd.date_range(start='2020-01-01', periods=4, freq='2D')\n",
    "print(p)"
   ]
  },
  {
   "cell_type": "code",
   "execution_count": 17,
   "id": "c45c3968",
   "metadata": {},
   "outputs": [
    {
     "name": "stdout",
     "output_type": "stream",
     "text": [
      "DatetimeIndex(['2022-01-02', '2022-01-09', '2022-01-16', '2022-01-23',\n",
      "               '2022-01-30'],\n",
      "              dtype='datetime64[ns]', freq='W-SUN')\n"
     ]
    }
   ],
   "source": [
    "p = pd.date_range(start='2022-01-01', periods=5, freq='W')\n",
    "print(p)"
   ]
  },
  {
   "cell_type": "markdown",
   "id": "7e8831f9",
   "metadata": {},
   "source": [
    "freq='W'=> week단위 일요일부터 시작"
   ]
  },
  {
   "cell_type": "code",
   "execution_count": 18,
   "id": "b036a165",
   "metadata": {},
   "outputs": [
    {
     "name": "stdout",
     "output_type": "stream",
     "text": [
      "DatetimeIndex(['2022-01-03', '2022-01-10', '2022-01-17', '2022-01-24',\n",
      "               '2022-01-31'],\n",
      "              dtype='datetime64[ns]', freq='W-MON')\n"
     ]
    }
   ],
   "source": [
    "p = pd.date_range(start='2022-01-01', periods=5, freq='W-MON')\n",
    "print(p)"
   ]
  },
  {
   "cell_type": "markdown",
   "id": "efe89201",
   "metadata": {},
   "source": [
    "freq='W-MON'=> week단위 월요일부터"
   ]
  },
  {
   "cell_type": "code",
   "execution_count": 19,
   "id": "8a36dbd9",
   "metadata": {},
   "outputs": [
    {
     "name": "stdout",
     "output_type": "stream",
     "text": [
      "DatetimeIndex(['2023-02-28', '2023-04-30', '2023-06-30', '2023-08-31',\n",
      "               '2023-10-31', '2023-12-31', '2024-02-29', '2024-04-30',\n",
      "               '2024-06-30', '2024-08-31', '2024-10-31', '2024-12-31'],\n",
      "              dtype='datetime64[ns]', freq='2M')\n"
     ]
    }
   ],
   "source": [
    "p = pd.date_range(start='2023-02-01', periods=12, freq='2M')\n",
    "print(p)"
   ]
  },
  {
   "cell_type": "markdown",
   "id": "03463904",
   "metadata": {},
   "source": [
    "freq='2M'=> 2개월마다 월말"
   ]
  },
  {
   "cell_type": "code",
   "execution_count": 20,
   "id": "283eb6c8",
   "metadata": {},
   "outputs": [
    {
     "name": "stdout",
     "output_type": "stream",
     "text": [
      "DatetimeIndex(['2023-02-28', '2023-04-28', '2023-06-30', '2023-08-31',\n",
      "               '2023-10-31', '2023-12-29', '2024-02-29', '2024-04-30',\n",
      "               '2024-06-28', '2024-08-30', '2024-10-31', '2024-12-31'],\n",
      "              dtype='datetime64[ns]', freq='2BM')\n"
     ]
    }
   ],
   "source": [
    "p = pd.date_range(start='2023-02-01', periods=12, freq='2BM')\n",
    "print(p)"
   ]
  },
  {
   "cell_type": "markdown",
   "id": "afc446fd",
   "metadata": {},
   "source": [
    "freq='2BM' B=>business day"
   ]
  },
  {
   "cell_type": "code",
   "execution_count": 21,
   "id": "4b90bfae",
   "metadata": {},
   "outputs": [
    {
     "name": "stdout",
     "output_type": "stream",
     "text": [
      "DatetimeIndex(['2023-04-01', '2023-07-01', '2023-10-01', '2024-01-01'], dtype='datetime64[ns]', freq='QS-JAN')\n"
     ]
    }
   ],
   "source": [
    "p = pd.date_range(start='2023-01-03', periods=4, freq='QS')\n",
    "print(p)"
   ]
  },
  {
   "cell_type": "markdown",
   "id": "5957d613",
   "metadata": {},
   "source": [
    "freq='QS' Q=>quarter 각 분기(1/4...)의 시작일"
   ]
  },
  {
   "cell_type": "code",
   "execution_count": 23,
   "id": "d287a59e",
   "metadata": {},
   "outputs": [
    {
     "name": "stdout",
     "output_type": "stream",
     "text": [
      "DatetimeIndex(['2020-01-01 08:00:00', '2020-01-01 09:00:00',\n",
      "               '2020-01-01 10:00:00', '2020-01-01 11:00:00',\n",
      "               '2020-01-01 12:00:00', '2020-01-01 13:00:00',\n",
      "               '2020-01-01 14:00:00', '2020-01-01 15:00:00',\n",
      "               '2020-01-01 16:00:00', '2020-01-01 17:00:00'],\n",
      "              dtype='datetime64[ns]', freq='H')\n"
     ]
    }
   ],
   "source": [
    "p = pd.date_range(start='2020-01-01 08:00', periods=10, freq='H')\n",
    "print(p)"
   ]
  },
  {
   "cell_type": "markdown",
   "id": "50b3f6a1",
   "metadata": {},
   "source": [
    "## Pandas DataFrame"
   ]
  },
  {
   "cell_type": "code",
   "execution_count": 24,
   "id": "efe6b325",
   "metadata": {},
   "outputs": [
    {
     "name": "stdout",
     "output_type": "stream",
     "text": [
      "   0  1  2\n",
      "0  1  2  3\n",
      "1  4  5  6\n",
      "2  7  8  9\n"
     ]
    }
   ],
   "source": [
    "df = pd.DataFrame([[1, 2, 3], [4, 5, 6], [7, 8, 9]])\n",
    "print(df)"
   ]
  },
  {
   "cell_type": "code",
   "execution_count": 27,
   "id": "0c12a887",
   "metadata": {},
   "outputs": [
    {
     "name": "stdout",
     "output_type": "stream",
     "text": [
      "[[1 2 3]\n",
      " [4 5 6]\n",
      " [7 8 9]]\n"
     ]
    }
   ],
   "source": [
    "print(df.values)"
   ]
  },
  {
   "cell_type": "code",
   "execution_count": 28,
   "id": "fefa799c",
   "metadata": {},
   "outputs": [
    {
     "name": "stdout",
     "output_type": "stream",
     "text": [
      "RangeIndex(start=0, stop=3, step=1)\n"
     ]
    }
   ],
   "source": [
    "print(df.index)"
   ]
  },
  {
   "cell_type": "markdown",
   "id": "0a8f76bd",
   "metadata": {},
   "source": [
    "- index columns 지정"
   ]
  },
  {
   "cell_type": "code",
   "execution_count": 30,
   "id": "7231c166",
   "metadata": {},
   "outputs": [
    {
     "name": "stdout",
     "output_type": "stream",
     "text": [
      "             A   B   C\n",
      "2020-05-01   1   2   3\n",
      "2020-05-02   4   5   6\n",
      "2020-05-03   7   8   9\n",
      "2020-05-04  10  11  12\n"
     ]
    }
   ],
   "source": [
    "data = np.array([[1, 2, 3], [4, 5, 6], [7, 8, 9], [10, 11, 12]])\n",
    "index_date = pd.date_range('2020-05-01', periods=4)\n",
    "columns_list = ['A', 'B', 'C']\n",
    "df = pd.DataFrame(data, index=index_date, columns=columns_list)\n",
    "print(df)"
   ]
  },
  {
   "cell_type": "code",
   "execution_count": 31,
   "id": "ce1e9f4f",
   "metadata": {},
   "outputs": [
    {
     "name": "stdout",
     "output_type": "stream",
     "text": [
      "Index(['A', 'B', 'C'], dtype='object')\n"
     ]
    }
   ],
   "source": [
    "print(df.columns)"
   ]
  },
  {
   "cell_type": "code",
   "execution_count": 32,
   "id": "e3b77702",
   "metadata": {},
   "outputs": [
    {
     "name": "stdout",
     "output_type": "stream",
     "text": [
      "     연도  지사  고객 수\n",
      "0  2015  서울   200\n",
      "1  2016  서울   250\n",
      "2  2016  부산   150\n",
      "3  2017  서울   300\n",
      "4  2017  부산   200\n"
     ]
    }
   ],
   "source": [
    "data = {'연도': [2015, 2016, 2016, 2017, 2017], '지사': ['서울', '서울', '부산', '서울', '부산'],\n",
    "        '고객 수': [200, 250, 150, 300, 200]}\n",
    "df = pd.DataFrame(data)\n",
    "print(df)"
   ]
  },
  {
   "cell_type": "markdown",
   "id": "8b07263e",
   "metadata": {},
   "source": [
    "dict.에서 key가 columns 이름이 된다"
   ]
  },
  {
   "cell_type": "code",
   "execution_count": 33,
   "id": "953b05f4",
   "metadata": {},
   "outputs": [
    {
     "name": "stdout",
     "output_type": "stream",
     "text": [
      "0    11\n",
      "1    22\n",
      "2    33\n",
      "3    44\n",
      "4    55\n",
      "dtype: int64\n",
      "0     9\n",
      "1    18\n",
      "2    27\n",
      "3    36\n",
      "4    45\n",
      "dtype: int64\n",
      "0     10\n",
      "1     40\n",
      "2     90\n",
      "3    160\n",
      "4    250\n",
      "dtype: int64\n",
      "0    10.0\n",
      "1    10.0\n",
      "2    10.0\n",
      "3    10.0\n",
      "4    10.0\n",
      "dtype: float64\n"
     ]
    }
   ],
   "source": [
    "s1 = pd.Series([1, 2, 3, 4, 5])\n",
    "s2 = pd.Series([10, 20, 30, 40, 50])\n",
    "print(s1 + s2)\n",
    "print(s2 - s1)\n",
    "print(s1 * s2)\n",
    "print(s2 / s1)"
   ]
  },
  {
   "cell_type": "code",
   "execution_count": 34,
   "id": "e0272f3b",
   "metadata": {},
   "outputs": [
    {
     "name": "stdout",
     "output_type": "stream",
     "text": [
      "0    11.0\n",
      "1    22.0\n",
      "2    33.0\n",
      "3    44.0\n",
      "4     NaN\n",
      "dtype: float64\n"
     ]
    }
   ],
   "source": [
    "s3 = pd.Series([1, 2, 3, 4])\n",
    "s4 = pd.Series([10, 20, 30, 40, 50])\n",
    "print(s3 + s4)"
   ]
  },
  {
   "cell_type": "markdown",
   "id": "e2e0dcd8",
   "metadata": {},
   "source": [
    "shape 달라도 연산은 된다 error는 아님 계산 못하는 부분은 NaN이 됨 cf.numpy 연산"
   ]
  },
  {
   "cell_type": "code",
   "execution_count": 35,
   "id": "995664d0",
   "metadata": {},
   "outputs": [
    {
     "name": "stdout",
     "output_type": "stream",
     "text": [
      "   A   B    C\n",
      "0  1  10  100\n",
      "1  2  20  200\n",
      "2  3  30  300\n",
      "3  4  40  400\n",
      "4  5  50  500\n",
      "   A   B    C\n",
      "0  6  60  600\n",
      "1  7  70  700\n",
      "2  8  80  800\n",
      "====================\n",
      "      A      B       C\n",
      "0   7.0   70.0   700.0\n",
      "1   9.0   90.0   900.0\n",
      "2  11.0  110.0  1100.0\n",
      "3   NaN    NaN     NaN\n",
      "4   NaN    NaN     NaN\n"
     ]
    }
   ],
   "source": [
    "data1 = {'A': [1, 2, 3, 4, 5],\n",
    "         'B': [10, 20, 30, 40, 50],\n",
    "         'C': [100, 200, 300, 400, 500]}\n",
    "df1 = pd.DataFrame(data1)\n",
    "print(df1)\n",
    "\n",
    "data2 = {'A': [6, 7, 8],\n",
    "         'B': [60, 70, 80],\n",
    "         'C': [600, 700, 800]}\n",
    "df2 = pd.DataFrame(data2)\n",
    "print(df2)\n",
    "print('='*20)\n",
    "print(df1 + df2)"
   ]
  },
  {
   "cell_type": "code",
   "execution_count": 42,
   "id": "7213b2a9",
   "metadata": {},
   "outputs": [
    {
     "name": "stdout",
     "output_type": "stream",
     "text": [
      "          봄     여름     가을     겨울\n",
      "2012  256.5  770.6  363.5  139.3\n",
      "2013  264.3  567.5  231.2   59.9\n",
      "2014  215.9  599.8  293.1   76.9\n",
      "2015  223.2  387.1  247.7  109.1\n",
      "2016  312.8  446.2  381.6  108.1\n",
      "==============================\n",
      "봄     254.54\n",
      "여름    554.24\n",
      "가을    303.42\n",
      "겨울     98.66\n",
      "dtype: float64\n",
      "==============================\n",
      "봄      38.628267\n",
      "여름    148.888895\n",
      "가을     67.358496\n",
      "겨울     30.925523\n",
      "dtype: float64\n",
      "==============================\n",
      "2012    382.475\n",
      "2013    280.725\n",
      "2014    296.425\n",
      "2015    241.775\n",
      "2016    312.175\n",
      "dtype: float64\n",
      "==============================\n",
      "2012    274.472128\n",
      "2013    211.128782\n",
      "2014    221.150739\n",
      "2015    114.166760\n",
      "2016    146.548658\n",
      "dtype: float64\n",
      "==============================\n",
      "                봄          여름          가을          겨울\n",
      "count    5.000000    5.000000    5.000000    5.000000\n",
      "mean   254.540000  554.240000  303.420000   98.660000\n",
      "std     38.628267  148.888895   67.358496   30.925523\n",
      "min    215.900000  387.100000  231.200000   59.900000\n",
      "25%    223.200000  446.200000  247.700000   76.900000\n",
      "50%    256.500000  567.500000  293.100000  108.100000\n",
      "75%    264.300000  599.800000  363.500000  109.100000\n",
      "max    312.800000  770.600000  381.600000  139.300000\n"
     ]
    }
   ],
   "source": [
    "table_data3 = {'봄':  [256.5, 264.3, 215.9, 223.2, 312.8],\n",
    "              '여름': [770.6, 567.5, 599.8, 387.1, 446.2],\n",
    "              '가을': [363.5, 231.2, 293.1, 247.7, 381.6],\n",
    "              '겨울': [139.3, 59.9, 76.9, 109.1, 108.1]}\n",
    "columns_list = ['봄', '여름', '가을', '겨울']\n",
    "index_list = ['2012', '2013', '2014', '2015', '2016']\n",
    "\n",
    "df3 = pd.DataFrame(table_data3, columns = columns_list, index = index_list)\n",
    "print(df3)\n",
    "print('='*30)\n",
    "print(df3.mean(axis=0)) # 계절별 평균\n",
    "# [5][4] row - column axis = 0 [5] 0번째축의 값들로 계산\n",
    "print('='*30)\n",
    "print(df3.std())  # 계절별 표준편차\n",
    "print('='*30)\n",
    "print(df3.mean(axis=1)) # 연도별\n",
    "# [5][4] row - column axis = 1 [4] 1번째축의 값들로 계산\n",
    "print('='*30)\n",
    "print(df3.std(axis=1)) # 연도별\n",
    "print('='*30)\n",
    "print(df3.describe())"
   ]
  },
  {
   "cell_type": "code",
   "execution_count": 43,
   "id": "b06524d5",
   "metadata": {},
   "outputs": [
    {
     "name": "stdout",
     "output_type": "stream",
     "text": [
      "      경부선 KTX  호남선 KTX  경전선 KTX  전라선 KTX  동해선 KTX\n",
      "2011    39060     7313     3627      309      NaN\n",
      "2012    39896     6967     4168     1771      NaN\n",
      "2013    42005     6873     4088     1954      NaN\n",
      "2014    43621     6626     4424     2244      NaN\n",
      "2015    41702     8675     4606     3146   2395.0\n",
      "2016    41266    10622     4984     3945   3786.0\n",
      "2017    32427     9228     5570     5766   6667.0\n"
     ]
    }
   ],
   "source": [
    "KTX_data = {'경부선 KTX': [39060, 39896, 42005, 43621, 41702, 41266, 32427],\n",
    "            '호남선 KTX': [7313, 6967, 6873, 6626, 8675, 10622, 9228],\n",
    "            '경전선 KTX': [3627, 4168, 4088, 4424, 4606, 4984, 5570],\n",
    "            '전라선 KTX': [309, 1771, 1954, 2244, 3146, 3945, 5766],\n",
    "            '동해선 KTX': [np.nan,np.nan, np.nan, np.nan, 2395, 3786, 6667]}\n",
    "col_list = ['경부선 KTX','호남선 KTX','경전선 KTX','전라선 KTX','동해선 KTX']\n",
    "index_list = ['2011', '2012', '2013', '2014', '2015', '2016', '2017']\n",
    "\n",
    "df_KTX = pd.DataFrame(KTX_data, columns = col_list, index = index_list)\n",
    "print(df_KTX)"
   ]
  },
  {
   "cell_type": "code",
   "execution_count": 46,
   "id": "1c2b714d",
   "metadata": {},
   "outputs": [
    {
     "data": {
      "text/html": [
       "<div>\n",
       "<style scoped>\n",
       "    .dataframe tbody tr th:only-of-type {\n",
       "        vertical-align: middle;\n",
       "    }\n",
       "\n",
       "    .dataframe tbody tr th {\n",
       "        vertical-align: top;\n",
       "    }\n",
       "\n",
       "    .dataframe thead th {\n",
       "        text-align: right;\n",
       "    }\n",
       "</style>\n",
       "<table border=\"1\" class=\"dataframe\">\n",
       "  <thead>\n",
       "    <tr style=\"text-align: right;\">\n",
       "      <th></th>\n",
       "      <th>경부선 KTX</th>\n",
       "      <th>호남선 KTX</th>\n",
       "      <th>경전선 KTX</th>\n",
       "      <th>전라선 KTX</th>\n",
       "      <th>동해선 KTX</th>\n",
       "    </tr>\n",
       "  </thead>\n",
       "  <tbody>\n",
       "    <tr>\n",
       "      <th>2011</th>\n",
       "      <td>39060</td>\n",
       "      <td>7313</td>\n",
       "      <td>3627</td>\n",
       "      <td>309</td>\n",
       "      <td>NaN</td>\n",
       "    </tr>\n",
       "    <tr>\n",
       "      <th>2012</th>\n",
       "      <td>39896</td>\n",
       "      <td>6967</td>\n",
       "      <td>4168</td>\n",
       "      <td>1771</td>\n",
       "      <td>NaN</td>\n",
       "    </tr>\n",
       "  </tbody>\n",
       "</table>\n",
       "</div>"
      ],
      "text/plain": [
       "      경부선 KTX  호남선 KTX  경전선 KTX  전라선 KTX  동해선 KTX\n",
       "2011    39060     7313     3627      309      NaN\n",
       "2012    39896     6967     4168     1771      NaN"
      ]
     },
     "execution_count": 46,
     "metadata": {},
     "output_type": "execute_result"
    }
   ],
   "source": [
    "df_KTX.head(2)"
   ]
  },
  {
   "cell_type": "markdown",
   "id": "b293f03d",
   "metadata": {},
   "source": [
    "앞에서부터 n줄 기본값 10줄"
   ]
  },
  {
   "cell_type": "code",
   "execution_count": 47,
   "id": "52a8fa54",
   "metadata": {},
   "outputs": [
    {
     "data": {
      "text/html": [
       "<div>\n",
       "<style scoped>\n",
       "    .dataframe tbody tr th:only-of-type {\n",
       "        vertical-align: middle;\n",
       "    }\n",
       "\n",
       "    .dataframe tbody tr th {\n",
       "        vertical-align: top;\n",
       "    }\n",
       "\n",
       "    .dataframe thead th {\n",
       "        text-align: right;\n",
       "    }\n",
       "</style>\n",
       "<table border=\"1\" class=\"dataframe\">\n",
       "  <thead>\n",
       "    <tr style=\"text-align: right;\">\n",
       "      <th></th>\n",
       "      <th>경부선 KTX</th>\n",
       "      <th>호남선 KTX</th>\n",
       "      <th>경전선 KTX</th>\n",
       "      <th>전라선 KTX</th>\n",
       "      <th>동해선 KTX</th>\n",
       "    </tr>\n",
       "  </thead>\n",
       "  <tbody>\n",
       "    <tr>\n",
       "      <th>2014</th>\n",
       "      <td>43621</td>\n",
       "      <td>6626</td>\n",
       "      <td>4424</td>\n",
       "      <td>2244</td>\n",
       "      <td>NaN</td>\n",
       "    </tr>\n",
       "    <tr>\n",
       "      <th>2015</th>\n",
       "      <td>41702</td>\n",
       "      <td>8675</td>\n",
       "      <td>4606</td>\n",
       "      <td>3146</td>\n",
       "      <td>2395.0</td>\n",
       "    </tr>\n",
       "    <tr>\n",
       "      <th>2016</th>\n",
       "      <td>41266</td>\n",
       "      <td>10622</td>\n",
       "      <td>4984</td>\n",
       "      <td>3945</td>\n",
       "      <td>3786.0</td>\n",
       "    </tr>\n",
       "    <tr>\n",
       "      <th>2017</th>\n",
       "      <td>32427</td>\n",
       "      <td>9228</td>\n",
       "      <td>5570</td>\n",
       "      <td>5766</td>\n",
       "      <td>6667.0</td>\n",
       "    </tr>\n",
       "  </tbody>\n",
       "</table>\n",
       "</div>"
      ],
      "text/plain": [
       "      경부선 KTX  호남선 KTX  경전선 KTX  전라선 KTX  동해선 KTX\n",
       "2014    43621     6626     4424     2244      NaN\n",
       "2015    41702     8675     4606     3146   2395.0\n",
       "2016    41266    10622     4984     3945   3786.0\n",
       "2017    32427     9228     5570     5766   6667.0"
      ]
     },
     "execution_count": 47,
     "metadata": {},
     "output_type": "execute_result"
    }
   ],
   "source": [
    "df_KTX.tail(4)"
   ]
  },
  {
   "cell_type": "markdown",
   "id": "d31dea47",
   "metadata": {},
   "source": [
    "뒤에서부터 n줄 기본값 10줄"
   ]
  },
  {
   "cell_type": "code",
   "execution_count": 48,
   "id": "dd7d2766",
   "metadata": {},
   "outputs": [
    {
     "name": "stdout",
     "output_type": "stream",
     "text": [
      "      경부선 KTX  호남선 KTX  경전선 KTX  전라선 KTX  동해선 KTX\n",
      "2012    39896     6967     4168     1771      NaN\n"
     ]
    }
   ],
   "source": [
    "print(df_KTX[1:2])"
   ]
  },
  {
   "cell_type": "code",
   "execution_count": 53,
   "id": "a479f371",
   "metadata": {},
   "outputs": [
    {
     "name": "stdout",
     "output_type": "stream",
     "text": [
      "      경부선 KTX  호남선 KTX  경전선 KTX  전라선 KTX  동해선 KTX\n",
      "2013    42005     6873     4088     1954      NaN\n",
      "2014    43621     6626     4424     2244      NaN\n",
      "2015    41702     8675     4606     3146   2395.0\n"
     ]
    }
   ],
   "source": [
    "print(df_KTX[2:5])"
   ]
  },
  {
   "cell_type": "code",
   "execution_count": 54,
   "id": "6cbe5d25",
   "metadata": {},
   "outputs": [
    {
     "name": "stdout",
     "output_type": "stream",
     "text": [
      "경부선 KTX    39060.0\n",
      "호남선 KTX     7313.0\n",
      "경전선 KTX     3627.0\n",
      "전라선 KTX      309.0\n",
      "동해선 KTX        NaN\n",
      "Name: 2011, dtype: float64\n"
     ]
    }
   ],
   "source": [
    "print(df_KTX.loc['2011'])"
   ]
  },
  {
   "cell_type": "markdown",
   "id": "5d0f5ff1",
   "metadata": {},
   "source": [
    "2011 인덱스의 값만 series 객체로 출력"
   ]
  },
  {
   "cell_type": "code",
   "execution_count": 55,
   "id": "06ff4a78",
   "metadata": {},
   "outputs": [
    {
     "name": "stdout",
     "output_type": "stream",
     "text": [
      "      경부선 KTX  호남선 KTX  경전선 KTX  전라선 KTX  동해선 KTX\n",
      "2013    42005     6873     4088     1954      NaN\n",
      "2014    43621     6626     4424     2244      NaN\n",
      "2015    41702     8675     4606     3146   2395.0\n",
      "2016    41266    10622     4984     3945   3786.0\n"
     ]
    }
   ],
   "source": [
    "print(df_KTX.loc['2013':'2016'])"
   ]
  },
  {
   "cell_type": "code",
   "execution_count": 56,
   "id": "d233f134",
   "metadata": {},
   "outputs": [
    {
     "name": "stdout",
     "output_type": "stream",
     "text": [
      "2011    39060\n",
      "2012    39896\n",
      "2013    42005\n",
      "2014    43621\n",
      "2015    41702\n",
      "2016    41266\n",
      "2017    32427\n",
      "Name: 경부선 KTX, dtype: int64\n"
     ]
    }
   ],
   "source": [
    "print(df_KTX['경부선 KTX'])"
   ]
  },
  {
   "cell_type": "markdown",
   "id": "dfeee0aa",
   "metadata": {},
   "source": [
    "특정 column 선택"
   ]
  },
  {
   "cell_type": "code",
   "execution_count": 57,
   "id": "9482f246",
   "metadata": {},
   "outputs": [
    {
     "name": "stdout",
     "output_type": "stream",
     "text": [
      "2012    39896\n",
      "2013    42005\n",
      "2014    43621\n",
      "Name: 경부선 KTX, dtype: int64\n"
     ]
    }
   ],
   "source": [
    "print(df_KTX['경부선 KTX']['2012':'2014'])"
   ]
  },
  {
   "cell_type": "markdown",
   "id": "776477f6",
   "metadata": {},
   "source": [
    "특정 column + row 선택"
   ]
  },
  {
   "cell_type": "code",
   "execution_count": 59,
   "id": "848e1f64",
   "metadata": {},
   "outputs": [
    {
     "name": "stdout",
     "output_type": "stream",
     "text": [
      "2012    39896\n",
      "2013    42005\n",
      "2014    43621\n",
      "Name: 경부선 KTX, dtype: int64\n"
     ]
    }
   ],
   "source": [
    "print(df_KTX['경부선 KTX'][1:4]) # ['1':'4'] 아님"
   ]
  },
  {
   "cell_type": "code",
   "execution_count": 60,
   "id": "bbd83de5",
   "metadata": {},
   "outputs": [
    {
     "name": "stdout",
     "output_type": "stream",
     "text": [
      "10622.0\n",
      "========================================\n",
      "10622\n",
      "========================================\n",
      "10622\n",
      "========================================\n",
      "10622\n",
      "========================================\n",
      "10622\n"
     ]
    }
   ],
   "source": [
    "print(df_KTX.loc['2016']['호남선 KTX'])\n",
    "print('='*40)\n",
    "print(df_KTX.loc['2016','호남선 KTX'])\n",
    "print('='*40)\n",
    "print(df_KTX['호남선 KTX']['2016'])\n",
    "print('='*40)\n",
    "print(df_KTX['호남선 KTX'][5])\n",
    "print('='*40)\n",
    "print(df_KTX['호남선 KTX'].loc['2016'])"
   ]
  },
  {
   "cell_type": "code",
   "execution_count": 61,
   "id": "d2e5e3c3",
   "metadata": {},
   "outputs": [
    {
     "name": "stdout",
     "output_type": "stream",
     "text": [
      "            2011     2012     2013     2014     2015     2016     2017\n",
      "경부선 KTX  39060.0  39896.0  42005.0  43621.0  41702.0  41266.0  32427.0\n",
      "호남선 KTX   7313.0   6967.0   6873.0   6626.0   8675.0  10622.0   9228.0\n",
      "경전선 KTX   3627.0   4168.0   4088.0   4424.0   4606.0   4984.0   5570.0\n",
      "전라선 KTX    309.0   1771.0   1954.0   2244.0   3146.0   3945.0   5766.0\n",
      "동해선 KTX      NaN      NaN      NaN      NaN   2395.0   3786.0   6667.0\n"
     ]
    }
   ],
   "source": [
    "print(df_KTX.T)"
   ]
  },
  {
   "cell_type": "markdown",
   "id": "0f03c8d4",
   "metadata": {},
   "source": [
    "row column 스위치"
   ]
  },
  {
   "cell_type": "code",
   "execution_count": 62,
   "id": "a8faf2c9",
   "metadata": {},
   "outputs": [
    {
     "name": "stdout",
     "output_type": "stream",
     "text": [
      "      동해선 KTX  전라선 KTX  경전선 KTX  호남선 KTX  경부선 KTX\n",
      "2011      NaN      309     3627     7313    39060\n",
      "2012      NaN     1771     4168     6967    39896\n",
      "2013      NaN     1954     4088     6873    42005\n",
      "2014      NaN     2244     4424     6626    43621\n",
      "2015   2395.0     3146     4606     8675    41702\n",
      "2016   3786.0     3945     4984    10622    41266\n",
      "2017   6667.0     5766     5570     9228    32427\n"
     ]
    }
   ],
   "source": [
    "print(df_KTX[['동해선 KTX', '전라선 KTX', '경전선 KTX', '호남선 KTX', '경부선 KTX']])"
   ]
  },
  {
   "cell_type": "markdown",
   "id": "ed539310",
   "metadata": {},
   "source": [
    "column 순서 변경"
   ]
  },
  {
   "cell_type": "markdown",
   "id": "5789ab43",
   "metadata": {},
   "source": [
    "- data frame 통합"
   ]
  },
  {
   "cell_type": "code",
   "execution_count": 64,
   "id": "f61e55cf",
   "metadata": {},
   "outputs": [
    {
     "name": "stdout",
     "output_type": "stream",
     "text": [
      "   Class1  Class2\n",
      "0      95      91\n",
      "1      92      93\n",
      "2      98      97\n",
      "3     100      99\n"
     ]
    }
   ],
   "source": [
    "df1 = pd.DataFrame({'Class1': [95, 92, 98, 100],\n",
    "                    'Class2': [91, 93, 97, 99]})\n",
    "print(df1)"
   ]
  },
  {
   "cell_type": "code",
   "execution_count": 72,
   "id": "024e8008",
   "metadata": {},
   "outputs": [
    {
     "name": "stdout",
     "output_type": "stream",
     "text": [
      "   Class1  Class2\n",
      "0      87      85\n",
      "1      89      90\n"
     ]
    }
   ],
   "source": [
    "df2 = pd.DataFrame({'Class1': [87, 89],\n",
    "                    'Class2': [85, 90]})\n",
    "print(df2)"
   ]
  },
  {
   "cell_type": "code",
   "execution_count": 73,
   "id": "7d84db52",
   "metadata": {},
   "outputs": [
    {
     "name": "stdout",
     "output_type": "stream",
     "text": [
      "   Class1  Class2\n",
      "0      95      91\n",
      "1      92      93\n",
      "2      98      97\n",
      "3     100      99\n",
      "0      87      85\n",
      "1      89      90\n"
     ]
    },
    {
     "name": "stderr",
     "output_type": "stream",
     "text": [
      "C:\\Users\\BIT\\AppData\\Local\\Temp\\ipykernel_700\\1388991793.py:1: FutureWarning: The frame.append method is deprecated and will be removed from pandas in a future version. Use pandas.concat instead.\n",
      "  print(df1.append(df2))\n"
     ]
    }
   ],
   "source": [
    "print(df1.append(df2))"
   ]
  },
  {
   "cell_type": "markdown",
   "id": "bafad416",
   "metadata": {},
   "source": [
    "동일한 column 기준으로 붙여줌"
   ]
  },
  {
   "cell_type": "code",
   "execution_count": 74,
   "id": "6c39d028",
   "metadata": {},
   "outputs": [
    {
     "name": "stdout",
     "output_type": "stream",
     "text": [
      "   Class1  Class2\n",
      "0      95      91\n",
      "1      92      93\n",
      "2      98      97\n",
      "3     100      99\n",
      "4      87      85\n",
      "5      89      90\n"
     ]
    },
    {
     "name": "stderr",
     "output_type": "stream",
     "text": [
      "C:\\Users\\BIT\\AppData\\Local\\Temp\\ipykernel_700\\231860784.py:1: FutureWarning: The frame.append method is deprecated and will be removed from pandas in a future version. Use pandas.concat instead.\n",
      "  print(df1.append(df2, ignore_index=True))\n"
     ]
    }
   ],
   "source": [
    "print(df1.append(df2, ignore_index=True))"
   ]
  },
  {
   "cell_type": "markdown",
   "id": "f0542c4a",
   "metadata": {},
   "source": [
    "원 데이터 index는 ignore하고 새로운 index 부여"
   ]
  },
  {
   "cell_type": "code",
   "execution_count": 78,
   "id": "fcc87ddc",
   "metadata": {},
   "outputs": [
    {
     "name": "stdout",
     "output_type": "stream",
     "text": [
      "   Class1  Class2\n",
      "0      95      91\n",
      "1      92      93\n",
      "2      98      97\n",
      "3     100      99\n",
      "4      87      85\n",
      "5      89      90\n"
     ]
    }
   ],
   "source": [
    "#print(df1.concat(df2, ignore_index=True))\n",
    "print(pd.concat([df1, df2], ignore_index=True))"
   ]
  },
  {
   "cell_type": "markdown",
   "id": "4f4a147e",
   "metadata": {},
   "source": [
    "concat : dataframe 위 아래로 붙일때 "
   ]
  },
  {
   "cell_type": "code",
   "execution_count": 80,
   "id": "53cc0a96",
   "metadata": {},
   "outputs": [
    {
     "name": "stdout",
     "output_type": "stream",
     "text": [
      "   Class1\n",
      "0      96\n",
      "1      83\n"
     ]
    }
   ],
   "source": [
    "df3 = pd.DataFrame({'Class1': [96, 83]})\n",
    "print(df3)"
   ]
  },
  {
   "cell_type": "code",
   "execution_count": 81,
   "id": "04c5a995",
   "metadata": {},
   "outputs": [
    {
     "name": "stdout",
     "output_type": "stream",
     "text": [
      "   Class1  Class2\n",
      "0      87    85.0\n",
      "1      89    90.0\n",
      "2      96     NaN\n",
      "3      83     NaN\n"
     ]
    }
   ],
   "source": [
    "print(pd.concat([df2, df3], ignore_index=True))"
   ]
  },
  {
   "cell_type": "markdown",
   "id": "4cae30a2",
   "metadata": {},
   "source": [
    "빈 데이터는 NaN으로 출력"
   ]
  },
  {
   "cell_type": "code",
   "execution_count": 82,
   "id": "7a201c8b",
   "metadata": {},
   "outputs": [
    {
     "name": "stdout",
     "output_type": "stream",
     "text": [
      "   Class3\n",
      "0      93\n",
      "1      91\n",
      "2      95\n",
      "3      98\n"
     ]
    }
   ],
   "source": [
    "df4 = pd.DataFrame({'Class3': [93, 91, 95, 98]})\n",
    "print(df4)"
   ]
  },
  {
   "cell_type": "code",
   "execution_count": 83,
   "id": "bc83340e",
   "metadata": {},
   "outputs": [
    {
     "name": "stdout",
     "output_type": "stream",
     "text": [
      "   Class1  Class2\n",
      "0      95      91\n",
      "1      92      93\n",
      "2      98      97\n",
      "3     100      99\n"
     ]
    }
   ],
   "source": [
    "print(df1)"
   ]
  },
  {
   "cell_type": "code",
   "execution_count": 85,
   "id": "4508ea38",
   "metadata": {},
   "outputs": [
    {
     "name": "stdout",
     "output_type": "stream",
     "text": [
      "   Class1  Class2  Class3\n",
      "0      95      91      93\n",
      "1      92      93      91\n",
      "2      98      97      95\n",
      "3     100      99      98\n"
     ]
    }
   ],
   "source": [
    "print(df1.join(df4))"
   ]
  },
  {
   "cell_type": "markdown",
   "id": "ec700d47",
   "metadata": {},
   "source": [
    "join : 동일한 index 기준으로 좌우로 붙임"
   ]
  },
  {
   "cell_type": "code",
   "execution_count": 86,
   "id": "295d9acb",
   "metadata": {},
   "outputs": [
    {
     "name": "stdout",
     "output_type": "stream",
     "text": [
      "  판매월  제품A  제품B\n",
      "0  1월  100   90\n",
      "1  2월  150  110\n",
      "2  3월  200  140\n",
      "3  4월  130  170\n"
     ]
    }
   ],
   "source": [
    "df_A_B = pd.DataFrame({'판매월': ['1월', '2월', '3월', '4월'],\n",
    "                       '제품A': [100, 150, 200, 130],\n",
    "                       '제품B': [90, 110, 140, 170]})\n",
    "print(df_A_B)"
   ]
  },
  {
   "cell_type": "code",
   "execution_count": 87,
   "id": "d698f1e0",
   "metadata": {},
   "outputs": [
    {
     "name": "stdout",
     "output_type": "stream",
     "text": [
      "  판매월  제품C  제품D\n",
      "0  1월  112   90\n",
      "1  2월  141  110\n",
      "2  3월  203  140\n",
      "3  4월  134  170\n"
     ]
    }
   ],
   "source": [
    "df_C_D = pd.DataFrame({'판매월': ['1월', '2월', '3월', '4월'],\n",
    "                       '제품C': [112, 141, 203, 134],\n",
    "                       '제품D': [90, 110, 140, 170]})\n",
    "print(df_C_D)"
   ]
  },
  {
   "cell_type": "code",
   "execution_count": 89,
   "id": "6bbab9c4",
   "metadata": {},
   "outputs": [
    {
     "name": "stdout",
     "output_type": "stream",
     "text": [
      "  판매월  제품A  제품B  제품C  제품D\n",
      "0  1월  100   90  112   90\n",
      "1  2월  150  110  141  110\n",
      "2  3월  200  140  203  140\n",
      "3  4월  130  170  134  170\n"
     ]
    }
   ],
   "source": [
    "print(df_A_B.merge(df_C_D))"
   ]
  },
  {
   "cell_type": "markdown",
   "id": "9444e802",
   "metadata": {},
   "source": [
    "merge 동일한 컬럼은 한개만 들어감 cf. join"
   ]
  },
  {
   "cell_type": "code",
   "execution_count": 91,
   "id": "b0527ff6",
   "metadata": {},
   "outputs": [
    {
     "name": "stdout",
     "output_type": "stream",
     "text": [
      "  key  left\n",
      "0   A     1\n",
      "1   B     2\n",
      "2   C     3\n",
      "========================================\n",
      "  key  right\n",
      "0   A      4\n",
      "1   B      5\n",
      "2   D      6\n"
     ]
    }
   ],
   "source": [
    "df_left = pd.DataFrame({'key':['A','B','C'], 'left': [1, 2, 3]})\n",
    "print(df_left)\n",
    "print('='*40)\n",
    "df_right = pd.DataFrame({'key':['A','B','D'], 'right': [4, 5, 6]})\n",
    "print(df_right)"
   ]
  },
  {
   "cell_type": "code",
   "execution_count": 92,
   "id": "1c535672",
   "metadata": {},
   "outputs": [
    {
     "name": "stdout",
     "output_type": "stream",
     "text": [
      "  key  left  right\n",
      "0   A     1    4.0\n",
      "1   B     2    5.0\n",
      "2   C     3    NaN\n"
     ]
    }
   ],
   "source": [
    "print(df_left.merge(df_right, how='left', on = 'key'))"
   ]
  },
  {
   "cell_type": "markdown",
   "id": "322df417",
   "metadata": {},
   "source": [
    "how='left', on = 'key' key column을 기준으로 left에서 join 하여 출력"
   ]
  },
  {
   "cell_type": "code",
   "execution_count": 93,
   "id": "2075f3d3",
   "metadata": {},
   "outputs": [
    {
     "name": "stdout",
     "output_type": "stream",
     "text": [
      "  key  left  right\n",
      "0   A   1.0      4\n",
      "1   B   2.0      5\n",
      "2   D   NaN      6\n"
     ]
    }
   ],
   "source": [
    "print(df_left.merge(df_right, how='right', on = 'key'))"
   ]
  },
  {
   "cell_type": "code",
   "execution_count": 94,
   "id": "2f7813b8",
   "metadata": {},
   "outputs": [
    {
     "name": "stdout",
     "output_type": "stream",
     "text": [
      "  key  left  right\n",
      "0   A   1.0    4.0\n",
      "1   B   2.0    5.0\n",
      "2   C   3.0    NaN\n",
      "3   D   NaN    6.0\n"
     ]
    }
   ],
   "source": [
    "print(df_left.merge(df_right, how='outer', on = 'key'))"
   ]
  },
  {
   "cell_type": "markdown",
   "id": "b7fa2234",
   "metadata": {},
   "source": [
    "full outter join과 비슷"
   ]
  },
  {
   "cell_type": "code",
   "execution_count": 95,
   "id": "4ff936f9",
   "metadata": {},
   "outputs": [
    {
     "name": "stdout",
     "output_type": "stream",
     "text": [
      "  key  left  right\n",
      "0   A     1      4\n",
      "1   B     2      5\n"
     ]
    }
   ],
   "source": [
    "print(df_left.merge(df_right, how='inner', on = 'key'))"
   ]
  },
  {
   "cell_type": "markdown",
   "id": "d8015612",
   "metadata": {},
   "source": [
    "inner join과 비슷 (column 값이 모두 비어있지 않은 값만 출력)"
   ]
  },
  {
   "cell_type": "code",
   "execution_count": 97,
   "id": "2339eb0e",
   "metadata": {},
   "outputs": [
    {
     "ename": "UnicodeDecodeError",
     "evalue": "'utf-8' codec can't decode byte 0xbf in position 0: invalid start byte",
     "output_type": "error",
     "traceback": [
      "\u001b[1;31m---------------------------------------------------------------------------\u001b[0m",
      "\u001b[1;31mUnicodeDecodeError\u001b[0m                        Traceback (most recent call last)",
      "Cell \u001b[1;32mIn[97], line 1\u001b[0m\n\u001b[1;32m----> 1\u001b[0m df \u001b[38;5;241m=\u001b[39m \u001b[43mpd\u001b[49m\u001b[38;5;241;43m.\u001b[39;49m\u001b[43mread_csv\u001b[49m\u001b[43m(\u001b[49m\u001b[38;5;124;43m'\u001b[39;49m\u001b[38;5;124;43mdata/sea_rain1.csv\u001b[39;49m\u001b[38;5;124;43m'\u001b[39;49m\u001b[43m)\u001b[49m\n\u001b[0;32m      2\u001b[0m \u001b[38;5;28mprint\u001b[39m(df)\n",
      "File \u001b[1;32m~\\miniconda3\\envs\\ml-env\\lib\\site-packages\\pandas\\util\\_decorators.py:211\u001b[0m, in \u001b[0;36mdeprecate_kwarg.<locals>._deprecate_kwarg.<locals>.wrapper\u001b[1;34m(*args, **kwargs)\u001b[0m\n\u001b[0;32m    209\u001b[0m     \u001b[38;5;28;01melse\u001b[39;00m:\n\u001b[0;32m    210\u001b[0m         kwargs[new_arg_name] \u001b[38;5;241m=\u001b[39m new_arg_value\n\u001b[1;32m--> 211\u001b[0m \u001b[38;5;28;01mreturn\u001b[39;00m \u001b[43mfunc\u001b[49m\u001b[43m(\u001b[49m\u001b[38;5;241;43m*\u001b[39;49m\u001b[43margs\u001b[49m\u001b[43m,\u001b[49m\u001b[43m \u001b[49m\u001b[38;5;241;43m*\u001b[39;49m\u001b[38;5;241;43m*\u001b[39;49m\u001b[43mkwargs\u001b[49m\u001b[43m)\u001b[49m\n",
      "File \u001b[1;32m~\\miniconda3\\envs\\ml-env\\lib\\site-packages\\pandas\\util\\_decorators.py:331\u001b[0m, in \u001b[0;36mdeprecate_nonkeyword_arguments.<locals>.decorate.<locals>.wrapper\u001b[1;34m(*args, **kwargs)\u001b[0m\n\u001b[0;32m    325\u001b[0m \u001b[38;5;28;01mif\u001b[39;00m \u001b[38;5;28mlen\u001b[39m(args) \u001b[38;5;241m>\u001b[39m num_allow_args:\n\u001b[0;32m    326\u001b[0m     warnings\u001b[38;5;241m.\u001b[39mwarn(\n\u001b[0;32m    327\u001b[0m         msg\u001b[38;5;241m.\u001b[39mformat(arguments\u001b[38;5;241m=\u001b[39m_format_argument_list(allow_args)),\n\u001b[0;32m    328\u001b[0m         \u001b[38;5;167;01mFutureWarning\u001b[39;00m,\n\u001b[0;32m    329\u001b[0m         stacklevel\u001b[38;5;241m=\u001b[39mfind_stack_level(),\n\u001b[0;32m    330\u001b[0m     )\n\u001b[1;32m--> 331\u001b[0m \u001b[38;5;28;01mreturn\u001b[39;00m \u001b[43mfunc\u001b[49m\u001b[43m(\u001b[49m\u001b[38;5;241;43m*\u001b[39;49m\u001b[43margs\u001b[49m\u001b[43m,\u001b[49m\u001b[43m \u001b[49m\u001b[38;5;241;43m*\u001b[39;49m\u001b[38;5;241;43m*\u001b[39;49m\u001b[43mkwargs\u001b[49m\u001b[43m)\u001b[49m\n",
      "File \u001b[1;32m~\\miniconda3\\envs\\ml-env\\lib\\site-packages\\pandas\\io\\parsers\\readers.py:950\u001b[0m, in \u001b[0;36mread_csv\u001b[1;34m(filepath_or_buffer, sep, delimiter, header, names, index_col, usecols, squeeze, prefix, mangle_dupe_cols, dtype, engine, converters, true_values, false_values, skipinitialspace, skiprows, skipfooter, nrows, na_values, keep_default_na, na_filter, verbose, skip_blank_lines, parse_dates, infer_datetime_format, keep_date_col, date_parser, dayfirst, cache_dates, iterator, chunksize, compression, thousands, decimal, lineterminator, quotechar, quoting, doublequote, escapechar, comment, encoding, encoding_errors, dialect, error_bad_lines, warn_bad_lines, on_bad_lines, delim_whitespace, low_memory, memory_map, float_precision, storage_options)\u001b[0m\n\u001b[0;32m    935\u001b[0m kwds_defaults \u001b[38;5;241m=\u001b[39m _refine_defaults_read(\n\u001b[0;32m    936\u001b[0m     dialect,\n\u001b[0;32m    937\u001b[0m     delimiter,\n\u001b[1;32m   (...)\u001b[0m\n\u001b[0;32m    946\u001b[0m     defaults\u001b[38;5;241m=\u001b[39m{\u001b[38;5;124m\"\u001b[39m\u001b[38;5;124mdelimiter\u001b[39m\u001b[38;5;124m\"\u001b[39m: \u001b[38;5;124m\"\u001b[39m\u001b[38;5;124m,\u001b[39m\u001b[38;5;124m\"\u001b[39m},\n\u001b[0;32m    947\u001b[0m )\n\u001b[0;32m    948\u001b[0m kwds\u001b[38;5;241m.\u001b[39mupdate(kwds_defaults)\n\u001b[1;32m--> 950\u001b[0m \u001b[38;5;28;01mreturn\u001b[39;00m \u001b[43m_read\u001b[49m\u001b[43m(\u001b[49m\u001b[43mfilepath_or_buffer\u001b[49m\u001b[43m,\u001b[49m\u001b[43m \u001b[49m\u001b[43mkwds\u001b[49m\u001b[43m)\u001b[49m\n",
      "File \u001b[1;32m~\\miniconda3\\envs\\ml-env\\lib\\site-packages\\pandas\\io\\parsers\\readers.py:605\u001b[0m, in \u001b[0;36m_read\u001b[1;34m(filepath_or_buffer, kwds)\u001b[0m\n\u001b[0;32m    602\u001b[0m _validate_names(kwds\u001b[38;5;241m.\u001b[39mget(\u001b[38;5;124m\"\u001b[39m\u001b[38;5;124mnames\u001b[39m\u001b[38;5;124m\"\u001b[39m, \u001b[38;5;28;01mNone\u001b[39;00m))\n\u001b[0;32m    604\u001b[0m \u001b[38;5;66;03m# Create the parser.\u001b[39;00m\n\u001b[1;32m--> 605\u001b[0m parser \u001b[38;5;241m=\u001b[39m \u001b[43mTextFileReader\u001b[49m\u001b[43m(\u001b[49m\u001b[43mfilepath_or_buffer\u001b[49m\u001b[43m,\u001b[49m\u001b[43m \u001b[49m\u001b[38;5;241;43m*\u001b[39;49m\u001b[38;5;241;43m*\u001b[39;49m\u001b[43mkwds\u001b[49m\u001b[43m)\u001b[49m\n\u001b[0;32m    607\u001b[0m \u001b[38;5;28;01mif\u001b[39;00m chunksize \u001b[38;5;129;01mor\u001b[39;00m iterator:\n\u001b[0;32m    608\u001b[0m     \u001b[38;5;28;01mreturn\u001b[39;00m parser\n",
      "File \u001b[1;32m~\\miniconda3\\envs\\ml-env\\lib\\site-packages\\pandas\\io\\parsers\\readers.py:1442\u001b[0m, in \u001b[0;36mTextFileReader.__init__\u001b[1;34m(self, f, engine, **kwds)\u001b[0m\n\u001b[0;32m   1439\u001b[0m     \u001b[38;5;28mself\u001b[39m\u001b[38;5;241m.\u001b[39moptions[\u001b[38;5;124m\"\u001b[39m\u001b[38;5;124mhas_index_names\u001b[39m\u001b[38;5;124m\"\u001b[39m] \u001b[38;5;241m=\u001b[39m kwds[\u001b[38;5;124m\"\u001b[39m\u001b[38;5;124mhas_index_names\u001b[39m\u001b[38;5;124m\"\u001b[39m]\n\u001b[0;32m   1441\u001b[0m \u001b[38;5;28mself\u001b[39m\u001b[38;5;241m.\u001b[39mhandles: IOHandles \u001b[38;5;241m|\u001b[39m \u001b[38;5;28;01mNone\u001b[39;00m \u001b[38;5;241m=\u001b[39m \u001b[38;5;28;01mNone\u001b[39;00m\n\u001b[1;32m-> 1442\u001b[0m \u001b[38;5;28mself\u001b[39m\u001b[38;5;241m.\u001b[39m_engine \u001b[38;5;241m=\u001b[39m \u001b[38;5;28;43mself\u001b[39;49m\u001b[38;5;241;43m.\u001b[39;49m\u001b[43m_make_engine\u001b[49m\u001b[43m(\u001b[49m\u001b[43mf\u001b[49m\u001b[43m,\u001b[49m\u001b[43m \u001b[49m\u001b[38;5;28;43mself\u001b[39;49m\u001b[38;5;241;43m.\u001b[39;49m\u001b[43mengine\u001b[49m\u001b[43m)\u001b[49m\n",
      "File \u001b[1;32m~\\miniconda3\\envs\\ml-env\\lib\\site-packages\\pandas\\io\\parsers\\readers.py:1753\u001b[0m, in \u001b[0;36mTextFileReader._make_engine\u001b[1;34m(self, f, engine)\u001b[0m\n\u001b[0;32m   1750\u001b[0m     \u001b[38;5;28;01mraise\u001b[39;00m \u001b[38;5;167;01mValueError\u001b[39;00m(msg)\n\u001b[0;32m   1752\u001b[0m \u001b[38;5;28;01mtry\u001b[39;00m:\n\u001b[1;32m-> 1753\u001b[0m     \u001b[38;5;28;01mreturn\u001b[39;00m \u001b[43mmapping\u001b[49m\u001b[43m[\u001b[49m\u001b[43mengine\u001b[49m\u001b[43m]\u001b[49m\u001b[43m(\u001b[49m\u001b[43mf\u001b[49m\u001b[43m,\u001b[49m\u001b[43m \u001b[49m\u001b[38;5;241;43m*\u001b[39;49m\u001b[38;5;241;43m*\u001b[39;49m\u001b[38;5;28;43mself\u001b[39;49m\u001b[38;5;241;43m.\u001b[39;49m\u001b[43moptions\u001b[49m\u001b[43m)\u001b[49m\n\u001b[0;32m   1754\u001b[0m \u001b[38;5;28;01mexcept\u001b[39;00m \u001b[38;5;167;01mException\u001b[39;00m:\n\u001b[0;32m   1755\u001b[0m     \u001b[38;5;28;01mif\u001b[39;00m \u001b[38;5;28mself\u001b[39m\u001b[38;5;241m.\u001b[39mhandles \u001b[38;5;129;01mis\u001b[39;00m \u001b[38;5;129;01mnot\u001b[39;00m \u001b[38;5;28;01mNone\u001b[39;00m:\n",
      "File \u001b[1;32m~\\miniconda3\\envs\\ml-env\\lib\\site-packages\\pandas\\io\\parsers\\c_parser_wrapper.py:79\u001b[0m, in \u001b[0;36mCParserWrapper.__init__\u001b[1;34m(self, src, **kwds)\u001b[0m\n\u001b[0;32m     76\u001b[0m     kwds\u001b[38;5;241m.\u001b[39mpop(key, \u001b[38;5;28;01mNone\u001b[39;00m)\n\u001b[0;32m     78\u001b[0m kwds[\u001b[38;5;124m\"\u001b[39m\u001b[38;5;124mdtype\u001b[39m\u001b[38;5;124m\"\u001b[39m] \u001b[38;5;241m=\u001b[39m ensure_dtype_objs(kwds\u001b[38;5;241m.\u001b[39mget(\u001b[38;5;124m\"\u001b[39m\u001b[38;5;124mdtype\u001b[39m\u001b[38;5;124m\"\u001b[39m, \u001b[38;5;28;01mNone\u001b[39;00m))\n\u001b[1;32m---> 79\u001b[0m \u001b[38;5;28mself\u001b[39m\u001b[38;5;241m.\u001b[39m_reader \u001b[38;5;241m=\u001b[39m \u001b[43mparsers\u001b[49m\u001b[38;5;241;43m.\u001b[39;49m\u001b[43mTextReader\u001b[49m\u001b[43m(\u001b[49m\u001b[43msrc\u001b[49m\u001b[43m,\u001b[49m\u001b[43m \u001b[49m\u001b[38;5;241;43m*\u001b[39;49m\u001b[38;5;241;43m*\u001b[39;49m\u001b[43mkwds\u001b[49m\u001b[43m)\u001b[49m\n\u001b[0;32m     81\u001b[0m \u001b[38;5;28mself\u001b[39m\u001b[38;5;241m.\u001b[39munnamed_cols \u001b[38;5;241m=\u001b[39m \u001b[38;5;28mself\u001b[39m\u001b[38;5;241m.\u001b[39m_reader\u001b[38;5;241m.\u001b[39munnamed_cols\n\u001b[0;32m     83\u001b[0m \u001b[38;5;66;03m# error: Cannot determine type of 'names'\u001b[39;00m\n",
      "File \u001b[1;32m~\\miniconda3\\envs\\ml-env\\lib\\site-packages\\pandas\\_libs\\parsers.pyx:547\u001b[0m, in \u001b[0;36mpandas._libs.parsers.TextReader.__cinit__\u001b[1;34m()\u001b[0m\n",
      "File \u001b[1;32m~\\miniconda3\\envs\\ml-env\\lib\\site-packages\\pandas\\_libs\\parsers.pyx:636\u001b[0m, in \u001b[0;36mpandas._libs.parsers.TextReader._get_header\u001b[1;34m()\u001b[0m\n",
      "File \u001b[1;32m~\\miniconda3\\envs\\ml-env\\lib\\site-packages\\pandas\\_libs\\parsers.pyx:852\u001b[0m, in \u001b[0;36mpandas._libs.parsers.TextReader._tokenize_rows\u001b[1;34m()\u001b[0m\n",
      "File \u001b[1;32m~\\miniconda3\\envs\\ml-env\\lib\\site-packages\\pandas\\_libs\\parsers.pyx:1965\u001b[0m, in \u001b[0;36mpandas._libs.parsers.raise_parser_error\u001b[1;34m()\u001b[0m\n",
      "\u001b[1;31mUnicodeDecodeError\u001b[0m: 'utf-8' codec can't decode byte 0xbf in position 0: invalid start byte"
     ]
    }
   ],
   "source": [
    "df = pd.read_csv('data/sea_rain1.csv')\n",
    "print(df)"
   ]
  },
  {
   "cell_type": "markdown",
   "id": "95d8017c",
   "metadata": {},
   "source": [
    "기본 인코딩이 UTF8임 UTF8외의 인코딩으로 작성된 문서는 error   \n",
    "sea_rain1.csv은 EUC-KR로 작성됨"
   ]
  },
  {
   "cell_type": "code",
   "execution_count": 99,
   "id": "a8f08e0a",
   "metadata": {},
   "outputs": [
    {
     "name": "stdout",
     "output_type": "stream",
     "text": [
      "     연도       동해       남해       서해       전체\n",
      "0  1996  17.4629  17.2288  14.4360  15.9067\n",
      "1  1997  17.4116  17.4092  14.8248  16.1526\n",
      "2  1998  17.5944  18.0110  15.2512  16.6044\n",
      "3  1999  18.1495  18.3175  14.8979  16.6284\n",
      "4  2000  17.9288  18.1766  15.0504  16.6178\n"
     ]
    }
   ],
   "source": [
    "df = pd.read_csv('data/sea_rain1.csv', encoding='cp949')\n",
    "print(df)"
   ]
  },
  {
   "cell_type": "code",
   "execution_count": 101,
   "id": "674dbb06",
   "metadata": {},
   "outputs": [
    {
     "name": "stdout",
     "output_type": "stream",
     "text": [
      "           동해       남해       서해       전체\n",
      "연도                                      \n",
      "1996  17.4629  17.2288  14.4360  15.9067\n",
      "1997  17.4116  17.4092  14.8248  16.1526\n",
      "1998  17.5944  18.0110  15.2512  16.6044\n",
      "1999  18.1495  18.3175  14.8979  16.6284\n",
      "2000  17.9288  18.1766  15.0504  16.6178\n"
     ]
    }
   ],
   "source": [
    "df = pd.read_csv('data/sea_rain1.csv', encoding='cp949', index_col='연도')\n",
    "print(df)"
   ]
  },
  {
   "cell_type": "code",
   "execution_count": 105,
   "id": "bfe1c721",
   "metadata": {},
   "outputs": [
    {
     "name": "stdout",
     "output_type": "stream",
     "text": [
      "      몸무게    키\n",
      "User          \n",
      "ID_1   62  165\n",
      "ID_2   67  177\n",
      "ID_3   55  160\n",
      "ID_4   74  180\n"
     ]
    }
   ],
   "source": [
    "df_WH = pd.DataFrame({'몸무게':[62, 67, 55, 74],\n",
    "                      '키':[165, 177, 160, 180]},\n",
    "                       index=['ID_1', 'ID_2', 'ID_3', 'ID_4'])\n",
    "df_WH.index.name = 'User'\n",
    "print(df_WH)"
   ]
  },
  {
   "cell_type": "code",
   "execution_count": 108,
   "id": "bad1c3e2",
   "metadata": {},
   "outputs": [
    {
     "name": "stdout",
     "output_type": "stream",
     "text": [
      "      몸무게    키        BMI\n",
      "User                     \n",
      "ID_1   62  165  22.773186\n",
      "ID_2   67  177  21.385936\n",
      "ID_3   55  160  21.484375\n",
      "ID_4   74  180  22.839506\n"
     ]
    }
   ],
   "source": [
    "df_WH['BMI'] = df_WH['몸무게']/(df_WH['키']/100)**2\n",
    "print(df_WH)"
   ]
  },
  {
   "cell_type": "code",
   "execution_count": 109,
   "id": "ce6b59fb",
   "metadata": {},
   "outputs": [],
   "source": [
    "df_WH.to_csv('data/bmi.csv')"
   ]
  },
  {
   "cell_type": "code",
   "execution_count": null,
   "id": "15652f27",
   "metadata": {},
   "outputs": [],
   "source": []
  },
  {
   "cell_type": "code",
   "execution_count": null,
   "id": "b423c683",
   "metadata": {},
   "outputs": [],
   "source": []
  },
  {
   "cell_type": "code",
   "execution_count": null,
   "id": "03901055",
   "metadata": {},
   "outputs": [],
   "source": []
  },
  {
   "cell_type": "code",
   "execution_count": null,
   "id": "691d2760",
   "metadata": {},
   "outputs": [],
   "source": []
  },
  {
   "cell_type": "code",
   "execution_count": null,
   "id": "cc00a686",
   "metadata": {},
   "outputs": [],
   "source": []
  },
  {
   "cell_type": "code",
   "execution_count": null,
   "id": "d98b4ba7",
   "metadata": {},
   "outputs": [],
   "source": []
  }
 ],
 "metadata": {
  "kernelspec": {
   "display_name": "Python 3 (ipykernel)",
   "language": "python",
   "name": "python3"
  },
  "language_info": {
   "codemirror_mode": {
    "name": "ipython",
    "version": 3
   },
   "file_extension": ".py",
   "mimetype": "text/x-python",
   "name": "python",
   "nbconvert_exporter": "python",
   "pygments_lexer": "ipython3",
   "version": "3.8.15"
  }
 },
 "nbformat": 4,
 "nbformat_minor": 5
}

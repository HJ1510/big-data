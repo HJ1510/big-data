{
 "cells": [
  {
   "cell_type": "code",
   "execution_count": 1,
   "id": "f661d555",
   "metadata": {},
   "outputs": [
    {
     "name": "stdout",
     "output_type": "stream",
     "text": [
      "[0, 1, 2, 3, 4, 5, 6, 7, 8, 9]\n"
     ]
    }
   ],
   "source": [
    "result1 = [i for i in range(10)]\n",
    "print(result1)"
   ]
  },
  {
   "cell_type": "code",
   "execution_count": 2,
   "id": "a4d724de",
   "metadata": {},
   "outputs": [
    {
     "name": "stdout",
     "output_type": "stream",
     "text": [
      "[0, 1, 2, 3, 4, 5, 6, 7, 8, 9, 10, 11, 12, 13, 14, 15, 16, 17, 18, 19, 20, 21, 22, 23, 24, 25, 26, 27, 28, 29]\n"
     ]
    }
   ],
   "source": [
    "result2 = [i for i in range(30)]\n",
    "print(result2)"
   ]
  },
  {
   "cell_type": "code",
   "execution_count": 5,
   "id": "4d0dcc74",
   "metadata": {},
   "outputs": [
    {
     "name": "stdout",
     "output_type": "stream",
     "text": [
      "[0, 3, 6, 9, 12, 15, 18, 21, 24, 27]\n"
     ]
    }
   ],
   "source": [
    "result3 = [i for i in range(30) if i%3 == 0]\n",
    "print(result3)"
   ]
  },
  {
   "cell_type": "code",
   "execution_count": 7,
   "id": "6570d089",
   "metadata": {},
   "outputs": [
    {
     "name": "stdout",
     "output_type": "stream",
     "text": [
      "[0, 3, 4, 6, 8, 9, 12, 15, 16, 18, 20, 21, 24, 27, 28]\n"
     ]
    }
   ],
   "source": [
    "result4 = [i for i in range(30) if i%3 == 0 or i%4 == 0]\n",
    "print(result4)"
   ]
  },
  {
   "cell_type": "code",
   "execution_count": 8,
   "id": "1eb0e54b",
   "metadata": {},
   "outputs": [
    {
     "ename": "SyntaxError",
     "evalue": "invalid syntax (4256465714.py, line 1)",
     "output_type": "error",
     "traceback": [
      "\u001b[1;36m  Cell \u001b[1;32mIn[8], line 1\u001b[1;36m\u001b[0m\n\u001b[1;33m    result5 = [i for i in range(30) if i%6 == 0 else 100]\u001b[0m\n\u001b[1;37m                                                ^\u001b[0m\n\u001b[1;31mSyntaxError\u001b[0m\u001b[1;31m:\u001b[0m invalid syntax\n"
     ]
    }
   ],
   "source": [
    "result5 = [i for i in range(30) if i%6 == 0 else 100]\n",
    "print(result5)"
   ]
  },
  {
   "cell_type": "code",
   "execution_count": 10,
   "id": "a1f3aca4",
   "metadata": {},
   "outputs": [
    {
     "name": "stdout",
     "output_type": "stream",
     "text": [
      "[100, 6, 100, 100, 100, 100]\n"
     ]
    }
   ],
   "source": [
    "result6 = [i if i%6 == 0 else 100 for i in range(1,30,5)]\n",
    "print(result6)"
   ]
  },
  {
   "cell_type": "code",
   "execution_count": 11,
   "id": "9040d60c",
   "metadata": {},
   "outputs": [],
   "source": [
    "import numpy as np\n"
   ]
  },
  {
   "cell_type": "code",
   "execution_count": 13,
   "id": "5b57c755",
   "metadata": {},
   "outputs": [
    {
     "name": "stdout",
     "output_type": "stream",
     "text": [
      "[100   6 100 100 100 100]\n"
     ]
    }
   ],
   "source": [
    "result6 = np.array(result6)\n",
    "print(result6)"
   ]
  },
  {
   "cell_type": "code",
   "execution_count": 15,
   "id": "095faa25",
   "metadata": {},
   "outputs": [
    {
     "name": "stdout",
     "output_type": "stream",
     "text": [
      "[[ 0  1  2  3  4]\n",
      " [ 5  6  7  8  9]\n",
      " [10 11 12 13 14]\n",
      " [15 16 17 18 19]]\n"
     ]
    }
   ],
   "source": [
    "a = np.arange(20).reshape(4, -1)\n",
    "print(a)"
   ]
  },
  {
   "cell_type": "code",
   "execution_count": 21,
   "id": "5aa2f33d",
   "metadata": {},
   "outputs": [
    {
     "name": "stdout",
     "output_type": "stream",
     "text": [
      "[ 0.  2.  4.  6.  8. 10. 12. 14. 16. 18. 20.]\n"
     ]
    }
   ],
   "source": [
    "a = np.linspace(0, 20, 11)\n",
    "print(a)"
   ]
  },
  {
   "cell_type": "code",
   "execution_count": 42,
   "id": "07af4feb",
   "metadata": {},
   "outputs": [
    {
     "name": "stdout",
     "output_type": "stream",
     "text": [
      "20\n",
      "4\n",
      "[10, 20, 30, 40, 1, 2, 3, 4]\n"
     ]
    }
   ],
   "source": [
    "import numpy as np\n",
    "list1 = [10, 20, 30, 40]\n",
    "list2 = [1, 2, 3, 4]\n",
    "\n",
    "a1 = np.array(list1)\n",
    "a2 = np.array(list2)\n",
    "\n",
    "print(list1[1])\n",
    "\n",
    "print(len(list1))\n",
    "\n",
    "b=[]\n",
    "for i in range (len(list1)):\n",
    "    b.append(list1[i])\n",
    "for i in range (len(list2)):\n",
    "    b.append(list2[i])\n",
    "    \n",
    "print(b)\n"
   ]
  },
  {
   "cell_type": "code",
   "execution_count": 46,
   "id": "0af70072",
   "metadata": {},
   "outputs": [
    {
     "name": "stdout",
     "output_type": "stream",
     "text": [
      "[10 20 30 40  1  2  3  4]\n"
     ]
    }
   ],
   "source": [
    "b=np.array(b)\n",
    "print(b)"
   ]
  },
  {
   "cell_type": "code",
   "execution_count": 47,
   "id": "1dc2cc1a",
   "metadata": {},
   "outputs": [
    {
     "name": "stdout",
     "output_type": "stream",
     "text": [
      "[30  3]\n"
     ]
    }
   ],
   "source": [
    "print(b[b%3==0])"
   ]
  },
  {
   "cell_type": "code",
   "execution_count": null,
   "id": "e825ee2f",
   "metadata": {},
   "outputs": [],
   "source": []
  }
 ],
 "metadata": {
  "kernelspec": {
   "display_name": "Python 3 (ipykernel)",
   "language": "python",
   "name": "python3"
  },
  "language_info": {
   "codemirror_mode": {
    "name": "ipython",
    "version": 3
   },
   "file_extension": ".py",
   "mimetype": "text/x-python",
   "name": "python",
   "nbconvert_exporter": "python",
   "pygments_lexer": "ipython3",
   "version": "3.8.15"
  }
 },
 "nbformat": 4,
 "nbformat_minor": 5
}

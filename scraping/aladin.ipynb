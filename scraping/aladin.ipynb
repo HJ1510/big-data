{
 "cells": [
  {
   "cell_type": "markdown",
   "id": "c04c8fd2",
   "metadata": {},
   "source": [
    "터미널에서   \n",
    "conda install -c anaconda requests  https://anaconda.org/anaconda/requests  \n",
    "conda install bs4   \n",
    "conda install lxml"
   ]
  },
  {
   "cell_type": "code",
   "execution_count": null,
   "id": "b56cd537",
   "metadata": {},
   "outputs": [],
   "source": [
    "import numpy as np\n",
    "import pandas as pd\n",
    "import requests\n",
    "from bs4 import BeautifulSoup"
   ]
  },
  {
   "cell_type": "code",
   "execution_count": null,
   "id": "75843ebc",
   "metadata": {
    "scrolled": true
   },
   "outputs": [],
   "source": [
    "r = requests.get('https://www.aladin.co.kr/shop/wproduct.aspx?ItemId=300485187')\n",
    "print(r)"
   ]
  },
  {
   "cell_type": "markdown",
   "id": "958a25ac",
   "metadata": {},
   "source": [
    "책 제목 #Ere_prod_allwrap > div.Ere_prod_topwrap > div.Ere_prod_titlewrap > div.left > div > ul > li:nth-child(2) > div > a.Ere_bo_title"
   ]
  },
  {
   "cell_type": "markdown",
   "id": "f72bf0f9",
   "metadata": {},
   "source": [
    "사진 #CoverMainImage"
   ]
  },
  {
   "cell_type": "markdown",
   "id": "956c0071",
   "metadata": {},
   "source": [
    "지은이 #Ere_prod_allwrap > div.Ere_prod_topwrap > div.Ere_prod_titlewrap > div.left > div > ul > li.Ere_sub2_title > a:nth-child(1)"
   ]
  },
  {
   "cell_type": "markdown",
   "id": "b8e690fc",
   "metadata": {},
   "source": [
    "출판사 #Ere_prod_allwrap > div.Ere_prod_topwrap > div.Ere_prod_titlewrap > div.left > div > ul > li.Ere_sub2_title > a:nth-child(3)"
   ]
  },
  {
   "cell_type": "markdown",
   "id": "91364b65",
   "metadata": {},
   "source": [
    "정가 #Ere_prod_allwrap > div.Ere_prod_bookwrap > div.Ere_prod_Binfowrap > div > div:nth-child(3) > ul > li:nth-child(1) > div.Ritem"
   ]
  },
  {
   "cell_type": "markdown",
   "id": "82912c2e",
   "metadata": {},
   "source": [
    "쪽수 #Ere_prod_allwrap > div.Ere_prod_middlewrap > div:nth-child(1) > div.Ere_prod_mconts_R > div.conts_info_list1 > ul > li:nth-child(1)"
   ]
  },
  {
   "cell_type": "markdown",
   "id": "5226c09f",
   "metadata": {},
   "source": [
    "isbn #Ere_prod_allwrap > div.Ere_prod_middlewrap > div:nth-child(1) > div.Ere_prod_mconts_R > div.conts_info_list1 > ul > li:nth-child(4)"
   ]
  },
  {
   "cell_type": "markdown",
   "id": "f0f9b11f",
   "metadata": {},
   "source": [
    "상세페이지\n",
    "\n",
    "tag_title = #Ere_prod_allwrap > div.Ere_prod_topwrap > div.Ere_prod_titlewrap > div.left > div > ul > li:nth-child(2) > div > a.Ere_bo_title\n",
    "tag_cover = #CoverMainImage\n",
    "tag_author = #Ere_prod_allwrap > div.Ere_prod_topwrap > div.Ere_prod_titlewrap > div.left > div > ul > li.Ere_sub2_title > a:nth-child(1)\n",
    "tag_author2 = #Ere_prod_allwrap > div.Ere_prod_topwrap > div.Ere_prod_titlewrap > div.left > div > ul > li.Ere_sub2_title > a:nth-child(3)\n",
    "tag_publisher = #Ere_prod_allwrap > div.Ere_prod_topwrap > div.Ere_prod_titlewrap > div.left > div > ul > li.Ere_sub2_title > a:nth-child(3)\n",
    "tag_price = #Ere_prod_allwrap > div.Ere_prod_bookwrap > div.Ere_prod_Binfowrap > div > div:nth-child(3) > ul > li:nth-child(1) > div.Ritem\n",
    "tag_page = #Ere_prod_allwrap > div.Ere_prod_middlewrap > div:nth-child(1) > div.Ere_prod_mconts_R > div.conts_info_list1 > ul > li:nth-child(1)\n",
    "tag_isbn = #Ere_prod_allwrap > div.Ere_prod_middlewrap > div:nth-child(1) > div.Ere_prod_mconts_R > div.conts_info_list1 > ul > li:nth-child(4)"
   ]
  },
  {
   "cell_type": "code",
   "execution_count": null,
   "id": "2de76132",
   "metadata": {},
   "outputs": [],
   "source": [
    "url ='https://www.aladin.co.kr/shop/wproduct.aspx?ItemId=300485187'\n",
    "html = requests.get(url).text\n",
    "soup = BeautifulSoup(html, 'lxml')\n",
    "tag_name = '#CoverMainImage'\n",
    "books = soup.select(tag_name)\n",
    "print(books)"
   ]
  },
  {
   "cell_type": "code",
   "execution_count": null,
   "id": "ee558317",
   "metadata": {},
   "outputs": [],
   "source": [
    "img_url = books[0].get('src')\n",
    "print(img_url)"
   ]
  },
  {
   "cell_type": "code",
   "execution_count": null,
   "id": "9e441d30",
   "metadata": {},
   "outputs": [],
   "source": [
    "url='https://www.aladin.co.kr/shop/common/wbest.aspx?BestType=MonthlyBest&BranchType=1&CID=1&Year=2023&Month=2&Week=4&page=1'\n",
    "r = requests.get(url)\n",
    "print(r)\n",
    "html = requests.get(url).text\n",
    "soup = BeautifulSoup(html, 'lxml')\n",
    "print(soup)"
   ]
  },
  {
   "cell_type": "code",
   "execution_count": null,
   "id": "64183de1",
   "metadata": {
    "scrolled": true
   },
   "outputs": [],
   "source": [
    "html = requests.get(url).text\n",
    "soup = BeautifulSoup(html, 'lxml')\n",
    "tag_name = 'a.bo3'\n",
    "books = soup.select(tag_name)\n",
    "print(books)"
   ]
  },
  {
   "cell_type": "code",
   "execution_count": null,
   "id": "555290a0",
   "metadata": {},
   "outputs": [],
   "source": [
    "len(books)"
   ]
  },
  {
   "cell_type": "code",
   "execution_count": null,
   "id": "19387df5",
   "metadata": {},
   "outputs": [],
   "source": [
    "link = books[0].get('href')\n",
    "print(link)\n",
    "title = books[0].text\n",
    "print(title)"
   ]
  },
  {
   "cell_type": "code",
   "execution_count": null,
   "id": "5c234f74",
   "metadata": {},
   "outputs": [],
   "source": [
    "linkList=[]\n",
    "titleList=[]\n",
    "for i in range(len(books)):\n",
    "    linkList.append(books[i].get('href'))\n",
    "    titleList.append(books[i].text)\n",
    "    \n",
    "print(linkList)\n",
    "print(titleList)"
   ]
  },
  {
   "cell_type": "code",
   "execution_count": null,
   "id": "f2ceace0",
   "metadata": {},
   "outputs": [],
   "source": [
    "df=pd.DataFrame({\"title\":titleList, \"link\":linkList})\n",
    "df"
   ]
  },
  {
   "cell_type": "code",
   "execution_count": null,
   "id": "929123d6",
   "metadata": {},
   "outputs": [],
   "source": [
    "df.to_csv(\"books.csv\", index = False)"
   ]
  },
  {
   "cell_type": "markdown",
   "id": "3eda4d99",
   "metadata": {},
   "source": [
    "index = False 인덱스(색인) column 없이 csv파일 생성"
   ]
  },
  {
   "cell_type": "code",
   "execution_count": null,
   "id": "838eaba6",
   "metadata": {},
   "outputs": [],
   "source": [
    "url = 'https://www.aladin.co.kr/shop/common/wbest.aspx?BestType=MonthlyBest&BranchType=1&CID=2105&Year=2020&Month=2&Week=4&page=3'\n",
    "html = requests.get(url).text\n",
    "soup = BeautifulSoup(html, 'lxml')\n",
    "tag_name = 'a.bo3'\n",
    "books = soup.select(tag_name)\n",
    "print(books)"
   ]
  },
  {
   "cell_type": "code",
   "execution_count": null,
   "id": "524d16d2",
   "metadata": {},
   "outputs": [],
   "source": [
    "def aladinDataScrping(CID, year, month):\n",
    "    root_url = 'https://www.aladin.co.kr'\n",
    "    \n",
    "    url_1 = 'https://www.aladin.co.kr/shop/common/wbest.aspx?BestType=MonthlyBest&BranchType=1&CID='\n",
    "    url_2 = '&Year='\n",
    "    url_3 = '&Month='\n",
    "    url_4 = '&Week=4&page='\n",
    "    \n",
    "    url_set = url_1 + str(CID) + url_2 + str(year) + url_3 + str(month) + url_4\n",
    "    \n",
    "    book_list=[]\n",
    "    \n",
    "    for i in range(1,2):\n",
    "        url = url_set + str(i)\n",
    "        html = requests.get(url).text\n",
    "        soup = BeautifulSoup(html, 'lxml')\n",
    "        tag_name = 'a.bo3'\n",
    "        books = soup.select(tag_name)\n",
    "        \n",
    "        #print('# Page', i)\n",
    "        #print(books[0])\n",
    "        #print(url)\n",
    "        \n",
    "        for book in books:\n",
    "            sub_url = book.attrs['href']\n",
    "            print(sub_url)\n",
    "            sub_res = requests.post(sub_url)\n",
    "            sub_soup = BeautifulSoup(sub_res.text, 'lxml')\n",
    "            #print(sub_soup)\n",
    "            \n",
    "            tag_title = '#Ere_prod_allwrap > div.Ere_prod_topwrap > div.Ere_prod_titlewrap > div.left > div > ul > li:nth-child(2) > div > a.Ere_bo_title'\n",
    "            tag_cover = '#CoverMainImage'\n",
    "            tag_author = '#Ere_prod_allwrap > div.Ere_prod_topwrap > div.Ere_prod_titlewrap > div.left > div > ul > li.Ere_sub2_title > a:nth-child(1)'\n",
    "            tag_author2 = '#Ere_prod_allwrap > div.Ere_prod_topwrap > div.Ere_prod_titlewrap > div.left > div > ul > li.Ere_sub2_title > a:nth-child(3)'\n",
    "            tag_publisher = '#Ere_prod_allwrap > div.Ere_prod_topwrap > div.Ere_prod_titlewrap > div.left > div > ul > li.Ere_sub2_title > a:nth-child(3)'\n",
    "            tag_price = '#Ere_prod_allwrap > div.Ere_prod_bookwrap > div.Ere_prod_Binfowrap > div > div:nth-child(3) > ul > li:nth-child(1) > div.Ritem'\n",
    "            tag_page = '#Ere_prod_allwrap > div.Ere_prod_middlewrap > div:nth-child(1) > div.Ere_prod_mconts_R > div.conts_info_list1 > ul > li:nth-child(1)'\n",
    "            tag_isbn = '#Ere_prod_allwrap > div.Ere_prod_middlewrap > div:nth-child(1) > div.Ere_prod_mconts_R > div.conts_info_list1 > ul > li:nth-child(4)'\n",
    "            \n",
    "            title = sub_soup.select(tag_title)[0].text\n",
    "            \n",
    "            cover = sub_soup.select(tag_cover)[0].get('src')\n",
    "\n",
    "            try:\n",
    "                author = sub_soup.select(tag_author)[0].text\n",
    "            except:\n",
    "                author = sub_soup.select(tag_author2)[0].text.strip('\\n').strip().replace(' 저','')\n",
    "\n",
    "\n",
    "            publisher = sub_soup.select(tag_publisher)[0].text\n",
    "\n",
    "           \n",
    "            price = sub_soup.select(tag_price)[0].text.replace(',','')\n",
    "           \n",
    "\n",
    "            page = sub_soup.select(tag_page)[0].text\n",
    "            if '쪽' in page:\n",
    "                if '확인' in page:\n",
    "                    page = ''\n",
    "                else :\n",
    "                    page = page.split('|')[0].strip().replace('쪽','')\n",
    "            else :\n",
    "                page = ''\n",
    "\n",
    "           \n",
    "            isbn = sub_soup.select(tag_isbn)[0].text\n",
    "            \n",
    "            category = 'classic literature'\n",
    "               \n",
    "\n",
    "            book_list.append([title, cover, author, publisher, price, page, isbn, category])\n",
    "\n",
    "            print('=========>', title)\n",
    "\n",
    "    # 데이터프레임 컬럼명 지정\n",
    "    colList = ['title', 'cover', 'author', 'publisher', 'price', 'page', 'isbn', 'category']\n",
    "\n",
    "    # 데이터프레임으로 변환\n",
    "    df = pd.DataFrame(np.array(book_list), columns=colList)\n",
    "\n",
    "    return df.to_csv(\"E:\\source\\scraping/books.csv\", index = False)"
   ]
  },
  {
   "cell_type": "code",
   "execution_count": null,
   "id": "2f1e6d83",
   "metadata": {
    "scrolled": true
   },
   "outputs": [],
   "source": [
    "aladinDataScrping(\"2105\",\"2020\",\"2\")"
   ]
  },
  {
   "cell_type": "code",
   "execution_count": null,
   "id": "d456d768",
   "metadata": {},
   "outputs": [],
   "source": [
    "url = 'https://www.aladin.co.kr/shop/common/wbest.aspx?BestType=MonthlyBest&BranchType=1&CID=2105&Year=2020&Month=2&Week=4&page=1'\n",
    "html = requests.get(url).text\n",
    "soup = BeautifulSoup(html, 'lxml')\n",
    "tag_name = '#Myform > div:nth-child(3)'\n",
    "books = soup.select(tag_name)\n",
    "print(books)"
   ]
  },
  {
   "cell_type": "code",
   "execution_count": 1,
   "id": "9a5042ef",
   "metadata": {},
   "outputs": [],
   "source": [
    "import numpy as np\n",
    "import pandas as pd\n",
    "import requests\n",
    "from bs4 import BeautifulSoup"
   ]
  },
  {
   "cell_type": "code",
   "execution_count": null,
   "id": "0bf9fa69",
   "metadata": {},
   "outputs": [],
   "source": [
    "url = 'https://www.aladin.co.kr/shop/common/wbest.aspx?BestType=MonthlyBest&BranchType=1&CID=2105&Year=2020&Month=2&Week=4&page=3'\n",
    "html = requests.get(url).text\n",
    "soup = BeautifulSoup(html, 'lxml')\n",
    "tag_name = 'div.ss_book_box'\n",
    "books = soup.select(tag_name)\n",
    "title = soup.select('a.bo3>b')\n",
    "cover = soup.select('div.cover_area_other>a>img')\n",
    "author = soup.select('#Myform > div:nth-child(5) > table > tbody > tr > td:nth-child(3) > table > tbody > tr:nth-child(1) > td:nth-child(1) > div:nth-child(1) > ul > li:nth-child(2) > a:nth-child(1)')\n",
    "# print(books)\n",
    "print(author)\n",
    "print(len(author))"
   ]
  },
  {
   "cell_type": "code",
   "execution_count": null,
   "id": "b9cd3e6b",
   "metadata": {},
   "outputs": [],
   "source": [
    "linkList=[]\n",
    "titleList=[]\n",
    "coverList=[]\n",
    "for i in range(len(books)):\n",
    "    linkList.append(books[i].get('href'))\n",
    "    titleList.append(title[i].text)\n",
    "    coverList.append(cover[i].get('src'))\n",
    "print(linkList)\n",
    "print(titleList)\n",
    "print(coverList)"
   ]
  },
  {
   "cell_type": "code",
   "execution_count": 13,
   "id": "7ddc101f",
   "metadata": {},
   "outputs": [
    {
     "name": "stdout",
     "output_type": "stream",
     "text": [
      "[<li class=\"Ere_sub2_title\"><a class=\"Ere_sub2_title\" href=\"/search/wsearchresult.aspx?AuthorSearch=%ec%98%ac%eb%8d%94%ec%8a%a4+%ed%97%89%ec%8a%ac%eb%a6%ac@28983&amp;BranchType=1\">올더스 헉슬리</a> (지은이),<span class=\"Ere_PR10\"></span><a class=\"Ere_sub2_title\" href=\"/search/wsearchresult.aspx?AuthorSearch=%ec%9d%b4%eb%8d%95%ed%98%95@62187&amp;BranchType=1\">이덕형</a> (옮긴이)<span class=\"Ere_PR10\"></span><a class=\"Ere_sub2_title\" href=\"/search/wsearchresult.aspx?PublisherSearch=%eb%ac%b8%ec%98%88%ec%b6%9c%ed%8c%90%ec%82%ac@1692&amp;BranchType=1\">문예출판사</a><span class=\"Ere_PR10\"></span>1998-10-20<span class=\"Ere_PR10\"></span><a class=\"Ere_sub2_title\" href=\"/search/wsearchresult.aspx?SearchTarget=Foreign&amp;SearchWord=Brave+New+World+Aldous+Huxley\">원제 : Brave New World (1932년)</a></li>]\n",
      "1\n"
     ]
    }
   ],
   "source": [
    "url = 'https://www.aladin.co.kr/shop/wproduct.aspx?ItemId=48758'\n",
    "html = requests.get(url).text\n",
    "soup = BeautifulSoup(html, 'lxml')\n",
    "tag_name = 'li.Ere_sub2_title'\n",
    "books = soup.select(tag_name)\n",
    "title = soup.select('a.bo3>b')\n",
    "cover = soup.select('div.cover_area_other>a>img')\n",
    "author = soup.select('#Myform > div:nth-child(5) > table > tbody > tr > td:nth-child(3) > table > tbody > tr:nth-child(1) > td:nth-child(1) > div:nth-child(1) > ul > li:nth-child(2) > a:nth-child(1)')\n",
    "print(books)\n",
    "# print(author)\n",
    "print(len(books))"
   ]
  },
  {
   "cell_type": "code",
   "execution_count": 12,
   "id": "b875480d",
   "metadata": {},
   "outputs": [
    {
     "ename": "TypeError",
     "evalue": "'NoneType' object is not callable",
     "output_type": "error",
     "traceback": [
      "\u001b[1;31m---------------------------------------------------------------------------\u001b[0m",
      "\u001b[1;31mTypeError\u001b[0m                                 Traceback (most recent call last)",
      "Cell \u001b[1;32mIn[12], line 1\u001b[0m\n\u001b[1;32m----> 1\u001b[0m \u001b[43mbooks\u001b[49m\u001b[43m[\u001b[49m\u001b[38;5;241;43m0\u001b[39;49m\u001b[43m]\u001b[49m\u001b[38;5;241;43m.\u001b[39;49m\u001b[43msplit\u001b[49m\u001b[43m(\u001b[49m\u001b[38;5;124;43m'\u001b[39;49m\u001b[38;5;124;43m|\u001b[39;49m\u001b[38;5;124;43m'\u001b[39;49m\u001b[43m)\u001b[49m\n",
      "\u001b[1;31mTypeError\u001b[0m: 'NoneType' object is not callable"
     ]
    }
   ],
   "source": []
  },
  {
   "cell_type": "code",
   "execution_count": null,
   "id": "3c73b333",
   "metadata": {},
   "outputs": [],
   "source": []
  },
  {
   "cell_type": "code",
   "execution_count": null,
   "id": "c3406f49",
   "metadata": {},
   "outputs": [],
   "source": []
  },
  {
   "cell_type": "code",
   "execution_count": null,
   "id": "5e9c9b6d",
   "metadata": {},
   "outputs": [],
   "source": [
    "#yDetailTopWrap > div.topColRgt > div.gd_infoTop > span.gd_pubArea > span.gd_auth > a\n",
    "#yDetailTopWrap > div.topColRgt > div.gd_infoTop > span.gd_pubArea > span.gd_auth > a:nth-child(2)\n",
    "#yDetailTopWrap > div.topColRgt > div.gd_infoTop > span.gd_pubArea > span.gd_pub > a"
   ]
  },
  {
   "cell_type": "code",
   "execution_count": null,
   "id": "bc566dcb",
   "metadata": {},
   "outputs": [],
   "source": [
    "def yes24DataReader(CategoryNumber, year, month):\n",
    "\n",
    "    root_url = 'http://www.yes24.com'\n",
    "\n",
    "    url_1 = 'http://www.yes24.com/24/category/bestseller?CategoryNumber='\n",
    "    url_2 = '&sumgb=09&year='\n",
    "    url_3 = '&month='\n",
    "    url_4 = '&PageNumber='\n",
    "    url_set = url_1 + CategoryNumber + url_2 + year + url_3 + month + url_4\n",
    "\n",
    "    book_list=[]\n",
    "\n",
    "    # 월 별 조회 시 최대 50쪽이지만, 간단한 설명을 위해 2쪽까지만 수집\n",
    "    for i in range(1, 3):\n",
    "\n",
    "        url = url_set + str(i)\n",
    "\n",
    "        res = requests.post(url)\n",
    "        soup = BeautifulSoup(res.text, 'lxml')\n",
    "        tag = '#category_layout > tbody > tr > td.goodsTxtInfo > p:nth-child(1) > a:nth-child(1)'\n",
    "        books = soup.select(tag)\n",
    "\n",
    "        # 수집 중인 페이지 번호 출력\n",
    "        print('# Page', i)\n",
    "\n",
    "        # 개별 도서 정보 수집\n",
    "        for book in books:\n",
    "\n",
    "            sub_url = root_url + book.attrs['href']\n",
    "            sub_res = requests.post(sub_url)\n",
    "            sub_soup = BeautifulSoup(sub_res.text, 'lxml')\n",
    "\n",
    "            tag_name = '#yDetailTopWrap > div.topColRgt > div.gd_infoTop > div > h2'\n",
    "            tag_author = '#yDetailTopWrap > div.topColRgt > div.gd_infoTop > span.gd_pubArea > span.gd_auth > a'\n",
    "            tag_author2 = '#yDetailTopWrap > div.topColRgt > div.gd_infoTop > span.gd_pubArea > span.gd_auth'\n",
    "            tag_publisher = '#yDetailTopWrap > div.topColRgt > div.gd_infoTop > span.gd_pubArea > span.gd_pub > a'\n",
    "            tag_date = '#yDetailTopWrap > div.topColRgt > div.gd_infoTop > span.gd_pubArea > span.gd_date'\n",
    "            tag_sales = '#yDetailTopWrap > div.topColRgt > div.gd_infoTop > span.gd_ratingArea > span.gd_sellNum'\n",
    "\n",
    "            tag_listprice = '#yDetailTopWrap > div.topColRgt > div.gd_infoBot > div.gd_infoTbArea > div:nth-child(3) > table > tbody > tr:nth-child(1) > td > span > em'\n",
    "            tag_listprice2 = '#yDetailTopWrap > div.topColRgt > div.gd_infoBot > div.gd_infoTbArea > div:nth-child(4) > table > tbody > tr:nth-child(1) > td > span > em'\n",
    "            tag_price = '#yDetailTopWrap > div.topColRgt > div.gd_infoBot > div.gd_infoTbArea > div:nth-child(3) > table > tbody > tr:nth-child(2) > td > span > em'\n",
    "            tag_price2 = '#yDetailTopWrap > div.topColRgt > div.gd_infoBot > div.gd_infoTbArea > div:nth-child(4) > table > tbody > tr:nth-child(2) > td > span > em'\n",
    "\n",
    "            tag_page = '#infoset_specific > div.infoSetCont_wrap > div > table > tbody > tr:nth-child(2) > td'\n",
    "            tag_weight = '#infoset_specific > div.infoSetCont_wrap > div > table > tbody > tr:nth-child(2) > td'\n",
    "            tag_hor = '#infoset_specific > div.infoSetCont_wrap > div > table > tbody > tr:nth-child(2) > td'\n",
    "            tag_ver = '#infoset_specific > div.infoSetCont_wrap > div > table > tbody > tr:nth-child(2) > td'\n",
    "            tag_width = '#infoset_specific > div.infoSetCont_wrap > div > table > tbody > tr:nth-child(2) > td'\n",
    "            tag_isbn13 = '#infoset_specific > div.infoSetCont_wrap > div > table > tbody > tr:nth-child(3) > td'\n",
    "            tag_isbn10 = '#infoset_specific > div.infoSetCont_wrap > div > table > tbody > tr:nth-child(4) > td'\n",
    "\n",
    "\n",
    "            # 기본적인 예외처리를 통한 데이터 수집\n",
    "            name = sub_soup.select(tag_name)[0].text\n",
    "\n",
    "            try:\n",
    "                author = sub_soup.select(tag_author)[0].text\n",
    "            except:\n",
    "                author = sub_soup.select(tag_author2)[0].text.strip('\\n').strip().replace(' 저','')\n",
    "\n",
    "\n",
    "            publisher = sub_soup.select(tag_publisher)[0].text\n",
    "            date = sub_soup.select(tag_date)[0].text.replace('년 ','-').replace('월 ','-').replace('일','')\n",
    "\n",
    "            try:\n",
    "                sales = sub_soup.select(tag_sales)[0].text\n",
    "                if '판매지수' in sales:\n",
    "                    sales = sub_soup.select(tag_sales)[0].text.strip().strip('|').strip().lstrip('판매지수 ').rstrip(' 판매지수란?')\n",
    "                else :\n",
    "                    sales =''\n",
    "            except:\n",
    "                sales = ''\n",
    "\n",
    "            try:\n",
    "                listprice = sub_soup.select(tag_listprice)[0].text.replace(',','').replace('원','')\n",
    "            except:\n",
    "                try:\n",
    "                    listprice = sub_soup.select(tag_listprice2)[0].text.replace(',','').replace('원','')\n",
    "                except:\n",
    "                    listprice = ''\n",
    "\n",
    "            try:\n",
    "                price = sub_soup.select(tag_price)[0].text.replace(',','')\n",
    "            except:\n",
    "                try:\n",
    "                    price = sub_soup.select(tag_price2)[0].text.replace(',','')\n",
    "                except:\n",
    "                    price = ''\n",
    "\n",
    "            page = sub_soup.select(tag_page)[0].text\n",
    "            if '쪽' in page:\n",
    "                if '확인' in page:\n",
    "                    page = ''\n",
    "                else :\n",
    "                    page = page.split('|')[0].strip().replace('쪽','')\n",
    "            else :\n",
    "                page = ''\n",
    "\n",
    "            weight = sub_soup.select(tag_weight)[0].text\n",
    "            if 'g' in weight:\n",
    "                weight = weight[:weight.find('g')].split('|')[1].strip()\n",
    "            else :\n",
    "                weight = ''\n",
    "\n",
    "            hvw = sub_soup.select(tag_hor)[0].text\n",
    "            if 'mm' in hvw:\n",
    "\n",
    "                if hvw.split('|')[-1].strip().count('*')==2:\n",
    "\n",
    "                    hor = hvw.split('|')[-1].strip().split('*')[0]\n",
    "                    ver = hvw.split('|')[-1].strip().split('*')[1]\n",
    "                    width = hvw.split('|')[-1].strip().split('*')[2].replace('mm','')\n",
    "\n",
    "                elif hvw.split('|')[-1].strip().count('*')==1:\n",
    "\n",
    "                    hor = hvw.split('|')[-1].strip().split('*')[0]\n",
    "                    ver = hvw.split('|')[-1].strip().split('*')[1].replace('mm','')\n",
    "                    width = ''\n",
    "\n",
    "            else :\n",
    "                hor = ''\n",
    "                ver = ''\n",
    "                width = ''\n",
    "\n",
    "            try :\n",
    "                isbn13 = sub_soup.select(tag_isbn13)[0].text\n",
    "                if '확인' in isbn13:\n",
    "                    isbn13 = ''\n",
    "                else :\n",
    "                    isbn13 = sub_soup.select(tag_isbn13)[0].text\n",
    "            except :\n",
    "                isbn13 = ''\n",
    "\n",
    "\n",
    "            try :\n",
    "                isbn10 = sub_soup.select(tag_isbn10)[0].text\n",
    "                if '확인' in isbn10:\n",
    "                    isbn10 = ''\n",
    "                else :\n",
    "                    isbn10 = sub_soup.select(tag_isbn10)[0].text\n",
    "            except :\n",
    "                isbn10 = ''\n",
    "\n",
    "            book_list.append([name, author, publisher, date,\n",
    "                              sales, listprice, price, page,\n",
    "                              weight, hor, ver, width, isbn13, isbn10])\n",
    "\n",
    "            print('=========>', name)\n",
    "\n",
    "    # 데이터프레임 컬럼명 지정\n",
    "    colList = ['name',  'author', 'publisher', 'date',\n",
    "               'sales', 'listprice', 'price', 'page',\n",
    "               'weight', 'hor', 'ver', 'width', 'isbn13', 'isbn10']\n",
    "\n",
    "    # 데이터프레임으로 변환\n",
    "    df = pd.DataFrame(np.array(book_list), columns=colList)\n",
    "\n",
    "    return df"
   ]
  },
  {
   "cell_type": "code",
   "execution_count": null,
   "id": "3b3f2959",
   "metadata": {},
   "outputs": [],
   "source": [
    "CategoryNum='001001010'\n",
    "\n",
    "# 2019년도\n",
    "for year in range(2019, 2020):\n",
    "    print('='*50)\n",
    "    print('# Year', year)\n",
    "    print('='*50)\n",
    "\n",
    "    # 9월\n",
    "    for month in range(9, 10):\n",
    "        print('='*50)\n",
    "        print('# Month', month)\n",
    "        print('='*50)\n",
    "\n",
    "        # 월 별 데이터 수집\n",
    "        df = yes24DataReader(CategoryNum, str(year), str(month))\n",
    "\n",
    "        # 월 별로 수집된 데이터를 CSV 형식 파일로 저장\n",
    "        df.to_csv(str(year)+'_'+str(month)+'_'+str(CategoryNum)+'.csv', index=False, encoding='CP949')"
   ]
  },
  {
   "cell_type": "code",
   "execution_count": null,
   "id": "eba61075",
   "metadata": {},
   "outputs": [],
   "source": []
  },
  {
   "cell_type": "code",
   "execution_count": null,
   "id": "c6b90b90",
   "metadata": {},
   "outputs": [],
   "source": []
  },
  {
   "cell_type": "code",
   "execution_count": null,
   "id": "e4b10ab2",
   "metadata": {},
   "outputs": [],
   "source": []
  },
  {
   "cell_type": "code",
   "execution_count": null,
   "id": "865799bd",
   "metadata": {},
   "outputs": [],
   "source": []
  },
  {
   "cell_type": "code",
   "execution_count": null,
   "id": "4cc8a0e5",
   "metadata": {},
   "outputs": [],
   "source": []
  },
  {
   "cell_type": "code",
   "execution_count": null,
   "id": "ca267909",
   "metadata": {},
   "outputs": [],
   "source": []
  },
  {
   "cell_type": "code",
   "execution_count": null,
   "id": "ccac71f4",
   "metadata": {},
   "outputs": [],
   "source": []
  },
  {
   "cell_type": "code",
   "execution_count": null,
   "id": "3cb7e79d",
   "metadata": {},
   "outputs": [],
   "source": []
  },
  {
   "cell_type": "code",
   "execution_count": null,
   "id": "3da7adf8",
   "metadata": {},
   "outputs": [],
   "source": []
  },
  {
   "cell_type": "code",
   "execution_count": null,
   "id": "e7599b70",
   "metadata": {},
   "outputs": [],
   "source": []
  },
  {
   "cell_type": "code",
   "execution_count": null,
   "id": "e17ee945",
   "metadata": {},
   "outputs": [],
   "source": [
    "print(r.text)"
   ]
  },
  {
   "cell_type": "code",
   "execution_count": null,
   "id": "768d5ecb",
   "metadata": {},
   "outputs": [],
   "source": [
    "html = requests.get('https://www.aladin.co.kr/shop/wbrowse.aspx?start=we_header&CID=50917').text\n",
    "print(html)"
   ]
  },
  {
   "cell_type": "code",
   "execution_count": null,
   "id": "a02fc8a4",
   "metadata": {},
   "outputs": [],
   "source": [
    "from bs4 import BeautifulSoup"
   ]
  },
  {
   "cell_type": "code",
   "execution_count": null,
   "id": "9fd929cc",
   "metadata": {},
   "outputs": [],
   "source": [
    "html = \"\"\"<html><body><div><span>\n",
    "        <a href=https://www.aladin.co.kr/shop/wbrowse.aspx?start=we_header&CID=50917>aladin</a>\n",
    "    </span></div></body></html>\"\"\""
   ]
  },
  {
   "cell_type": "code",
   "execution_count": null,
   "id": "dc9dc688",
   "metadata": {},
   "outputs": [],
   "source": [
    "soup = BeautifulSoup(html, 'lxml')"
   ]
  },
  {
   "cell_type": "code",
   "execution_count": null,
   "id": "5fc0a90d",
   "metadata": {},
   "outputs": [],
   "source": [
    "print(soup)"
   ]
  },
  {
   "cell_type": "code",
   "execution_count": null,
   "id": "8a67e487",
   "metadata": {},
   "outputs": [],
   "source": [
    "print(soup.prettify())"
   ]
  },
  {
   "cell_type": "code",
   "execution_count": null,
   "id": "8ea61909",
   "metadata": {},
   "outputs": [],
   "source": [
    "print(soup.find('a')) # 첫번째 a가 포함된 "
   ]
  },
  {
   "cell_type": "code",
   "execution_count": null,
   "id": "740d9772",
   "metadata": {},
   "outputs": [],
   "source": [
    "print(soup.find('a').get_text())"
   ]
  },
  {
   "cell_type": "code",
   "execution_count": null,
   "id": "c039df7b",
   "metadata": {},
   "outputs": [],
   "source": [
    "print(soup.find_all('a'))"
   ]
  },
  {
   "cell_type": "code",
   "execution_count": null,
   "id": "50f1579f",
   "metadata": {},
   "outputs": [],
   "source": [
    "sites = soup.find_all('a')\n",
    "for site in sites:\n",
    "    print(site.get_text())"
   ]
  },
  {
   "cell_type": "code",
   "execution_count": null,
   "id": "fd4aa3d1",
   "metadata": {},
   "outputs": [],
   "source": [
    "html2 = requests.get('https://www.aladin.co.kr/shop/wbrowse.aspx?start=we_header&CID=50917').text"
   ]
  },
  {
   "cell_type": "code",
   "execution_count": null,
   "id": "f0891723",
   "metadata": {},
   "outputs": [],
   "source": [
    "soup2 = BeautifulSoup(html2, 'lxml')"
   ]
  },
  {
   "cell_type": "code",
   "execution_count": null,
   "id": "08ecc88d",
   "metadata": {},
   "outputs": [],
   "source": [
    "print(soup2.body)"
   ]
  },
  {
   "cell_type": "code",
   "execution_count": null,
   "id": "211ae9a6",
   "metadata": {},
   "outputs": [],
   "source": [
    "print(soup2.select('div.ss_book_box'))"
   ]
  },
  {
   "cell_type": "code",
   "execution_count": null,
   "id": "fb27a48d",
   "metadata": {},
   "outputs": [],
   "source": [
    "tmp = soup2.select('div.ss_book_box')"
   ]
  },
  {
   "cell_type": "code",
   "execution_count": null,
   "id": "be3c8eac",
   "metadata": {},
   "outputs": [],
   "source": [
    "for book in tmp:\n",
    "    cover_area = book.find('div', class_='cover_area')"
   ]
  },
  {
   "cell_type": "code",
   "execution_count": null,
   "id": "d966bfbd",
   "metadata": {},
   "outputs": [],
   "source": [
    "print(soup2.select('div.ss_book_box')[1])"
   ]
  },
  {
   "cell_type": "code",
   "execution_count": null,
   "id": "450fcf56",
   "metadata": {},
   "outputs": [],
   "source": [
    "print(soup2.find('p', {'id': 'book_title'}))"
   ]
  },
  {
   "cell_type": "code",
   "execution_count": null,
   "id": "cd888855",
   "metadata": {},
   "outputs": [],
   "source": [
    "print(soup2.find('p', {'id': 'book_title'}).get_text())"
   ]
  },
  {
   "cell_type": "code",
   "execution_count": null,
   "id": "3cbd5cfb",
   "metadata": {},
   "outputs": [],
   "source": [
    "print(soup2.find_all('p', {'id': 'book_title'}))"
   ]
  },
  {
   "cell_type": "code",
   "execution_count": null,
   "id": "26bda38a",
   "metadata": {},
   "outputs": [],
   "source": [
    "titles = soup2.find_all('p', {'id': 'book_title'})\n",
    "for title in titles:\n",
    "    print(title.get_text())"
   ]
  },
  {
   "cell_type": "code",
   "execution_count": null,
   "id": "4b930e4d",
   "metadata": {},
   "outputs": [],
   "source": [
    "book_titles = soup2.find_all('p', {\"id\":\"book_title\"})\n",
    "authors = soup2.find_all('p', {\"id\":\"author\"})\n",
    "\n",
    "for book_title, author in zip(book_titles, authors):\n",
    "    print(book_title.get_text() + '/' + author.get_text())"
   ]
  },
  {
   "cell_type": "code",
   "execution_count": null,
   "id": "70be69ce",
   "metadata": {},
   "outputs": [],
   "source": [
    "print(soup2.select('body h1'))"
   ]
  },
  {
   "cell_type": "code",
   "execution_count": null,
   "id": "680a1adb",
   "metadata": {},
   "outputs": [],
   "source": [
    "print(soup2.select('body p'))"
   ]
  },
  {
   "cell_type": "code",
   "execution_count": null,
   "id": "32691477",
   "metadata": {},
   "outputs": [],
   "source": [
    "print(soup2.select('p'))"
   ]
  },
  {
   "cell_type": "code",
   "execution_count": null,
   "id": "f0c48216",
   "metadata": {},
   "outputs": [],
   "source": [
    "print(soup2.select('p#book_title'))"
   ]
  },
  {
   "cell_type": "code",
   "execution_count": null,
   "id": "99db3717",
   "metadata": {},
   "outputs": [],
   "source": [
    "html3 = \"\"\"\n",
    "<!doctype html>\n",
    "<html>\n",
    "    <head>\n",
    "    <meta charset=\"utf-8\">\n",
    "    <title>사이트 모음</title>\n",
    "    </head>\n",
    "    <body>\n",
    "    <p id=\"title\">\n",
    "    <b>자주 가는 사이트 모음</b>\n",
    "    </p>\n",
    "    <p id=\"contents\">이곳은 자주 가는 사이트를 모아둔 곳입니다.</p>\n",
    "    <a href=\"http://www.naver.com\" class=\"portal\" id=\"naver\">네이버</a> <br>\n",
    "    <a href=\"https://www.google.com\" class=\"search\" id=\"google\">구글</a> <br>\n",
    "    <a href=\"http://www.daum.net\" class=\"portal\" id=\"daum\">다음</a> <br>\n",
    "    <a href=\"http://www.nl.go.kr\" class=\"government\" id=\"nl\">국립중앙도서관</a>\n",
    "    </body>\n",
    "</html>\n",
    "\"\"\""
   ]
  },
  {
   "cell_type": "code",
   "execution_count": null,
   "id": "63e68e0d",
   "metadata": {},
   "outputs": [],
   "source": [
    "soup3 = BeautifulSoup(html3, 'lxml')"
   ]
  },
  {
   "cell_type": "code",
   "execution_count": null,
   "id": "9d52f673",
   "metadata": {},
   "outputs": [],
   "source": [
    "print(soup3.select('a.portal'))"
   ]
  },
  {
   "cell_type": "code",
   "execution_count": null,
   "id": "53dd1964",
   "metadata": {},
   "outputs": [],
   "source": []
  },
  {
   "cell_type": "code",
   "execution_count": null,
   "id": "382d161a",
   "metadata": {},
   "outputs": [],
   "source": []
  },
  {
   "cell_type": "code",
   "execution_count": null,
   "id": "0a52e19b",
   "metadata": {},
   "outputs": [],
   "source": []
  },
  {
   "cell_type": "code",
   "execution_count": null,
   "id": "136b6bb0",
   "metadata": {},
   "outputs": [],
   "source": []
  },
  {
   "cell_type": "code",
   "execution_count": null,
   "id": "b21a5046",
   "metadata": {},
   "outputs": [],
   "source": []
  },
  {
   "cell_type": "code",
   "execution_count": null,
   "id": "992818ce",
   "metadata": {},
   "outputs": [],
   "source": []
  },
  {
   "cell_type": "code",
   "execution_count": null,
   "id": "287de4a1",
   "metadata": {},
   "outputs": [],
   "source": []
  },
  {
   "cell_type": "code",
   "execution_count": null,
   "id": "e5f33e08",
   "metadata": {},
   "outputs": [],
   "source": []
  }
 ],
 "metadata": {
  "kernelspec": {
   "display_name": "Python 3 (ipykernel)",
   "language": "python",
   "name": "python3"
  },
  "language_info": {
   "codemirror_mode": {
    "name": "ipython",
    "version": 3
   },
   "file_extension": ".py",
   "mimetype": "text/x-python",
   "name": "python",
   "nbconvert_exporter": "python",
   "pygments_lexer": "ipython3",
   "version": "3.8.15"
  }
 },
 "nbformat": 4,
 "nbformat_minor": 5
}

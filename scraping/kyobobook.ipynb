{
 "cells": [
  {
   "cell_type": "markdown",
   "id": "c04c8fd2",
   "metadata": {},
   "source": [
    "터미널에서   \n",
    "conda install -c anaconda requests  https://anaconda.org/anaconda/requests  \n",
    "conda install bs4   \n",
    "conda install lxml"
   ]
  },
  {
   "cell_type": "code",
   "execution_count": null,
   "id": "b56cd537",
   "metadata": {},
   "outputs": [],
   "source": [
    "import numpy as np\n",
    "import pandas as pd\n",
    "import requests\n",
    "from bs4 import BeautifulSoup"
   ]
  },
  {
   "cell_type": "code",
   "execution_count": null,
   "id": "dff23e36",
   "metadata": {},
   "outputs": [],
   "source": [
    "import re #정규식 지원"
   ]
  },
  {
   "cell_type": "code",
   "execution_count": null,
   "id": "9e441d30",
   "metadata": {},
   "outputs": [],
   "source": [
    "url='https://product.kyobobook.co.kr/detail/S000001619177'\n",
    "r = requests.get(url)\n",
    "print(r)\n",
    "html = requests.get(url).text\n",
    "soup = BeautifulSoup(html, 'lxml')\n",
    "print(soup)"
   ]
  },
  {
   "cell_type": "code",
   "execution_count": null,
   "id": "0d2a2290",
   "metadata": {},
   "outputs": [],
   "source": []
  },
  {
   "cell_type": "code",
   "execution_count": null,
   "id": "d7460df6",
   "metadata": {},
   "outputs": [],
   "source": [
    "def extract_number(s):\n",
    "    return ''.join(filter(str.isdigit, s)) #문자열을 입력받아 숫자만 추출하여 문자열로 반환"
   ]
  },
  {
   "cell_type": "code",
   "execution_count": null,
   "id": "64183de1",
   "metadata": {
    "scrolled": true
   },
   "outputs": [],
   "source": [
    "url='https://product.kyobobook.co.kr/detail/S000001619177'\n",
    "html = requests.get(url).text\n",
    "soup = BeautifulSoup(html, 'lxml')\n",
    "title_tag = 'div.auto_overflow_inner>h1>span.prod_title'\n",
    "title = soup.select(title_tag)\n",
    "print(title)\n",
    "author_tag = 'div.author> a'\n",
    "author = soup.select(author_tag)\n",
    "print(author)\n",
    "publisher_tag = 'div.prod_info_text.publish_date > a'\n",
    "publisher = soup.select(publisher_tag)\n",
    "print(publisher)\n",
    "price_tag = 'li.prod_type_item.active > a > span.prod_price'\n",
    "price_origin = soup.select_one(price_tag).text\n",
    "price = extract_number(price_origin)\n",
    "print(price)\n",
    "isbn_tag = '#scrollSpyProdInfo > div.product_detail_area.basic_info > div.tbl_row_wrap > table > tbody > tr:nth-child(1) > td'\n",
    "isbn_origin = soup.select_one(isbn_tag).text\n",
    "isbn_pattern = r'\\b978[\\d]{10}\\b'\n",
    "isbn_list = re.findall(isbn_pattern, isbn_origin)\n",
    "isbn = isbn_list[0]\n",
    "print(isbn)\n",
    "img_tag = 'div.portrait_img_box > img'\n",
    "img_url = soup.select(img_tag)[0].get('src')\n",
    "print(img_url)"
   ]
  },
  {
   "cell_type": "code",
   "execution_count": null,
   "id": "035e3301",
   "metadata": {},
   "outputs": [],
   "source": [
    "print(len(title))\n",
    "print('title '+title[0].text)\n",
    "\n",
    "print(len(author))\n",
    "print('author '+author[0].text)\n",
    "\n",
    "print(len(publisher))\n",
    "print('publisher '+publisher[0].text)\n",
    "\n",
    "print(len(price))\n",
    "print('price '+price)\n",
    "\n",
    "print(len(isbn))\n",
    "print('isbn '+isbn)\n",
    "\n",
    "print(len(img_url))\n",
    "print('img_url '+img_url)"
   ]
  },
  {
   "cell_type": "code",
   "execution_count": null,
   "id": "af7036c7",
   "metadata": {},
   "outputs": [],
   "source": []
  },
  {
   "cell_type": "code",
   "execution_count": null,
   "id": "b2443683",
   "metadata": {},
   "outputs": [],
   "source": [
    "# def extract_number(s):\n",
    "#     return ''.join(filter(str.isdigit, s)) #문자열을 입력받아 숫자만 추출하여 문자열로 반환\n",
    "\n",
    "def extract_number(s):\n",
    "    return int(''.join(filter(str.isdigit, s))) #int() 함수로 변환"
   ]
  },
  {
   "cell_type": "code",
   "execution_count": null,
   "id": "3c73b333",
   "metadata": {},
   "outputs": [],
   "source": [
    "from selenium import webdriver\n",
    "from selenium.webdriver.chrome.service import Service\n",
    "from webdriver_manager.chrome import ChromeDriverManager\n",
    "from bs4 import BeautifulSoup\n",
    "from urllib.request import urlopen\n",
    "\n",
    "\n",
    "driver = webdriver.Chrome(service=Service(ChromeDriverManager().install()))\n",
    "\n",
    "url_1 = \"https://product.kyobobook.co.kr/category/KOR/010303#?page=\"\n",
    "url_2 = \"&type=best&per=50\"\n",
    "\n",
    "# 교보문고의 베스트셀러 웹페이지를 가져옵니다.\n",
    "driver.get(\"https://product.kyobobook.co.kr/bestseller/online?period=003#?page=1&per=50&ymw=&period=003&saleCmdtClstCode=01&dsplDvsnCode=001&dsplTrgtDvsnCode=004&saleCmdtDsplDvsnCode=\")\n",
    "bsObject = BeautifulSoup(driver.page_source, 'html.parser')\n",
    "# print(bsObject)\n",
    "\n",
    "# 책의 상세 웹페이지 주소를 추출하여 리스트에 저장합니다.\n",
    "book_page_urls = []\n",
    "for item in bsObject.find_all('div', 'prod_info_box'):\n",
    "    url = item.select('a')[0].get('href')\n",
    "    book_page_urls.append(url)\n",
    "    \n",
    "    \n",
    "print(book_page_urls)\n",
    "print(len(book_page_urls))\n",
    "\n",
    "book_list=[]\n",
    "\n",
    "# 웹페이지로부터 필요한 정보를 추출합니다. \n",
    "for index, book_page_url in enumerate(book_page_urls):\n",
    "    html = requests.get(book_page_url).text\n",
    "    soup = BeautifulSoup(html, 'lxml')\n",
    "    title_tag = 'div.auto_overflow_inner>h1>span.prod_title'\n",
    "    title = soup.select(title_tag)[0].text\n",
    "#     print(title)\n",
    "    author_tag = 'div.author> a'\n",
    "    author = soup.select(author_tag)[0].text\n",
    "#     print(author)\n",
    "    publisher_tag = 'div.prod_info_text.publish_date > a'\n",
    "    publisher = soup.select(publisher_tag)[0].text\n",
    "#     print(publisher)\n",
    "    price_tag = 'span.sale_price > s.val'\n",
    "    price_origin = soup.select_one(price_tag).text\n",
    "#     price = extract_number(price_origin) #함수사용\n",
    "    price = int(re.sub('[^0-9]', '', price_origin)) #정규표현식사용\n",
    "#     print(price)\n",
    "    isbn_tag = '#scrollSpyProdInfo > div.product_detail_area.basic_info > div.tbl_row_wrap > table > tbody > tr:nth-child(1) > td'\n",
    "    isbn_origin = soup.select_one(isbn_tag).text\n",
    "    isbn = isbn_origin[:13]\n",
    "#     print(isbn)\n",
    "    img_tag = 'div.portrait_img_box > img'\n",
    "    img_url = soup.select(img_tag)[0].get('src')\n",
    "#     print(img_url)\n",
    "\n",
    "#     print(title, author, publisher, price, isbn, img_url)\n",
    "\n",
    "    book_list.append([title, author, publisher, price, isbn, img_url, \"소설\"])\n",
    "    \n",
    "print(book_list)\n",
    "# colList = ['title', 'author', 'publisher', 'price', 'isbn', 'img_url', 'category']\n",
    "# df = pd.DataFrame(np.array(book_list), columns=colList)\n",
    "# df.to_csv(\"E:\\source\\scraping/교보.csv\", index = False)"
   ]
  },
  {
   "cell_type": "code",
   "execution_count": null,
   "id": "c6b90b90",
   "metadata": {},
   "outputs": [],
   "source": [
    "colList = ['title', 'author', 'publisher', 'price', 'isbn', 'img_url', 'category']\n",
    "df = pd.DataFrame(np.array(book_list), columns=colList)\n",
    "df.to_csv(\"E:\\source\\scraping/교보베스트.csv\", index = False)"
   ]
  },
  {
   "cell_type": "code",
   "execution_count": null,
   "id": "e4b10ab2",
   "metadata": {},
   "outputs": [],
   "source": []
  },
  {
   "cell_type": "code",
   "execution_count": null,
   "id": "865799bd",
   "metadata": {},
   "outputs": [],
   "source": []
  },
  {
   "cell_type": "code",
   "execution_count": null,
   "id": "4cc8a0e5",
   "metadata": {},
   "outputs": [],
   "source": [
    "from selenium import webdriver\n",
    "from selenium.webdriver.chrome.service import Service\n",
    "from webdriver_manager.chrome import ChromeDriverManager\n",
    "from bs4 import BeautifulSoup\n",
    "from urllib.request import urlopen\n",
    "\n",
    "\n",
    "driver = webdriver.Chrome(service=Service(ChromeDriverManager().install()))\n",
    "\n",
    "url_1 = \"https://product.kyobobook.co.kr/bestseller/online?period=003#?page=\"\n",
    "url_2 = \"&per=50&ymw=&period=003&saleCmdtClstCode=01&dsplDvsnCode=001&dsplTrgtDvsnCode=004&saleCmdtDsplDvsnCode=\"\n",
    "\n",
    "\n",
    "for i in range (1,11):\n",
    "    \n",
    "    url = url_1+str(i)+url_2\n",
    "    print('# Page', i)\n",
    "\n",
    "    \n",
    "    # 교보문고의 웹페이지를 가져옵니다.\n",
    "    driver.get(url)\n",
    "    bsObject = BeautifulSoup(driver.page_source, 'lxml')\n",
    "#     print(bsObject)\n",
    "\n",
    "    # 책의 상세 웹페이지 주소를 추출하여 리스트에 저장합니다.\n",
    "    book_page_urls = []\n",
    "    for item in bsObject.select('div.prod_info_box'):\n",
    "        url = item.select('a')[0].get('href')\n",
    "        book_page_urls.append(url)\n",
    "\n",
    "\n",
    "    print(book_page_urls)\n",
    "    print(len(book_page_urls))\n",
    "    \n",
    "    print('# Page', i)\n",
    "\n",
    "    book_list=[]\n",
    "\n",
    "    # 웹페이지로부터 필요한 정보를 추출합니다. \n",
    "    for index, book_page_url in enumerate(book_page_urls):\n",
    "        html = requests.get(book_page_url).text\n",
    "        soup = BeautifulSoup(html, 'lxml')\n",
    "        title_tag = 'div.auto_overflow_inner>h1>span.prod_title'\n",
    "        title = soup.select(title_tag)[0].text\n",
    "    #     print(title)\n",
    "        author_tag = 'div.author> a'\n",
    "        author = soup.select(author_tag)[0].text\n",
    "    #     print(author)\n",
    "        publisher_tag = 'div.prod_info_text.publish_date > a'\n",
    "        publisher = soup.select(publisher_tag)[0].text\n",
    "    #     print(publisher)\n",
    "        price_tag = 'span.sale_price > s.val'\n",
    "        price_origin = soup.select_one(price_tag).text\n",
    "    #     price = extract_number(price_origin) #함수사용\n",
    "        price = int(re.sub('[^0-9]', '', price_origin)) #정규표현식사용\n",
    "    #     print(price)\n",
    "        isbn_tag = '#scrollSpyProdInfo > div.product_detail_area.basic_info > div.tbl_row_wrap > table > tbody > tr:nth-child(1) > td'\n",
    "        isbn_origin = soup.select_one(isbn_tag).text\n",
    "        isbn = isbn_origin[:13]\n",
    "    #     print(isbn)\n",
    "        img_tag = 'div.portrait_img_box > img'\n",
    "        img_url = soup.select(img_tag)[0].get('src')\n",
    "    #     print(img_url)\n",
    "\n",
    "    #     print(title, author, publisher, price, isbn, img_url)\n",
    "\n",
    "        book_list.append([title, author, publisher, price, isbn, img_url, \"소설\"])\n",
    "\n",
    "    print(book_list)\n",
    "    # colList = ['title', 'author', 'publisher', 'price', 'isbn', 'img_url', 'category']\n",
    "    # df = pd.DataFrame(np.array(book_list), columns=colList)\n",
    "    # df.to_csv(\"E:\\source\\scraping/교보.csv\", index = False)"
   ]
  },
  {
   "cell_type": "code",
   "execution_count": null,
   "id": "ca267909",
   "metadata": {},
   "outputs": [],
   "source": [
    "colList = ['title', 'author', 'publisher', 'price', 'isbn', 'img_url', 'category']\n",
    "df = pd.DataFrame(np.array(book_list), columns=colList)\n",
    "df.to_csv(\"E:\\source\\scraping/교보333.csv\", index = False)"
   ]
  },
  {
   "cell_type": "code",
   "execution_count": null,
   "id": "ccac71f4",
   "metadata": {},
   "outputs": [],
   "source": []
  },
  {
   "cell_type": "code",
   "execution_count": null,
   "id": "3cb7e79d",
   "metadata": {},
   "outputs": [],
   "source": [
    "import numpy as np\n",
    "import pandas as pd\n",
    "import requests\n",
    "from bs4 import BeautifulSoup"
   ]
  },
  {
   "cell_type": "code",
   "execution_count": null,
   "id": "78380dc6",
   "metadata": {},
   "outputs": [],
   "source": [
    "from selenium import webdriver\n",
    "from selenium.webdriver.chrome.service import Service\n",
    "from webdriver_manager.chrome import ChromeDriverManager\n",
    "from bs4 import BeautifulSoup\n",
    "from urllib.request import urlopen"
   ]
  },
  {
   "cell_type": "code",
   "execution_count": null,
   "id": "b889f793",
   "metadata": {},
   "outputs": [],
   "source": [
    "import time"
   ]
  },
  {
   "cell_type": "code",
   "execution_count": null,
   "id": "3da7adf8",
   "metadata": {},
   "outputs": [],
   "source": [
    "driver = webdriver.Chrome(service=Service(ChromeDriverManager().install()))\n",
    "\n",
    "# 교보문고의 웹페이지를 가져옵니다.\n",
    "driver.get(\"https://product.kyobobook.co.kr/bestseller/online?period=003#?page=1&per=50&ymw=&period=003&saleCmdtClstCode=01&dsplDvsnCode=001&dsplTrgtDvsnCode=004&saleCmdtDsplDvsnCode=\")\n",
    "bsObject = BeautifulSoup(driver.page_source, 'lxml')\n",
    "# print(bsObject)\n",
    "\n",
    "books = bsObject.select(\"ol.prod_list\")\n",
    "print(books)\n",
    "\n",
    "\n",
    "\n",
    "# print(book_page_urls)\n",
    "# print(len(book_page_urls))"
   ]
  },
  {
   "cell_type": "code",
   "execution_count": null,
   "id": "0e8d59c4",
   "metadata": {},
   "outputs": [],
   "source": [
    "from selenium import webdriver\n",
    "from bs4 import BeautifulSoup\n",
    "import time"
   ]
  },
  {
   "cell_type": "code",
   "execution_count": null,
   "id": "53dd1964",
   "metadata": {},
   "outputs": [],
   "source": [
    "driver = webdriver.Chrome(service=Service(ChromeDriverManager().install()))\n",
    "driver.set_page_load_timeout(30) # 30초로 설정\n",
    "\n",
    "driver.get(\"https://product.kyobobook.co.kr/category/KOR/0103#?page=3&type=all&per=20&sort=new\")\n",
    "\n",
    "wait = WebDriverWait(driver, 10)\n",
    "element = wait.until(EC.presence_of_element_located((By.CSS_SELECTOR, \"li.list_item\")))\n",
    "bsObject = BeautifulSoup(driver.page_source, 'lxml')\n",
    "print(bsObject)\n",
    "\n",
    "books = bsObject.select(\"li.proud_item\")\n",
    "for book in books:\n",
    "    title = book.select_one(\"div.title > a\").text.strip()\n",
    "    author = book.select_one(\"div.author\").text.strip()\n",
    "    price = book.select_one(\"div.price > strong\").text.strip()\n",
    "    print(title, author, price)"
   ]
  },
  {
   "cell_type": "code",
   "execution_count": null,
   "id": "0a52e19b",
   "metadata": {},
   "outputs": [],
   "source": []
  },
  {
   "cell_type": "code",
   "execution_count": null,
   "id": "136b6bb0",
   "metadata": {},
   "outputs": [],
   "source": []
  },
  {
   "cell_type": "code",
   "execution_count": null,
   "id": "b21a5046",
   "metadata": {},
   "outputs": [],
   "source": []
  },
  {
   "cell_type": "code",
   "execution_count": null,
   "id": "992818ce",
   "metadata": {},
   "outputs": [],
   "source": []
  },
  {
   "cell_type": "code",
   "execution_count": null,
   "id": "287de4a1",
   "metadata": {},
   "outputs": [],
   "source": []
  },
  {
   "cell_type": "code",
   "execution_count": null,
   "id": "e5f33e08",
   "metadata": {},
   "outputs": [],
   "source": []
  }
 ],
 "metadata": {
  "kernelspec": {
   "display_name": "Python 3 (ipykernel)",
   "language": "python",
   "name": "python3"
  },
  "language_info": {
   "codemirror_mode": {
    "name": "ipython",
    "version": 3
   },
   "file_extension": ".py",
   "mimetype": "text/x-python",
   "name": "python",
   "nbconvert_exporter": "python",
   "pygments_lexer": "ipython3",
   "version": "3.8.15"
  }
 },
 "nbformat": 4,
 "nbformat_minor": 5
}

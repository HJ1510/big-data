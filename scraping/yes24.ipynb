{
 "cells": [
  {
   "cell_type": "code",
   "execution_count": 1,
   "id": "a2c5b350",
   "metadata": {},
   "outputs": [
    {
     "name": "stderr",
     "output_type": "stream",
     "text": [
      "C:\\Users\\BIT\\miniconda3\\envs\\ml-env\\lib\\site-packages\\requests\\__init__.py:102: RequestsDependencyWarning: urllib3 (1.26.13) or chardet (5.1.0)/charset_normalizer (2.0.4) doesn't match a supported version!\n",
      "  warnings.warn(\"urllib3 ({}) or chardet ({})/charset_normalizer ({}) doesn't match a supported \"\n"
     ]
    }
   ],
   "source": [
    "import numpy as np\n",
    "import pandas as pd\n",
    "import requests\n",
    "from bs4 import BeautifulSoup\n",
    "import re #정규식 지원"
   ]
  },
  {
   "cell_type": "code",
   "execution_count": null,
   "id": "84077330",
   "metadata": {},
   "outputs": [],
   "source": [
    "url='http://www.yes24.com/24/Category/Display/001001046001?FetchSize=40'\n",
    "r = requests.get(url)\n",
    "print(r)\n",
    "html = requests.get(url).text\n",
    "soup = BeautifulSoup(html, 'lxml')\n",
    "print(soup)"
   ]
  },
  {
   "cell_type": "code",
   "execution_count": null,
   "id": "659ce33d",
   "metadata": {},
   "outputs": [],
   "source": [
    "url ='http://www.yes24.com/24/Category/Display/001001046001?FetchSize=40&PageNumber=3'\n",
    "html = requests.get(url).text\n",
    "soup = BeautifulSoup(html, 'lxml')\n",
    "url_tag = 'a.bgYUI.ico_nWin'\n",
    "book_url = soup.select(url_tag)\n",
    "print(book_url)\n",
    "print(len(book_url))"
   ]
  },
  {
   "cell_type": "code",
   "execution_count": null,
   "id": "ba6013fa",
   "metadata": {},
   "outputs": [],
   "source": [
    "linkList=[]\n",
    "for i in range(len(book_url)):\n",
    "    linkList.append(book_url[i].get('href'))\n",
    "    \n",
    "print(linkList)"
   ]
  },
  {
   "cell_type": "markdown",
   "id": "ec391105",
   "metadata": {},
   "source": [
    "1. 카테고리 페이지에서 각 도서별 url scraping"
   ]
  },
  {
   "cell_type": "code",
   "execution_count": 2,
   "id": "9bf558fb",
   "metadata": {},
   "outputs": [
    {
     "name": "stdout",
     "output_type": "stream",
     "text": [
      "[<a href=\"/Product/Goods/99308021\">불편한 편의점</a>, <a class=\"bgYUI ico_nWin\" href=\"/Product/Goods/99308021\" target=\"_blank\"></a>, <a href=\"/Product/Goods/111088149\">불편한 편의점 2</a>, <a class=\"bgYUI ico_nWin\" href=\"/Product/Goods/111088149\" target=\"_blank\"></a>, <a href=\"/Product/Goods/112253263\">아버지의 해방일지</a>, <a class=\"bgYUI ico_nWin\" href=\"/Product/Goods/112253263\" target=\"_blank\"></a>, <a href=\"/Product/Goods/17320795\">구의 증명</a>, <a class=\"bgYUI ico_nWin\" href=\"/Product/Goods/17320795\" target=\"_blank\"></a>, <a href=\"/Product/Goods/111085946\">하얼빈</a>, <a class=\"bgYUI ico_nWin\" href=\"/Product/Goods/111085946\" target=\"_blank\"></a>, <a href=\"/Product/Goods/108887930\">작별인사</a>, <a class=\"bgYUI ico_nWin\" href=\"/Product/Goods/108887930\" target=\"_blank\"></a>, <a href=\"/Product/Goods/113737429\">이토록 평범한 미래</a>, <a class=\"bgYUI ico_nWin\" href=\"/Product/Goods/113737429\" target=\"_blank\"></a>, <a href=\"/Product/Goods/91065309\">달러구트 꿈 백화점 (레인보우 에디션)</a>, <a class=\"bgYUI ico_nWin\" href=\"/Product/Goods/91065309\" target=\"_blank\"></a>, <a href=\"/Product/Goods/106211628\">어서 오세요, 휴남동 서점입니다</a>, <a class=\"bgYUI ico_nWin\" href=\"/Product/Goods/106211628\" target=\"_blank\"></a>, <a href=\"/Product/Goods/72172961\">사랑의 이해</a>, <a class=\"bgYUI ico_nWin\" href=\"/Product/Goods/72172961\" target=\"_blank\"></a>, <a href=\"/Product/Goods/117336493\">홈 스위트 홈</a>, <a class=\"bgYUI ico_nWin\" href=\"/Product/Goods/117336493\" target=\"_blank\"></a>, <a href=\"/Product/Goods/102789938\">달러구트 꿈 백화점 2 (레인보우 에디션)</a>, <a class=\"bgYUI ico_nWin\" href=\"/Product/Goods/102789938\" target=\"_blank\"></a>, <a href=\"/Product/Goods/117828174\">파쇄</a>, <a class=\"bgYUI ico_nWin\" href=\"/Product/Goods/117828174\" target=\"_blank\"></a>, <a href=\"/Product/Goods/89913383\">칵테일, 러브, 좀비</a>, <a class=\"bgYUI ico_nWin\" href=\"/Product/Goods/89913383\" target=\"_blank\"></a>, <a href=\"/Product/Goods/8759796\">모순</a>, <a class=\"bgYUI ico_nWin\" href=\"/Product/Goods/8759796\" target=\"_blank\"></a>, <a href=\"/Product/Goods/102687133\">밝은 밤</a>, <a class=\"bgYUI ico_nWin\" href=\"/Product/Goods/102687133\" target=\"_blank\"></a>, <a href=\"/Product/Goods/141729\">난장이가 쏘아올린 작은 공</a>, <a class=\"bgYUI ico_nWin\" href=\"/Product/Goods/141729\" target=\"_blank\"></a>, <a href=\"/Product/Goods/103026125\">지구 끝의 온실</a>, <a class=\"bgYUI ico_nWin\" href=\"/Product/Goods/103026125\" target=\"_blank\"></a>, <a href=\"/Product/Goods/74261416\">우리가 빛의 속도로 갈 수 없다면</a>, <a class=\"bgYUI ico_nWin\" href=\"/Product/Goods/74261416\" target=\"_blank\"></a>, <a href=\"/Product/Goods/8068409\">한국단편소설 40</a>, <a class=\"bgYUI ico_nWin\" href=\"/Product/Goods/8068409\" target=\"_blank\"></a>, <a href=\"/Product/Goods/27643793\">종의 기원</a>, <a class=\"bgYUI ico_nWin\" href=\"/Product/Goods/27643793\" target=\"_blank\"></a>, <a href=\"/Product/Goods/117029356\">내게 남은 사랑을 드릴게요</a>, <a class=\"bgYUI ico_nWin\" href=\"/Product/Goods/117029356\" target=\"_blank\"></a>, <a href=\"/Product/Goods/91766653\">천 개의 파랑</a>, <a class=\"bgYUI ico_nWin\" href=\"/Product/Goods/91766653\" target=\"_blank\"></a>, <a href=\"/Product/Goods/13137546\">소년이 온다</a>, <a class=\"bgYUI ico_nWin\" href=\"/Product/Goods/13137546\" target=\"_blank\"></a>, <a href=\"/Product/Goods/6271147\">가시고백</a>, <a class=\"bgYUI ico_nWin\" href=\"/Product/Goods/6271147\" target=\"_blank\"></a>, <a href=\"/Product/Goods/91901136\">살인자의 기억법</a>, <a class=\"bgYUI ico_nWin\" href=\"/Product/Goods/91901136\" target=\"_blank\"></a>, <a href=\"/Product/Goods/29288225\">쇼코의 미소</a>, <a class=\"bgYUI ico_nWin\" href=\"/Product/Goods/29288225\" target=\"_blank\"></a>, <a href=\"/Product/Goods/108422348\">채식주의자</a>, <a class=\"bgYUI ico_nWin\" href=\"/Product/Goods/108422348\" target=\"_blank\"></a>, <a href=\"/Product/Goods/43504366\">해가 지는 곳으로</a>, <a class=\"bgYUI ico_nWin\" href=\"/Product/Goods/43504366\" target=\"_blank\"></a>, <a href=\"/Product/Goods/108737140\">[최근담] 가꾸는 이의 즐거움</a>, <a class=\"bgYUI ico_nWin\" href=\"/Product/Goods/108737140\" target=\"_blank\"></a>, <a href=\"/Product/Goods/42798224\">바깥은 여름</a>, <a class=\"bgYUI ico_nWin\" href=\"/Product/Goods/42798224\" target=\"_blank\"></a>, <a href=\"/Product/Goods/37300128\">아몬드</a>, <a class=\"bgYUI ico_nWin\" href=\"/Product/Goods/37300128\" target=\"_blank\"></a>, <a href=\"/Product/Goods/72127217\">나는 소망한다 내게 금지된 것을</a>, <a class=\"bgYUI ico_nWin\" href=\"/Product/Goods/72127217\" target=\"_blank\"></a>, <a href=\"/Product/Goods/117228452\">러브 몬스터</a>, <a class=\"bgYUI ico_nWin\" href=\"/Product/Goods/117228452\" target=\"_blank\"></a>, <a href=\"/Product/Goods/111704883\">트로피컬 나이트</a>, <a class=\"bgYUI ico_nWin\" href=\"/Product/Goods/111704883\" target=\"_blank\"></a>, <a href=\"/Product/Goods/90367403\">시선으로부터,</a>, <a class=\"bgYUI ico_nWin\" href=\"/Product/Goods/90367403\" target=\"_blank\"></a>, <a href=\"/Product/Goods/59990444\">파과</a>, <a class=\"bgYUI ico_nWin\" href=\"/Product/Goods/59990444\" target=\"_blank\"></a>, <a href=\"/Product/Goods/9159388\">망원동 브라더스</a>, <a class=\"bgYUI ico_nWin\" href=\"/Product/Goods/9159388\" target=\"_blank\"></a>]\n",
      "76\n"
     ]
    }
   ],
   "source": [
    "url = 'http://www.yes24.com/24/Category/Display/001001046001?FetchSize=40&PageNumber=1'\n",
    "html = requests.get(url).text\n",
    "soup = BeautifulSoup(html, 'lxml')\n",
    "url_tag = 'div.goods_name>a'\n",
    "books = soup.select(url_tag)\n",
    "print(books)\n",
    "print(len(books))"
   ]
  },
  {
   "cell_type": "code",
   "execution_count": 3,
   "id": "b45d8f9c",
   "metadata": {},
   "outputs": [
    {
     "name": "stdout",
     "output_type": "stream",
     "text": [
      "['http://www.yes24.com//Product/Goods/99308021', 'http://www.yes24.com//Product/Goods/99308021', 'http://www.yes24.com//Product/Goods/111088149', 'http://www.yes24.com//Product/Goods/111088149', 'http://www.yes24.com//Product/Goods/112253263', 'http://www.yes24.com//Product/Goods/112253263', 'http://www.yes24.com//Product/Goods/17320795', 'http://www.yes24.com//Product/Goods/17320795', 'http://www.yes24.com//Product/Goods/111085946', 'http://www.yes24.com//Product/Goods/111085946', 'http://www.yes24.com//Product/Goods/108887930', 'http://www.yes24.com//Product/Goods/108887930', 'http://www.yes24.com//Product/Goods/113737429', 'http://www.yes24.com//Product/Goods/113737429', 'http://www.yes24.com//Product/Goods/91065309', 'http://www.yes24.com//Product/Goods/91065309', 'http://www.yes24.com//Product/Goods/106211628', 'http://www.yes24.com//Product/Goods/106211628', 'http://www.yes24.com//Product/Goods/72172961', 'http://www.yes24.com//Product/Goods/72172961', 'http://www.yes24.com//Product/Goods/117336493', 'http://www.yes24.com//Product/Goods/117336493', 'http://www.yes24.com//Product/Goods/102789938', 'http://www.yes24.com//Product/Goods/102789938', 'http://www.yes24.com//Product/Goods/117828174', 'http://www.yes24.com//Product/Goods/117828174', 'http://www.yes24.com//Product/Goods/89913383', 'http://www.yes24.com//Product/Goods/89913383', 'http://www.yes24.com//Product/Goods/8759796', 'http://www.yes24.com//Product/Goods/8759796', 'http://www.yes24.com//Product/Goods/102687133', 'http://www.yes24.com//Product/Goods/102687133', 'http://www.yes24.com//Product/Goods/141729', 'http://www.yes24.com//Product/Goods/141729', 'http://www.yes24.com//Product/Goods/103026125', 'http://www.yes24.com//Product/Goods/103026125', 'http://www.yes24.com//Product/Goods/74261416', 'http://www.yes24.com//Product/Goods/74261416', 'http://www.yes24.com//Product/Goods/8068409', 'http://www.yes24.com//Product/Goods/8068409', 'http://www.yes24.com//Product/Goods/27643793', 'http://www.yes24.com//Product/Goods/27643793', 'http://www.yes24.com//Product/Goods/117029356', 'http://www.yes24.com//Product/Goods/117029356', 'http://www.yes24.com//Product/Goods/91766653', 'http://www.yes24.com//Product/Goods/91766653', 'http://www.yes24.com//Product/Goods/13137546', 'http://www.yes24.com//Product/Goods/13137546', 'http://www.yes24.com//Product/Goods/6271147', 'http://www.yes24.com//Product/Goods/6271147', 'http://www.yes24.com//Product/Goods/91901136', 'http://www.yes24.com//Product/Goods/91901136', 'http://www.yes24.com//Product/Goods/29288225', 'http://www.yes24.com//Product/Goods/29288225', 'http://www.yes24.com//Product/Goods/108422348', 'http://www.yes24.com//Product/Goods/108422348', 'http://www.yes24.com//Product/Goods/43504366', 'http://www.yes24.com//Product/Goods/43504366', 'http://www.yes24.com//Product/Goods/108737140', 'http://www.yes24.com//Product/Goods/108737140', 'http://www.yes24.com//Product/Goods/42798224', 'http://www.yes24.com//Product/Goods/42798224', 'http://www.yes24.com//Product/Goods/37300128', 'http://www.yes24.com//Product/Goods/37300128', 'http://www.yes24.com//Product/Goods/72127217', 'http://www.yes24.com//Product/Goods/72127217', 'http://www.yes24.com//Product/Goods/117228452', 'http://www.yes24.com//Product/Goods/117228452', 'http://www.yes24.com//Product/Goods/111704883', 'http://www.yes24.com//Product/Goods/111704883', 'http://www.yes24.com//Product/Goods/90367403', 'http://www.yes24.com//Product/Goods/90367403', 'http://www.yes24.com//Product/Goods/59990444', 'http://www.yes24.com//Product/Goods/59990444', 'http://www.yes24.com//Product/Goods/9159388', 'http://www.yes24.com//Product/Goods/9159388']\n",
      "76\n"
     ]
    }
   ],
   "source": [
    "url_list=[]\n",
    "for book in books:\n",
    "    sub_url = 'http://www.yes24.com/' + book.get('href')\n",
    "    sub_soup = BeautifulSoup((requests.get(sub_url).text), 'lxml')\n",
    "    url_list.append(sub_url)\n",
    "            \n",
    "print(url_list)\n",
    "print(len(url_list))"
   ]
  },
  {
   "cell_type": "markdown",
   "id": "278fd220",
   "metadata": {},
   "source": [
    "2. 책 세부페이지에서 데이터 scraping"
   ]
  },
  {
   "cell_type": "code",
   "execution_count": 4,
   "id": "ca5b9d0c",
   "metadata": {},
   "outputs": [
    {
     "name": "stdout",
     "output_type": "stream",
     "text": [
      "안젤리크 \n"
     ]
    }
   ],
   "source": [
    "title_tag = '#yDetailTopWrap > div.topColRgt > div.gd_infoTop > div > h2'\n",
    "author_tag = '#yDetailTopWrap > div.topColRgt > div.gd_infoTop > span.gd_pubArea > span.gd_auth > a' \n",
    "publisher_tag = '#yDetailTopWrap > div.topColRgt > div.gd_infoTop > span.gd_pubArea > span.gd_pub > a'\n",
    "price_tag = 'em.yes_m'\n",
    "isbn_tag = '#infoset_specific > div.infoSetCont_wrap > div > table > tbody > tr:nth-child(3) > td'\n",
    "img_tag = 'img.gImg'\n",
    "category_tag = '#infoset_goodsCate > div.infoSetCont_wrap > dl > dd > ul > li:nth-child(1) > a:nth-child(4)'\n",
    "\n",
    "url ='http://www.yes24.com/Product/Goods/116208935'\n",
    "html = requests.get(url).text\n",
    "soup = BeautifulSoup(html, 'lxml')\n",
    "book_title = soup.select(title_tag)[0].text\n",
    "book_author = soup.select(author_tag)[0].text\n",
    "book_publisher = soup.select(publisher_tag)[0].text\n",
    "book_price = int(re.sub('[^0-9]', '', soup.select(price_tag)[0].text)) #정규식 사용\n",
    "book_isbn = soup.find('th', text='ISBN13').find_next_sibling('td').text\n",
    "book_img = soup.select(img_tag)[0].get('src')\n",
    "book_category = soup.select(category_tag)[0].text\n",
    "\n",
    "print(book_title)\n",
    "# print(book_author)\n",
    "# print(book_publisher)\n",
    "# print(book_price)\n",
    "# print(book_isbn)\n",
    "# print(book_img)\n",
    "# print(book_category)"
   ]
  },
  {
   "cell_type": "code",
   "execution_count": null,
   "id": "648088bd",
   "metadata": {},
   "outputs": [],
   "source": []
  },
  {
   "cell_type": "code",
   "execution_count": null,
   "id": "9040065d",
   "metadata": {},
   "outputs": [],
   "source": []
  },
  {
   "cell_type": "markdown",
   "id": "2fe82fa7",
   "metadata": {},
   "source": [
    "3. 함수 생성"
   ]
  },
  {
   "cell_type": "code",
   "execution_count": 23,
   "id": "984d9828",
   "metadata": {},
   "outputs": [],
   "source": [
    "def yes24DataReader(CategoryNum, startPage, endPage):\n",
    "\n",
    "    root_url = 'http://www.yes24.com'\n",
    "\n",
    "    url_1 = 'http://www.yes24.com/24/Category/Display/'\n",
    "    url_2 = '?PageNumber='\n",
    "    url_set = url_1 + CategoryNum + url_2\n",
    "    book_list=[]\n",
    "\n",
    "    # 월 별 조회 시 최대 50쪽이지만, 간단한 설명을 위해 2쪽까지만 수집\n",
    "    for i in range(startPage, endPage+1):\n",
    "\n",
    "        url = url_set + str(i)\n",
    "        html = requests.get(url).text\n",
    "        soup = BeautifulSoup(html, 'lxml')\n",
    "        url_tag = 'a.bgYUI.ico_nWin'\n",
    "        books = soup.select(url_tag)\n",
    "\n",
    "        # 수집 중인 페이지 번호 출력\n",
    "        print('# Page', i)\n",
    "\n",
    "        # 개별 도서 정보 수집\n",
    "        for book in books:\n",
    "\n",
    "            sub_url = root_url + book.get('href')\n",
    "            sub_html = requests.get(sub_url).text\n",
    "            sub_soup = BeautifulSoup(sub_html, 'lxml')            \n",
    "#             print(sub_url)\n",
    "\n",
    "            title_tag = '#yDetailTopWrap > div.topColRgt > div.gd_infoTop > div > h2'\n",
    "            author_tag = '#yDetailTopWrap > div.topColRgt > div.gd_infoTop > span.gd_pubArea > span.gd_auth > a' \n",
    "            publisher_tag = '#yDetailTopWrap > div.topColRgt > div.gd_infoTop > span.gd_pubArea > span.gd_pub > a'\n",
    "            isbn_tag = '#infoset_specific > div.infoSetCont_wrap > div > table > tbody > tr:nth-child(3) > td'\n",
    "            img_tag = 'img.gImg'\n",
    "            category_tag = '#infoset_goodsCate > div.infoSetCont_wrap > dl > dd > ul > li:nth-child(1) > a:nth-child(4)'\n",
    "\n",
    "\n",
    "            book_title = sub_soup.select(title_tag)[0].text.strip()\n",
    "            book_author = sub_soup.select(author_tag)[0].text\n",
    "            book_publisher = sub_soup.select(publisher_tag)[0].text\n",
    "            try :\n",
    "                book_isbn = sub_soup.find('th', text='ISBN13').find_next_sibling('td').text\n",
    "            except :\n",
    "                book_isbn = ''\n",
    "                \n",
    "            book_img = sub_soup.select(img_tag)[0].get('src')\n",
    "            book_category = sub_soup.select(category_tag)[0].text\n",
    "\n",
    "#             print(book_title)\n",
    "#             print(book_author)\n",
    "#             print(book_publisher)\n",
    "#             print(book_price)\n",
    "#             print(book_isbn)\n",
    "#             print(book_img)\n",
    "#             print(book_category)\n",
    "\n",
    "            book_list.append([book_title, book_author, book_publisher, book_isbn, book_img, book_category])\n",
    "\n",
    "            print('=========>', book_title)\n",
    "\n",
    "    # 데이터프레임 컬럼명 지정\n",
    "    colList = ['book_title',  'book_author', 'book_publisher',  'book_ISBN', 'book_img_url', 'book_category']\n",
    "\n",
    "    # 데이터프레임으로 변환\n",
    "    df = pd.DataFrame(np.array(book_list), columns=colList)\n",
    "\n",
    "    return df"
   ]
  },
  {
   "cell_type": "code",
   "execution_count": 24,
   "id": "24540ae9",
   "metadata": {},
   "outputs": [
    {
     "name": "stdout",
     "output_type": "stream",
     "text": [
      "# Page 1\n",
      "=========> 안젤리크\n",
      "=========> 이방인\n",
      "=========> 이방인\n",
      "=========> 단순한 열정\n",
      "=========> 어린 왕자\n",
      "=========> 브람스를 좋아하세요...\n",
      "=========> 왜 나는 너를 사랑하는가\n",
      "=========> 페스트\n",
      "=========> 자기 앞의 생\n",
      "=========> 나무를 심은 사람\n",
      "=========> 초판본 어린왕자\n",
      "=========> [예스리커버] 장자크 상페 특별판 세트\n",
      "=========> 낭만적 연애와 그 후의 일상\n",
      "=========> 행성 1\n",
      "=========> 행성 2\n",
      "=========> 고리오 영감\n",
      "=========> 센 강의 이름 모를 여인\n",
      "=========> 아노말리\n",
      "=========> 애린 왕자\n",
      "=========> 어린 왕자\n",
      "# Page 2\n",
      "=========> 고양이 1\n",
      "=========> 잃어버린 시간을 찾아서 1-6 세트\n",
      "=========> 집착\n",
      "=========> 당신, 거기 있어줄래요? Seras-tu la?\n",
      "=========> 탐닉\n",
      "=========> 고양이 2\n",
      "=========> 야간비행\n",
      "=========> 잃어버린 시간을 찾아서 7~13 세트\n",
      "=========> 초판본 웃는 남자\n",
      "=========> 레 미제라블 세트\n",
      "=========> 남자의 자리\n",
      "=========> 부끄러움\n",
      "=========> 한 여자\n",
      "=========> 꾸뻬 씨의 행복 여행\n",
      "=========> 반항하는 인간\n",
      "=========> 세월\n",
      "=========> 브람스를 좋아하세요...\n",
      "=========> 구토\n",
      "=========> 패배의 신호\n",
      "=========> 문명 1\n"
     ]
    }
   ],
   "source": [
    "CategoryNumber='001001046005'\n",
    "startPage=1\n",
    "endPage=2\n",
    "df = yes24DataReader(CategoryNumber, startPage, endPage)\n",
    "df\n",
    "df.to_csv(str(CategoryNumber)+'_'+str(startPage)+' to '+str(endPage)+'.csv', index=False, encoding='CP949')"
   ]
  },
  {
   "cell_type": "code",
   "execution_count": null,
   "id": "eca7555f",
   "metadata": {},
   "outputs": [],
   "source": []
  },
  {
   "cell_type": "code",
   "execution_count": null,
   "id": "16f0334c",
   "metadata": {},
   "outputs": [],
   "source": []
  },
  {
   "cell_type": "markdown",
   "id": "9edd50a9",
   "metadata": {},
   "source": [
    "인코딩 방식 확인  \n",
    "\n",
    "\n",
    "pip install chardet"
   ]
  },
  {
   "cell_type": "code",
   "execution_count": 9,
   "id": "a30ceafd",
   "metadata": {},
   "outputs": [
    {
     "name": "stdout",
     "output_type": "stream",
     "text": [
      "utf-8\n"
     ]
    }
   ],
   "source": [
    "import chardet\n",
    "\n",
    "# 파일 경로 설정\n",
    "file_path = \"./001001046005_1 to 2.csv\"\n",
    "\n",
    "# 파일 바이너리 모드로 열기\n",
    "with open(file_path, 'rb') as f:\n",
    "    # 파일 내용 읽기\n",
    "    contents = f.read()\n",
    "\n",
    "    # 파일 인코딩 탐지\n",
    "    result = chardet.detect(contents)\n",
    "\n",
    "    # 탐지된 인코딩 출력\n",
    "    print(result['encoding'])\n"
   ]
  },
  {
   "cell_type": "code",
   "execution_count": null,
   "id": "d3a41283",
   "metadata": {},
   "outputs": [],
   "source": []
  },
  {
   "cell_type": "code",
   "execution_count": null,
   "id": "29c8ac0a",
   "metadata": {},
   "outputs": [],
   "source": []
  },
  {
   "cell_type": "markdown",
   "id": "8f51cf97",
   "metadata": {},
   "source": [
    "* 카테고리 리스트"
   ]
  },
  {
   "cell_type": "code",
   "execution_count": 10,
   "id": "657f8047",
   "metadata": {},
   "outputs": [],
   "source": [
    "url='http://www.yes24.com/Mall/Main/Book/001?CategoryNumber=001'\n",
    "html = requests.get(url).text\n",
    "soup = BeautifulSoup(html, 'lxml')"
   ]
  },
  {
   "cell_type": "code",
   "execution_count": 11,
   "id": "db829fb2",
   "metadata": {},
   "outputs": [
    {
     "name": "stdout",
     "output_type": "stream",
     "text": [
      "[<em class=\"txt\">가정 살림</em>, <em class=\"txt\">건강 취미</em>, <em class=\"txt\">경제 경영</em>, <em class=\"txt\">국어 외국어 사전</em>, <em class=\"txt\">대학교재</em>, <em class=\"txt\">만화/라이트노벨</em>, <em class=\"txt\">사회 정치</em>, <em class=\"txt\">소설/시/희곡</em>, <em class=\"txt\">수험서 자격증</em>, <em class=\"txt\">어린이</em>, <em class=\"txt\">에세이</em>, <em class=\"txt\">여행</em>, <em class=\"txt\">역사</em>, <em class=\"txt\">예술</em>, <em class=\"txt\">유아</em>, <em class=\"txt\">인문</em>, <em class=\"txt\">인물</em>, <em class=\"txt\">자기계발</em>, <em class=\"txt\">자연과학</em>, <em class=\"txt\">잡지</em>, <em class=\"txt\">전집</em>, <em class=\"txt\">종교</em>, <em class=\"txt\">청소년</em>, <em class=\"txt\">IT 모바일</em>, <em class=\"txt\">초등참고서</em>, <em class=\"txt\">중고등참고서</em>]\n",
      "[<a class=\"lnk_cate2d\" data-submenu-id=\"mCateLi_000\" href=\"http://www.yes24.com/24/Category/Display/001001001\" onclick=\"setCdCode('001_001')\" style=\"\"><em class=\"txt\">가정 살림</em></a>, <a class=\"lnk_cate2d\" data-submenu-id=\"mCateLi_001\" href=\"http://www.yes24.com/24/Category/Display/001001011\" onclick=\"setCdCode('001_001')\" style=\"\"><em class=\"txt\">건강 취미</em></a>, <a class=\"lnk_cate2d\" data-submenu-id=\"mCateLi_002\" href=\"http://www.yes24.com/24/Category/Display/001001025\" onclick=\"setCdCode('001_001')\" style=\"\"><em class=\"txt\">경제 경영</em></a>, <a class=\"lnk_cate2d\" data-submenu-id=\"mCateLi_003\" href=\"http://www.yes24.com/24/Category/Display/001001004\" onclick=\"setCdCode('001_001')\" style=\"\"><em class=\"txt\">국어 외국어 사전</em></a>, <a class=\"lnk_cate2d\" data-submenu-id=\"mCateLi_004\" href=\"http://www.yes24.com/24/Category/Display/001001014\" onclick=\"setCdCode('001_001')\" style=\"\"><em class=\"txt\">대학교재</em></a>, <a class=\"lnk_cate2d\" data-submenu-id=\"mCateLi_005\" href=\"http://www.yes24.com/24/Category/Display/001001008\" onclick=\"setCdCode('001_001')\" style=\"\"><em class=\"txt\">만화/라이트노벨</em></a>, <a class=\"lnk_cate2d\" data-submenu-id=\"mCateLi_006\" href=\"http://www.yes24.com/24/Category/Display/001001022\" onclick=\"setCdCode('001_001')\" style=\"\"><em class=\"txt\">사회 정치</em></a>, <a class=\"lnk_cate2d\" data-submenu-id=\"mCateLi_007\" href=\"http://www.yes24.com/24/Category/Display/001001046\" onclick=\"setCdCode('001_001')\" style=\"\"><em class=\"txt\">소설/시/희곡</em></a>, <a class=\"lnk_cate2d\" data-submenu-id=\"mCateLi_008\" href=\"http://www.yes24.com/24/Category/Display/001001015\" onclick=\"setCdCode('001_001')\" style=\"\"><em class=\"txt\">수험서 자격증</em></a>, <a class=\"lnk_cate2d\" data-submenu-id=\"mCateLi_009\" href=\"http://www.yes24.com/24/Category/Display/001001016\" onclick=\"setCdCode('001_001')\" style=\"\"><em class=\"txt\">어린이</em></a>, <a class=\"lnk_cate2d\" data-submenu-id=\"mCateLi_0010\" href=\"http://www.yes24.com/24/Category/Display/001001047\" onclick=\"setCdCode('001_001')\" style=\"\"><em class=\"txt\">에세이</em></a>, <a class=\"lnk_cate2d\" data-submenu-id=\"mCateLi_0011\" href=\"http://www.yes24.com/24/Category/Display/001001009\" onclick=\"setCdCode('001_001')\" style=\"\"><em class=\"txt\">여행</em></a>, <a class=\"lnk_cate2d\" data-submenu-id=\"mCateLi_0012\" href=\"http://www.yes24.com/24/Category/Display/001001010\" onclick=\"setCdCode('001_001')\" style=\"\"><em class=\"txt\">역사</em></a>, <a class=\"lnk_cate2d\" data-submenu-id=\"mCateLi_0013\" href=\"http://www.yes24.com/24/Category/Display/001001007\" onclick=\"setCdCode('001_001')\" style=\"\"><em class=\"txt\">예술</em></a>, <a class=\"lnk_cate2d\" data-submenu-id=\"mCateLi_0014\" href=\"http://www.yes24.com/24/Category/Display/001001027\" onclick=\"setCdCode('001_001')\" style=\"\"><em class=\"txt\">유아</em></a>, <a class=\"lnk_cate2d\" data-submenu-id=\"mCateLi_0015\" href=\"http://www.yes24.com/24/Category/Display/001001019\" onclick=\"setCdCode('001_001')\" style=\"\"><em class=\"txt\">인문</em></a>, <a class=\"lnk_cate2d\" data-submenu-id=\"mCateLi_0016\" href=\"http://www.yes24.com/24/Category/Display/001001020\" onclick=\"setCdCode('001_001')\" style=\"\"><em class=\"txt\">인물</em></a>, <a class=\"lnk_cate2d\" data-submenu-id=\"mCateLi_0017\" href=\"http://www.yes24.com/24/Category/Display/001001026\" onclick=\"setCdCode('001_001')\" style=\"\"><em class=\"txt\">자기계발</em></a>, <a class=\"lnk_cate2d\" data-submenu-id=\"mCateLi_0018\" href=\"http://www.yes24.com/24/Category/Display/001001002\" onclick=\"setCdCode('001_001')\" style=\"\"><em class=\"txt\">자연과학</em></a>, <a class=\"lnk_cate2d\" data-submenu-id=\"mCateLi_0019\" href=\"http://www.yes24.com/24/Category/Display/001001024\" onclick=\"setCdCode('001_001')\" style=\"\"><em class=\"txt\">잡지</em></a>, <a class=\"lnk_cate2d\" data-submenu-id=\"mCateLi_0020\" href=\"http://www.yes24.com/24/Category/Display/001001023\" onclick=\"setCdCode('001_001')\" style=\"\"><em class=\"txt\">전집</em></a>, <a class=\"lnk_cate2d\" data-submenu-id=\"mCateLi_0021\" href=\"http://www.yes24.com/24/Category/Display/001001021\" onclick=\"setCdCode('001_001')\" style=\"\"><em class=\"txt\">종교</em></a>, <a class=\"lnk_cate2d\" data-submenu-id=\"mCateLi_0022\" href=\"http://www.yes24.com/24/Category/Display/001001005\" onclick=\"setCdCode('001_001')\" style=\"\"><em class=\"txt\">청소년</em></a>, <a class=\"lnk_cate2d\" data-submenu-id=\"mCateLi_0023\" href=\"http://www.yes24.com/24/Category/Display/001001003\" onclick=\"setCdCode('001_001')\" style=\"\"><em class=\"txt\">IT 모바일</em></a>, <a class=\"lnk_cate2d\" data-submenu-id=\"mCateLi_0024\" href=\"http://www.yes24.com/24/Category/Display/001001044\" onclick=\"setCdCode('001_001')\" style=\"\"><em class=\"txt\">초등참고서</em></a>, <a class=\"lnk_cate2d\" data-submenu-id=\"mCateLi_0025\" href=\"http://www.yes24.com/24/Category/Display/001001013\" onclick=\"setCdCode('001_001')\" style=\"\"><em class=\"txt\">중고등참고서</em></a>]\n"
     ]
    }
   ],
   "source": [
    "categorys = soup.select('li.cate2d>a>em')\n",
    "categoryNums = soup.select('li.cate2d>a')\n",
    "re.findall('\\d+', soup.select('li.cate2d>a')[0].get('href'))[-1]\n",
    "\n",
    "print(categorys)\n",
    "print(categoryNums)"
   ]
  },
  {
   "cell_type": "code",
   "execution_count": 12,
   "id": "f01e1ec8",
   "metadata": {},
   "outputs": [
    {
     "name": "stdout",
     "output_type": "stream",
     "text": [
      "['가정 살림', '건강 취미', '경제 경영', '국어 외국어 사전', '대학교재', '만화/라이트노벨', '사회 정치', '소설/시/희곡', '수험서 자격증', '어린이', '에세이', '여행', '역사', '예술', '유아', '인문', '인물', '자기계발', '자연과학', '잡지', '전집', '종교', '청소년', 'IT 모바일', '초등참고서', '중고등참고서']\n",
      "26\n",
      "['001001001', '001001011', '001001025', '001001004', '001001014', '001001008', '001001022', '001001046', '001001015', '001001016', '001001047', '001001009', '001001010', '001001007', '001001027', '001001019', '001001020', '001001026', '001001002', '001001024', '001001023', '001001021', '001001005', '001001003', '001001044', '001001013']\n"
     ]
    }
   ],
   "source": [
    "categoryList=[]\n",
    "categoryNumsList=[]\n",
    "for category in categorys:\n",
    "    categoryList.append(category.text)\n",
    "\n",
    "print(categoryList)\n",
    "print(len(categoryList))\n",
    "\n",
    "for categoryNum in categoryNums:\n",
    "    categoryNumsList.append(re.findall('\\d+', categoryNum.get('href'))[-1])\n",
    "print(categoryNumsList)"
   ]
  },
  {
   "cell_type": "code",
   "execution_count": 18,
   "id": "2137618b",
   "metadata": {},
   "outputs": [],
   "source": [
    "df=pd.DataFrame({\"book_category_name\":categoryList})\n",
    "df.to_csv(\"E:\\source\\scraping/yes24category_UTF8.csv\", index = False, encoding='UTF8')"
   ]
  },
  {
   "cell_type": "code",
   "execution_count": null,
   "id": "47f6c777",
   "metadata": {},
   "outputs": [],
   "source": []
  },
  {
   "cell_type": "code",
   "execution_count": null,
   "id": "38ccf31b",
   "metadata": {},
   "outputs": [],
   "source": []
  },
  {
   "cell_type": "code",
   "execution_count": null,
   "id": "aaffbb0b",
   "metadata": {},
   "outputs": [],
   "source": []
  },
  {
   "cell_type": "code",
   "execution_count": null,
   "id": "9fdd11d5",
   "metadata": {},
   "outputs": [],
   "source": []
  }
 ],
 "metadata": {
  "kernelspec": {
   "display_name": "Python 3 (ipykernel)",
   "language": "python",
   "name": "python3"
  },
  "language_info": {
   "codemirror_mode": {
    "name": "ipython",
    "version": 3
   },
   "file_extension": ".py",
   "mimetype": "text/x-python",
   "name": "python",
   "nbconvert_exporter": "python",
   "pygments_lexer": "ipython3",
   "version": "3.8.15"
  }
 },
 "nbformat": 4,
 "nbformat_minor": 5
}
